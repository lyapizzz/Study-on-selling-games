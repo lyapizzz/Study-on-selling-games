{
 "cells": [
  {
   "cell_type": "markdown",
   "metadata": {},
   "source": [
    "# Исследование о продаже игр"
   ]
  },
  {
   "cell_type": "markdown",
   "metadata": {},
   "source": [
    "Интернет-магазине продаёт по всему миру компьютерные игры. Из открытых источников доступны исторические данные о продажах игр, оценки пользователей и экспертов, жанры и платформы (например, Xbox или PlayStation). Вам нужно выявить определяющие успешность игры закономерности. Это позволит сделать ставку на потенциально популярный продукт и спланировать рекламные кампании.\n",
    "\n",
    "Перед вами данные до 2016 года. Представим, что сейчас декабрь 2016 г., и вы планируете кампанию на 2017-й. "
   ]
  },
  {
   "cell_type": "markdown",
   "metadata": {},
   "source": [
    "## Откроем файл и изучим полную информацию"
   ]
  },
  {
   "cell_type": "code",
   "execution_count": 1,
   "metadata": {},
   "outputs": [],
   "source": [
    "import pandas as pd\n",
    "import numpy as np\n",
    "import matplotlib.pyplot as plt\n",
    "import seaborn as sns\n",
    "from scipy import stats as st"
   ]
  },
  {
   "cell_type": "code",
   "execution_count": 2,
   "metadata": {},
   "outputs": [],
   "source": [
    "data = pd.read_csv('/datasets/games.csv')"
   ]
  },
  {
   "cell_type": "code",
   "execution_count": 3,
   "metadata": {},
   "outputs": [
    {
     "data": {
      "text/html": [
       "<div>\n",
       "<style scoped>\n",
       "    .dataframe tbody tr th:only-of-type {\n",
       "        vertical-align: middle;\n",
       "    }\n",
       "\n",
       "    .dataframe tbody tr th {\n",
       "        vertical-align: top;\n",
       "    }\n",
       "\n",
       "    .dataframe thead th {\n",
       "        text-align: right;\n",
       "    }\n",
       "</style>\n",
       "<table border=\"1\" class=\"dataframe\">\n",
       "  <thead>\n",
       "    <tr style=\"text-align: right;\">\n",
       "      <th></th>\n",
       "      <th>Name</th>\n",
       "      <th>Platform</th>\n",
       "      <th>Year_of_Release</th>\n",
       "      <th>Genre</th>\n",
       "      <th>NA_sales</th>\n",
       "      <th>EU_sales</th>\n",
       "      <th>JP_sales</th>\n",
       "      <th>Other_sales</th>\n",
       "      <th>Critic_Score</th>\n",
       "      <th>User_Score</th>\n",
       "      <th>Rating</th>\n",
       "    </tr>\n",
       "  </thead>\n",
       "  <tbody>\n",
       "    <tr>\n",
       "      <th>0</th>\n",
       "      <td>Wii Sports</td>\n",
       "      <td>Wii</td>\n",
       "      <td>2006.0</td>\n",
       "      <td>Sports</td>\n",
       "      <td>41.36</td>\n",
       "      <td>28.96</td>\n",
       "      <td>3.77</td>\n",
       "      <td>8.45</td>\n",
       "      <td>76.0</td>\n",
       "      <td>8</td>\n",
       "      <td>E</td>\n",
       "    </tr>\n",
       "    <tr>\n",
       "      <th>1</th>\n",
       "      <td>Super Mario Bros.</td>\n",
       "      <td>NES</td>\n",
       "      <td>1985.0</td>\n",
       "      <td>Platform</td>\n",
       "      <td>29.08</td>\n",
       "      <td>3.58</td>\n",
       "      <td>6.81</td>\n",
       "      <td>0.77</td>\n",
       "      <td>NaN</td>\n",
       "      <td>NaN</td>\n",
       "      <td>NaN</td>\n",
       "    </tr>\n",
       "    <tr>\n",
       "      <th>2</th>\n",
       "      <td>Mario Kart Wii</td>\n",
       "      <td>Wii</td>\n",
       "      <td>2008.0</td>\n",
       "      <td>Racing</td>\n",
       "      <td>15.68</td>\n",
       "      <td>12.76</td>\n",
       "      <td>3.79</td>\n",
       "      <td>3.29</td>\n",
       "      <td>82.0</td>\n",
       "      <td>8.3</td>\n",
       "      <td>E</td>\n",
       "    </tr>\n",
       "    <tr>\n",
       "      <th>3</th>\n",
       "      <td>Wii Sports Resort</td>\n",
       "      <td>Wii</td>\n",
       "      <td>2009.0</td>\n",
       "      <td>Sports</td>\n",
       "      <td>15.61</td>\n",
       "      <td>10.93</td>\n",
       "      <td>3.28</td>\n",
       "      <td>2.95</td>\n",
       "      <td>80.0</td>\n",
       "      <td>8</td>\n",
       "      <td>E</td>\n",
       "    </tr>\n",
       "    <tr>\n",
       "      <th>4</th>\n",
       "      <td>Pokemon Red/Pokemon Blue</td>\n",
       "      <td>GB</td>\n",
       "      <td>1996.0</td>\n",
       "      <td>Role-Playing</td>\n",
       "      <td>11.27</td>\n",
       "      <td>8.89</td>\n",
       "      <td>10.22</td>\n",
       "      <td>1.00</td>\n",
       "      <td>NaN</td>\n",
       "      <td>NaN</td>\n",
       "      <td>NaN</td>\n",
       "    </tr>\n",
       "  </tbody>\n",
       "</table>\n",
       "</div>"
      ],
      "text/plain": [
       "                       Name Platform  Year_of_Release         Genre  NA_sales  \\\n",
       "0                Wii Sports      Wii           2006.0        Sports     41.36   \n",
       "1         Super Mario Bros.      NES           1985.0      Platform     29.08   \n",
       "2            Mario Kart Wii      Wii           2008.0        Racing     15.68   \n",
       "3         Wii Sports Resort      Wii           2009.0        Sports     15.61   \n",
       "4  Pokemon Red/Pokemon Blue       GB           1996.0  Role-Playing     11.27   \n",
       "\n",
       "   EU_sales  JP_sales  Other_sales  Critic_Score User_Score Rating  \n",
       "0     28.96      3.77         8.45          76.0          8      E  \n",
       "1      3.58      6.81         0.77           NaN        NaN    NaN  \n",
       "2     12.76      3.79         3.29          82.0        8.3      E  \n",
       "3     10.93      3.28         2.95          80.0          8      E  \n",
       "4      8.89     10.22         1.00           NaN        NaN    NaN  "
      ]
     },
     "execution_count": 3,
     "metadata": {},
     "output_type": "execute_result"
    }
   ],
   "source": [
    "data.head()\n",
    "# Посмотрим первые 5 строк таблицы"
   ]
  },
  {
   "cell_type": "code",
   "execution_count": 4,
   "metadata": {},
   "outputs": [
    {
     "name": "stdout",
     "output_type": "stream",
     "text": [
      "<class 'pandas.core.frame.DataFrame'>\n",
      "RangeIndex: 16715 entries, 0 to 16714\n",
      "Data columns (total 11 columns):\n",
      " #   Column           Non-Null Count  Dtype  \n",
      "---  ------           --------------  -----  \n",
      " 0   Name             16713 non-null  object \n",
      " 1   Platform         16715 non-null  object \n",
      " 2   Year_of_Release  16446 non-null  float64\n",
      " 3   Genre            16713 non-null  object \n",
      " 4   NA_sales         16715 non-null  float64\n",
      " 5   EU_sales         16715 non-null  float64\n",
      " 6   JP_sales         16715 non-null  float64\n",
      " 7   Other_sales      16715 non-null  float64\n",
      " 8   Critic_Score     8137 non-null   float64\n",
      " 9   User_Score       10014 non-null  object \n",
      " 10  Rating           9949 non-null   object \n",
      "dtypes: float64(6), object(5)\n",
      "memory usage: 1.4+ MB\n"
     ]
    }
   ],
   "source": [
    "data.info()\n",
    "# посмотрим полную информацию о наборе данных"
   ]
  },
  {
   "cell_type": "code",
   "execution_count": 5,
   "metadata": {},
   "outputs": [
    {
     "data": {
      "text/plain": [
       "Name                  2\n",
       "Platform              0\n",
       "Year_of_Release     269\n",
       "Genre                 2\n",
       "NA_sales              0\n",
       "EU_sales              0\n",
       "JP_sales              0\n",
       "Other_sales           0\n",
       "Critic_Score       8578\n",
       "User_Score         6701\n",
       "Rating             6766\n",
       "dtype: int64"
      ]
     },
     "execution_count": 5,
     "metadata": {},
     "output_type": "execute_result"
    }
   ],
   "source": [
    "data.isna().sum()\n",
    "# Проверим пропуски в столбцах"
   ]
  },
  {
   "cell_type": "code",
   "execution_count": 6,
   "metadata": {},
   "outputs": [
    {
     "data": {
      "text/plain": [
       "'Общая гистограмма таблицы'"
      ]
     },
     "execution_count": 6,
     "metadata": {},
     "output_type": "execute_result"
    },
    {
     "data": {
      "image/png": "[encoded data removed]",
      "text/plain": [
       "<Figure size 1080x1440 with 6 Axes>"
      ]
     },
     "metadata": {
      "needs_background": "light"
     },
     "output_type": "display_data"
    }
   ],
   "source": [
    "data.hist(figsize=(15, 20))\n",
    "\"Общая гистограмма таблицы\""
   ]
  },
  {
   "cell_type": "markdown",
   "metadata": {},
   "source": [
    "Отрицательных значений нигде нет и это хорошо) Однако есть много пропущенных значений в столбцах с пользовательскими оценками и оценками критиков, а так же в возрастном рейтинге. Ещё немного пропусков есть в годах выпуска игры, а так же этот столбец имеет не верный формат. И везде втречается верхний регистр, как в названии столбцов, так и в самих данных. Начнём всё это исправлять на следующем этапе. "
   ]
  },
  {
   "cell_type": "markdown",
   "metadata": {},
   "source": [
    "## Предобработка данных"
   ]
  },
  {
   "cell_type": "markdown",
   "metadata": {},
   "source": [
    "### Начнём с преобразования данных в нижний регистр"
   ]
  },
  {
   "cell_type": "code",
   "execution_count": 7,
   "metadata": {},
   "outputs": [],
   "source": [
    "data.columns = data.columns.str.lower()"
   ]
  },
  {
   "cell_type": "code",
   "execution_count": 8,
   "metadata": {},
   "outputs": [],
   "source": [
    "data['name'] = data['name'].str.lower()\n",
    "data['platform'] = data['platform'].str.lower()\n",
    "data['genre'] = data['genre'].str.lower()"
   ]
  },
  {
   "cell_type": "code",
   "execution_count": 9,
   "metadata": {},
   "outputs": [
    {
     "data": {
      "text/html": [
       "<div>\n",
       "<style scoped>\n",
       "    .dataframe tbody tr th:only-of-type {\n",
       "        vertical-align: middle;\n",
       "    }\n",
       "\n",
       "    .dataframe tbody tr th {\n",
       "        vertical-align: top;\n",
       "    }\n",
       "\n",
       "    .dataframe thead th {\n",
       "        text-align: right;\n",
       "    }\n",
       "</style>\n",
       "<table border=\"1\" class=\"dataframe\">\n",
       "  <thead>\n",
       "    <tr style=\"text-align: right;\">\n",
       "      <th></th>\n",
       "      <th>name</th>\n",
       "      <th>platform</th>\n",
       "      <th>year_of_release</th>\n",
       "      <th>genre</th>\n",
       "      <th>na_sales</th>\n",
       "      <th>eu_sales</th>\n",
       "      <th>jp_sales</th>\n",
       "      <th>other_sales</th>\n",
       "      <th>critic_score</th>\n",
       "      <th>user_score</th>\n",
       "      <th>rating</th>\n",
       "    </tr>\n",
       "  </thead>\n",
       "  <tbody>\n",
       "    <tr>\n",
       "      <th>0</th>\n",
       "      <td>wii sports</td>\n",
       "      <td>wii</td>\n",
       "      <td>2006.0</td>\n",
       "      <td>sports</td>\n",
       "      <td>41.36</td>\n",
       "      <td>28.96</td>\n",
       "      <td>3.77</td>\n",
       "      <td>8.45</td>\n",
       "      <td>76.0</td>\n",
       "      <td>8</td>\n",
       "      <td>E</td>\n",
       "    </tr>\n",
       "    <tr>\n",
       "      <th>1</th>\n",
       "      <td>super mario bros.</td>\n",
       "      <td>nes</td>\n",
       "      <td>1985.0</td>\n",
       "      <td>platform</td>\n",
       "      <td>29.08</td>\n",
       "      <td>3.58</td>\n",
       "      <td>6.81</td>\n",
       "      <td>0.77</td>\n",
       "      <td>NaN</td>\n",
       "      <td>NaN</td>\n",
       "      <td>NaN</td>\n",
       "    </tr>\n",
       "    <tr>\n",
       "      <th>2</th>\n",
       "      <td>mario kart wii</td>\n",
       "      <td>wii</td>\n",
       "      <td>2008.0</td>\n",
       "      <td>racing</td>\n",
       "      <td>15.68</td>\n",
       "      <td>12.76</td>\n",
       "      <td>3.79</td>\n",
       "      <td>3.29</td>\n",
       "      <td>82.0</td>\n",
       "      <td>8.3</td>\n",
       "      <td>E</td>\n",
       "    </tr>\n",
       "    <tr>\n",
       "      <th>3</th>\n",
       "      <td>wii sports resort</td>\n",
       "      <td>wii</td>\n",
       "      <td>2009.0</td>\n",
       "      <td>sports</td>\n",
       "      <td>15.61</td>\n",
       "      <td>10.93</td>\n",
       "      <td>3.28</td>\n",
       "      <td>2.95</td>\n",
       "      <td>80.0</td>\n",
       "      <td>8</td>\n",
       "      <td>E</td>\n",
       "    </tr>\n",
       "    <tr>\n",
       "      <th>4</th>\n",
       "      <td>pokemon red/pokemon blue</td>\n",
       "      <td>gb</td>\n",
       "      <td>1996.0</td>\n",
       "      <td>role-playing</td>\n",
       "      <td>11.27</td>\n",
       "      <td>8.89</td>\n",
       "      <td>10.22</td>\n",
       "      <td>1.00</td>\n",
       "      <td>NaN</td>\n",
       "      <td>NaN</td>\n",
       "      <td>NaN</td>\n",
       "    </tr>\n",
       "  </tbody>\n",
       "</table>\n",
       "</div>"
      ],
      "text/plain": [
       "                       name platform  year_of_release         genre  na_sales  \\\n",
       "0                wii sports      wii           2006.0        sports     41.36   \n",
       "1         super mario bros.      nes           1985.0      platform     29.08   \n",
       "2            mario kart wii      wii           2008.0        racing     15.68   \n",
       "3         wii sports resort      wii           2009.0        sports     15.61   \n",
       "4  pokemon red/pokemon blue       gb           1996.0  role-playing     11.27   \n",
       "\n",
       "   eu_sales  jp_sales  other_sales  critic_score user_score rating  \n",
       "0     28.96      3.77         8.45          76.0          8      E  \n",
       "1      3.58      6.81         0.77           NaN        NaN    NaN  \n",
       "2     12.76      3.79         3.29          82.0        8.3      E  \n",
       "3     10.93      3.28         2.95          80.0          8      E  \n",
       "4      8.89     10.22         1.00           NaN        NaN    NaN  "
      ]
     },
     "execution_count": 9,
     "metadata": {},
     "output_type": "execute_result"
    }
   ],
   "source": [
    "data.head()"
   ]
  },
  {
   "cell_type": "markdown",
   "metadata": {},
   "source": [
    "Все данные приведены к нижнему регистру, так будет намного удобнее."
   ]
  },
  {
   "cell_type": "markdown",
   "metadata": {},
   "source": [
    "### Удалим пропуски, которые невозможно заполнить или пропустить по какой-либо логике, это названия игр и год выпуска."
   ]
  },
  {
   "cell_type": "markdown",
   "metadata": {},
   "source": [
    "Конечно же можно было заполнить пропуски в дате выхода данными из интернета, однако 269 игр искать достаточно долго, а на вывод врядли повляет такой незначительный процент."
   ]
  },
  {
   "cell_type": "code",
   "execution_count": 10,
   "metadata": {},
   "outputs": [],
   "source": [
    "data = data.dropna(subset=['name', 'year_of_release', 'genre'])"
   ]
  },
  {
   "cell_type": "markdown",
   "metadata": {},
   "source": [
    "### Проверим дубликаты и уникальные названия по некоторым столбцам, на всякий случай."
   ]
  },
  {
   "cell_type": "code",
   "execution_count": 11,
   "metadata": {},
   "outputs": [
    {
     "data": {
      "text/plain": [
       "array(['wii', 'nes', 'gb', 'ds', 'x360', 'ps3', 'ps2', 'snes', 'gba',\n",
       "       'ps4', '3ds', 'n64', 'ps', 'xb', 'pc', '2600', 'psp', 'xone',\n",
       "       'wiiu', 'gc', 'gen', 'dc', 'psv', 'sat', 'scd', 'ws', 'ng', 'tg16',\n",
       "       '3do', 'gg', 'pcfx'], dtype=object)"
      ]
     },
     "execution_count": 11,
     "metadata": {},
     "output_type": "execute_result"
    }
   ],
   "source": [
    "data['platform'].unique()"
   ]
  },
  {
   "cell_type": "markdown",
   "metadata": {},
   "source": [
    "Что удивительно, пришлось гуглить некоторые названия) PC Engine очень странная консоль. А вот повторений здесь нет, всё уникально."
   ]
  },
  {
   "cell_type": "code",
   "execution_count": 12,
   "metadata": {},
   "outputs": [
    {
     "data": {
      "text/plain": [
       "5018"
      ]
     },
     "execution_count": 12,
     "metadata": {},
     "output_type": "execute_result"
    }
   ],
   "source": [
    "data['name'].duplicated().sum()"
   ]
  },
  {
   "cell_type": "markdown",
   "metadata": {},
   "source": [
    "Вероятно в каждой строчке есть привязка только к одной платформе, т.е. мультиплатформенные игры указаны несколько раз. Если это правда, некоторые данные нужно будет считать по уникальным значениям. Проверим."
   ]
  },
  {
   "cell_type": "code",
   "execution_count": 13,
   "metadata": {},
   "outputs": [
    {
     "data": {
      "text/plain": [
       "array([' beyblade burst', ' fire emblem fates', \" frozen: olaf's quest\",\n",
       "       ..., 'zwei!!', 'zyuden sentai kyoryuger: game de gaburincho!!',\n",
       "       '¡shin chan flipa en colores!'], dtype=object)"
      ]
     },
     "execution_count": 13,
     "metadata": {},
     "output_type": "execute_result"
    }
   ],
   "source": [
    "data['name'].sort_values().unique()"
   ]
  },
  {
   "cell_type": "code",
   "execution_count": 14,
   "metadata": {},
   "outputs": [
    {
     "data": {
      "text/html": [
       "<div>\n",
       "<style scoped>\n",
       "    .dataframe tbody tr th:only-of-type {\n",
       "        vertical-align: middle;\n",
       "    }\n",
       "\n",
       "    .dataframe tbody tr th {\n",
       "        vertical-align: top;\n",
       "    }\n",
       "\n",
       "    .dataframe thead th {\n",
       "        text-align: right;\n",
       "    }\n",
       "</style>\n",
       "<table border=\"1\" class=\"dataframe\">\n",
       "  <thead>\n",
       "    <tr style=\"text-align: right;\">\n",
       "      <th></th>\n",
       "      <th>name</th>\n",
       "      <th>platform</th>\n",
       "      <th>year_of_release</th>\n",
       "      <th>genre</th>\n",
       "      <th>na_sales</th>\n",
       "      <th>eu_sales</th>\n",
       "      <th>jp_sales</th>\n",
       "      <th>other_sales</th>\n",
       "      <th>critic_score</th>\n",
       "      <th>user_score</th>\n",
       "      <th>rating</th>\n",
       "    </tr>\n",
       "  </thead>\n",
       "  <tbody>\n",
       "    <tr>\n",
       "      <th>3358</th>\n",
       "      <td>frozen: olaf's quest</td>\n",
       "      <td>3ds</td>\n",
       "      <td>2013.0</td>\n",
       "      <td>platform</td>\n",
       "      <td>0.27</td>\n",
       "      <td>0.27</td>\n",
       "      <td>0.0</td>\n",
       "      <td>0.05</td>\n",
       "      <td>NaN</td>\n",
       "      <td>NaN</td>\n",
       "      <td>NaN</td>\n",
       "    </tr>\n",
       "    <tr>\n",
       "      <th>3862</th>\n",
       "      <td>frozen: olaf's quest</td>\n",
       "      <td>ds</td>\n",
       "      <td>2013.0</td>\n",
       "      <td>platform</td>\n",
       "      <td>0.21</td>\n",
       "      <td>0.26</td>\n",
       "      <td>0.0</td>\n",
       "      <td>0.04</td>\n",
       "      <td>NaN</td>\n",
       "      <td>NaN</td>\n",
       "      <td>NaN</td>\n",
       "    </tr>\n",
       "  </tbody>\n",
       "</table>\n",
       "</div>"
      ],
      "text/plain": [
       "                       name platform  year_of_release     genre  na_sales  \\\n",
       "3358   frozen: olaf's quest      3ds           2013.0  platform      0.27   \n",
       "3862   frozen: olaf's quest       ds           2013.0  platform      0.21   \n",
       "\n",
       "      eu_sales  jp_sales  other_sales  critic_score user_score rating  \n",
       "3358      0.27       0.0         0.05           NaN        NaN    NaN  \n",
       "3862      0.26       0.0         0.04           NaN        NaN    NaN  "
      ]
     },
     "execution_count": 14,
     "metadata": {},
     "output_type": "execute_result"
    }
   ],
   "source": [
    "data[data['name'] == \" frozen: olaf's quest\"]"
   ]
  },
  {
   "cell_type": "code",
   "execution_count": 15,
   "metadata": {},
   "outputs": [
    {
     "data": {
      "text/html": [
       "<div>\n",
       "<style scoped>\n",
       "    .dataframe tbody tr th:only-of-type {\n",
       "        vertical-align: middle;\n",
       "    }\n",
       "\n",
       "    .dataframe tbody tr th {\n",
       "        vertical-align: top;\n",
       "    }\n",
       "\n",
       "    .dataframe thead th {\n",
       "        text-align: right;\n",
       "    }\n",
       "</style>\n",
       "<table border=\"1\" class=\"dataframe\">\n",
       "  <thead>\n",
       "    <tr style=\"text-align: right;\">\n",
       "      <th></th>\n",
       "      <th>name</th>\n",
       "      <th>platform</th>\n",
       "      <th>year_of_release</th>\n",
       "      <th>genre</th>\n",
       "      <th>na_sales</th>\n",
       "      <th>eu_sales</th>\n",
       "      <th>jp_sales</th>\n",
       "      <th>other_sales</th>\n",
       "      <th>critic_score</th>\n",
       "      <th>user_score</th>\n",
       "      <th>rating</th>\n",
       "    </tr>\n",
       "  </thead>\n",
       "  <tbody>\n",
       "    <tr>\n",
       "      <th>1</th>\n",
       "      <td>super mario bros.</td>\n",
       "      <td>nes</td>\n",
       "      <td>1985.0</td>\n",
       "      <td>platform</td>\n",
       "      <td>29.08</td>\n",
       "      <td>3.58</td>\n",
       "      <td>6.81</td>\n",
       "      <td>0.77</td>\n",
       "      <td>NaN</td>\n",
       "      <td>NaN</td>\n",
       "      <td>NaN</td>\n",
       "    </tr>\n",
       "    <tr>\n",
       "      <th>201</th>\n",
       "      <td>super mario bros.</td>\n",
       "      <td>gb</td>\n",
       "      <td>1999.0</td>\n",
       "      <td>platform</td>\n",
       "      <td>3.40</td>\n",
       "      <td>1.30</td>\n",
       "      <td>0.15</td>\n",
       "      <td>0.22</td>\n",
       "      <td>NaN</td>\n",
       "      <td>NaN</td>\n",
       "      <td>NaN</td>\n",
       "    </tr>\n",
       "  </tbody>\n",
       "</table>\n",
       "</div>"
      ],
      "text/plain": [
       "                  name platform  year_of_release     genre  na_sales  \\\n",
       "1    super mario bros.      nes           1985.0  platform     29.08   \n",
       "201  super mario bros.       gb           1999.0  platform      3.40   \n",
       "\n",
       "     eu_sales  jp_sales  other_sales  critic_score user_score rating  \n",
       "1        3.58      6.81         0.77           NaN        NaN    NaN  \n",
       "201      1.30      0.15         0.22           NaN        NaN    NaN  "
      ]
     },
     "execution_count": 15,
     "metadata": {},
     "output_type": "execute_result"
    }
   ],
   "source": [
    "data[data['name'] == \"super mario bros.\"]"
   ]
  },
  {
   "cell_type": "code",
   "execution_count": 16,
   "metadata": {},
   "outputs": [
    {
     "data": {
      "text/html": [
       "<div>\n",
       "<style scoped>\n",
       "    .dataframe tbody tr th:only-of-type {\n",
       "        vertical-align: middle;\n",
       "    }\n",
       "\n",
       "    .dataframe tbody tr th {\n",
       "        vertical-align: top;\n",
       "    }\n",
       "\n",
       "    .dataframe thead th {\n",
       "        text-align: right;\n",
       "    }\n",
       "</style>\n",
       "<table border=\"1\" class=\"dataframe\">\n",
       "  <thead>\n",
       "    <tr style=\"text-align: right;\">\n",
       "      <th></th>\n",
       "      <th>name</th>\n",
       "      <th>platform</th>\n",
       "      <th>year_of_release</th>\n",
       "      <th>genre</th>\n",
       "      <th>na_sales</th>\n",
       "      <th>eu_sales</th>\n",
       "      <th>jp_sales</th>\n",
       "      <th>other_sales</th>\n",
       "      <th>critic_score</th>\n",
       "      <th>user_score</th>\n",
       "      <th>rating</th>\n",
       "    </tr>\n",
       "  </thead>\n",
       "  <tbody>\n",
       "    <tr>\n",
       "      <th>303</th>\n",
       "      <td>the witcher 3: wild hunt</td>\n",
       "      <td>ps4</td>\n",
       "      <td>2015.0</td>\n",
       "      <td>role-playing</td>\n",
       "      <td>1.02</td>\n",
       "      <td>2.13</td>\n",
       "      <td>0.23</td>\n",
       "      <td>0.59</td>\n",
       "      <td>92.0</td>\n",
       "      <td>9.2</td>\n",
       "      <td>M</td>\n",
       "    </tr>\n",
       "    <tr>\n",
       "      <th>1499</th>\n",
       "      <td>the witcher 3: wild hunt</td>\n",
       "      <td>xone</td>\n",
       "      <td>2015.0</td>\n",
       "      <td>role-playing</td>\n",
       "      <td>0.69</td>\n",
       "      <td>0.50</td>\n",
       "      <td>0.00</td>\n",
       "      <td>0.11</td>\n",
       "      <td>91.0</td>\n",
       "      <td>9.2</td>\n",
       "      <td>M</td>\n",
       "    </tr>\n",
       "    <tr>\n",
       "      <th>2851</th>\n",
       "      <td>the witcher 3: wild hunt</td>\n",
       "      <td>pc</td>\n",
       "      <td>2015.0</td>\n",
       "      <td>role-playing</td>\n",
       "      <td>0.21</td>\n",
       "      <td>0.46</td>\n",
       "      <td>0.00</td>\n",
       "      <td>0.05</td>\n",
       "      <td>93.0</td>\n",
       "      <td>9.3</td>\n",
       "      <td>M</td>\n",
       "    </tr>\n",
       "  </tbody>\n",
       "</table>\n",
       "</div>"
      ],
      "text/plain": [
       "                          name platform  year_of_release         genre  \\\n",
       "303   the witcher 3: wild hunt      ps4           2015.0  role-playing   \n",
       "1499  the witcher 3: wild hunt     xone           2015.0  role-playing   \n",
       "2851  the witcher 3: wild hunt       pc           2015.0  role-playing   \n",
       "\n",
       "      na_sales  eu_sales  jp_sales  other_sales  critic_score user_score  \\\n",
       "303       1.02      2.13      0.23         0.59          92.0        9.2   \n",
       "1499      0.69      0.50      0.00         0.11          91.0        9.2   \n",
       "2851      0.21      0.46      0.00         0.05          93.0        9.3   \n",
       "\n",
       "     rating  \n",
       "303       M  \n",
       "1499      M  \n",
       "2851      M  "
      ]
     },
     "execution_count": 16,
     "metadata": {},
     "output_type": "execute_result"
    }
   ],
   "source": [
    "data[data['name'] == \"the witcher 3: wild hunt\"]"
   ]
  },
  {
   "cell_type": "markdown",
   "metadata": {},
   "source": [
    "Так и есть. Данные по выпущенным играм за год лучше всего будет посчитать по уникальным названиям, иначе за последние лет 10 подсчёт сильно исказится."
   ]
  },
  {
   "cell_type": "code",
   "execution_count": 17,
   "metadata": {},
   "outputs": [
    {
     "data": {
      "text/plain": [
       "array(['sports', 'platform', 'racing', 'role-playing', 'puzzle', 'misc',\n",
       "       'shooter', 'simulation', 'action', 'fighting', 'adventure',\n",
       "       'strategy'], dtype=object)"
      ]
     },
     "execution_count": 17,
     "metadata": {},
     "output_type": "execute_result"
    }
   ],
   "source": [
    "data['genre'].unique()"
   ]
  },
  {
   "cell_type": "markdown",
   "metadata": {},
   "source": [
    "В жанрах повторов так же нет."
   ]
  },
  {
   "cell_type": "markdown",
   "metadata": {},
   "source": [
    "### Поменяем тип данных в столбце с годом выхода."
   ]
  },
  {
   "cell_type": "code",
   "execution_count": 18,
   "metadata": {},
   "outputs": [],
   "source": [
    "data['year_of_release'] = data['year_of_release'].astype('int')"
   ]
  },
  {
   "cell_type": "markdown",
   "metadata": {},
   "source": [
    "### Проверим, насколько возможно будет поменять оценки критиков и пользвателей у игр."
   ]
  },
  {
   "cell_type": "markdown",
   "metadata": {},
   "source": [
    "Проверим, повлияет ли заполнение пропусков на общую картину, возможно лучше будет их оставить, поскольку оценки игр могут зависит от многих факторов."
   ]
  },
  {
   "cell_type": "code",
   "execution_count": 19,
   "metadata": {},
   "outputs": [
    {
     "data": {
      "text/plain": [
       "68.99436302142053"
      ]
     },
     "execution_count": 19,
     "metadata": {},
     "output_type": "execute_result"
    }
   ],
   "source": [
    "data['critic_score'].mean() \n",
    "# среднее значение до изменений"
   ]
  },
  {
   "cell_type": "code",
   "execution_count": 20,
   "metadata": {},
   "outputs": [],
   "source": [
    "test_data = data\n",
    "# переменная для тестирования"
   ]
  },
  {
   "cell_type": "code",
   "execution_count": 21,
   "metadata": {},
   "outputs": [
    {
     "data": {
      "text/plain": [
       "66.67693138843867"
      ]
     },
     "execution_count": 21,
     "metadata": {},
     "output_type": "execute_result"
    }
   ],
   "source": [
    "test_data[test_data['genre'] == 'action']['critic_score'].mean()"
   ]
  },
  {
   "cell_type": "code",
   "execution_count": 22,
   "metadata": {},
   "outputs": [
    {
     "data": {
      "text/plain": [
       "66.67693138843867"
      ]
     },
     "execution_count": 22,
     "metadata": {},
     "output_type": "execute_result"
    }
   ],
   "source": [
    "test_data[test_data['genre'] == 'action']['critic_score'].mean()"
   ]
  },
  {
   "cell_type": "code",
   "execution_count": 23,
   "metadata": {},
   "outputs": [
    {
     "data": {
      "text/plain": [
       "68.99436302142053"
      ]
     },
     "execution_count": 23,
     "metadata": {},
     "output_type": "execute_result"
    }
   ],
   "source": [
    "test_data['critic_score'].mean()\n",
    "# среднее значение после изменений"
   ]
  },
  {
   "cell_type": "markdown",
   "metadata": {},
   "source": [
    "Можно сделать вывод о том, что оценки лучше оставить пустыми, ведь их заполнение не сильно влияет на итоговый результат, а вот на исследовании может отразиться не в лучшую сторону, ведь оценки у игр зависят от очень большого количества факторов и неправильные значения могут повлиять на итоговый вывод, а заполнение средними значениями или медианым на него и вовсе не повлияют."
   ]
  },
  {
   "cell_type": "markdown",
   "metadata": {},
   "source": [
    "### Теперь изменим тип данных в столбце user_score"
   ]
  },
  {
   "cell_type": "markdown",
   "metadata": {},
   "source": [
    "Для начала проверим все уникальные значение в столбце."
   ]
  },
  {
   "cell_type": "code",
   "execution_count": 24,
   "metadata": {},
   "outputs": [
    {
     "data": {
      "text/plain": [
       "array(['8', nan, '8.3', '8.5', '6.6', '8.4', '8.6', '7.7', '6.3', '7.4',\n",
       "       '8.2', '9', '7.9', '8.1', '8.7', '7.1', '3.4', '5.3', '4.8', '3.2',\n",
       "       '8.9', '6.4', '7.8', '7.5', '2.6', '7.2', '9.2', '7', '7.3', '4.3',\n",
       "       '7.6', '5.7', '5', '9.1', '6.5', 'tbd', '8.8', '6.9', '9.4', '6.8',\n",
       "       '6.1', '6.7', '5.4', '4', '4.9', '4.5', '9.3', '6.2', '4.2', '6',\n",
       "       '3.7', '4.1', '5.8', '5.6', '5.5', '4.4', '4.6', '5.9', '3.9',\n",
       "       '3.1', '2.9', '5.2', '3.3', '4.7', '5.1', '3.5', '2.5', '1.9', '3',\n",
       "       '2.7', '2.2', '2', '9.5', '2.1', '3.6', '2.8', '1.8', '3.8', '0',\n",
       "       '1.6', '9.6', '2.4', '1.7', '1.1', '0.3', '1.5', '0.7', '1.2',\n",
       "       '2.3', '0.5', '1.3', '0.2', '0.6', '1.4', '0.9', '1', '9.7'],\n",
       "      dtype=object)"
      ]
     },
     "execution_count": 24,
     "metadata": {},
     "output_type": "execute_result"
    }
   ],
   "source": [
    "data['user_score'].unique()"
   ]
  },
  {
   "cell_type": "code",
   "execution_count": 25,
   "metadata": {},
   "outputs": [
    {
     "data": {
      "text/plain": [
       "2376"
      ]
     },
     "execution_count": 25,
     "metadata": {},
     "output_type": "execute_result"
    }
   ],
   "source": [
    "data[data['user_score'] == 'tbd']['user_score'].count()\n",
    "# количество значение 'tbd'"
   ]
  },
  {
   "cell_type": "markdown",
   "metadata": {},
   "source": [
    "В целом все значения стандартные, кроме 'tbd', так же сам столбец имеет тип object, хотя все остальные данные относятся к float. Необходимо заменить все подобные значения, при этом вряд-ли их можно заменить на какие-то логичные цифры,так что лучше приравнять их к пропускам. К тому же в игровой индустрии аббревиатура TBD означает \"будет определено\", вероятнее всего у этих игр ещё слишком мало оценок от пользователей. Интересное наблюдение, без замены tbd они принимают очень странные значения при принудительному приведению к новому формату, вероятнее всего это значение суммы (а может и нет) номера букв в python. "
   ]
  },
  {
   "cell_type": "code",
   "execution_count": 26,
   "metadata": {},
   "outputs": [],
   "source": [
    "def replace_user_scores(wrong_user_scores, correct_user_score):\n",
    "    data['user_score'] = data['user_score'].replace(wrong_user_scores, correct_user_score)\n",
    "replace_user_scores('tbd', np.NaN)"
   ]
  },
  {
   "cell_type": "code",
   "execution_count": 27,
   "metadata": {},
   "outputs": [
    {
     "data": {
      "text/plain": [
       "array(['8', nan, '8.3', '8.5', '6.6', '8.4', '8.6', '7.7', '6.3', '7.4',\n",
       "       '8.2', '9', '7.9', '8.1', '8.7', '7.1', '3.4', '5.3', '4.8', '3.2',\n",
       "       '8.9', '6.4', '7.8', '7.5', '2.6', '7.2', '9.2', '7', '7.3', '4.3',\n",
       "       '7.6', '5.7', '5', '9.1', '6.5', '8.8', '6.9', '9.4', '6.8', '6.1',\n",
       "       '6.7', '5.4', '4', '4.9', '4.5', '9.3', '6.2', '4.2', '6', '3.7',\n",
       "       '4.1', '5.8', '5.6', '5.5', '4.4', '4.6', '5.9', '3.9', '3.1',\n",
       "       '2.9', '5.2', '3.3', '4.7', '5.1', '3.5', '2.5', '1.9', '3', '2.7',\n",
       "       '2.2', '2', '9.5', '2.1', '3.6', '2.8', '1.8', '3.8', '0', '1.6',\n",
       "       '9.6', '2.4', '1.7', '1.1', '0.3', '1.5', '0.7', '1.2', '2.3',\n",
       "       '0.5', '1.3', '0.2', '0.6', '1.4', '0.9', '1', '9.7'], dtype=object)"
      ]
     },
     "execution_count": 27,
     "metadata": {},
     "output_type": "execute_result"
    }
   ],
   "source": [
    "data['user_score'].unique()\n",
    "# проверим уникальные значения заново"
   ]
  },
  {
   "cell_type": "code",
   "execution_count": 28,
   "metadata": {},
   "outputs": [],
   "source": [
    "data['user_score'] = data['user_score'].astype('float')"
   ]
  },
  {
   "cell_type": "markdown",
   "metadata": {},
   "source": [
    "Теперь данные изменены на корректные и с ними можно работать."
   ]
  },
  {
   "cell_type": "markdown",
   "metadata": {},
   "source": [
    "### Проверим уникальные значения в столбце с возрастным рейтингом"
   ]
  },
  {
   "cell_type": "code",
   "execution_count": 29,
   "metadata": {},
   "outputs": [
    {
     "data": {
      "text/plain": [
       "array(['E', nan, 'M', 'T', 'E10+', 'K-A', 'AO', 'EC', 'RP'], dtype=object)"
      ]
     },
     "execution_count": 29,
     "metadata": {},
     "output_type": "execute_result"
    }
   ],
   "source": [
    "data['rating'].unique()"
   ]
  },
  {
   "cell_type": "markdown",
   "metadata": {},
   "source": [
    "Здесь есть неочевидный дубликат, рейтинг 'K-A' это старое название рейтинга 'E' в системе ESRB. А 'RP' - рейтинг ожидается, это нужно будет учесть при исследовании."
   ]
  },
  {
   "cell_type": "code",
   "execution_count": 30,
   "metadata": {},
   "outputs": [
    {
     "data": {
      "text/plain": [
       "3"
      ]
     },
     "execution_count": 30,
     "metadata": {},
     "output_type": "execute_result"
    }
   ],
   "source": [
    "data[data['rating'] == 'K-A']['rating'].count()"
   ]
  },
  {
   "cell_type": "code",
   "execution_count": 31,
   "metadata": {},
   "outputs": [],
   "source": [
    "def replace_rating(old_rating, new_rating):\n",
    "    data['rating'] = data['rating'].replace(old_rating, new_rating)\n",
    "replace_rating('K-A', 'E')    "
   ]
  },
  {
   "cell_type": "markdown",
   "metadata": {},
   "source": [
    "В столбце Rating  так же есть много пропусков и, вероятно, они не случайны, скорее всего эти игры не получили оценок, поскольку могли быть выпущены до того как появилась система ESRB или просто еще не успели их оценить. Их стоит заменить особым значением, например \"unknown\", чтобы при составлении портрета пользователя не потерять эти данные.\n"
   ]
  },
  {
   "cell_type": "code",
   "execution_count": 32,
   "metadata": {},
   "outputs": [],
   "source": [
    "data['rating'] = data['rating'].fillna('unknown')"
   ]
  },
  {
   "cell_type": "markdown",
   "metadata": {},
   "source": [
    "### Теперь созданим новый столбец с суммарными продажами во всех регионах"
   ]
  },
  {
   "cell_type": "code",
   "execution_count": 33,
   "metadata": {},
   "outputs": [],
   "source": [
    "data['total_sales'] = data['na_sales'] + data['jp_sales'] + data['eu_sales'] + data['other_sales']"
   ]
  },
  {
   "cell_type": "code",
   "execution_count": 34,
   "metadata": {
    "scrolled": true
   },
   "outputs": [
    {
     "data": {
      "text/html": [
       "<div>\n",
       "<style scoped>\n",
       "    .dataframe tbody tr th:only-of-type {\n",
       "        vertical-align: middle;\n",
       "    }\n",
       "\n",
       "    .dataframe tbody tr th {\n",
       "        vertical-align: top;\n",
       "    }\n",
       "\n",
       "    .dataframe thead th {\n",
       "        text-align: right;\n",
       "    }\n",
       "</style>\n",
       "<table border=\"1\" class=\"dataframe\">\n",
       "  <thead>\n",
       "    <tr style=\"text-align: right;\">\n",
       "      <th></th>\n",
       "      <th>name</th>\n",
       "      <th>platform</th>\n",
       "      <th>year_of_release</th>\n",
       "      <th>genre</th>\n",
       "      <th>na_sales</th>\n",
       "      <th>eu_sales</th>\n",
       "      <th>jp_sales</th>\n",
       "      <th>other_sales</th>\n",
       "      <th>critic_score</th>\n",
       "      <th>user_score</th>\n",
       "      <th>rating</th>\n",
       "      <th>total_sales</th>\n",
       "    </tr>\n",
       "  </thead>\n",
       "  <tbody>\n",
       "    <tr>\n",
       "      <th>0</th>\n",
       "      <td>wii sports</td>\n",
       "      <td>wii</td>\n",
       "      <td>2006</td>\n",
       "      <td>sports</td>\n",
       "      <td>41.36</td>\n",
       "      <td>28.96</td>\n",
       "      <td>3.77</td>\n",
       "      <td>8.45</td>\n",
       "      <td>76.0</td>\n",
       "      <td>8.0</td>\n",
       "      <td>E</td>\n",
       "      <td>82.54</td>\n",
       "    </tr>\n",
       "    <tr>\n",
       "      <th>1</th>\n",
       "      <td>super mario bros.</td>\n",
       "      <td>nes</td>\n",
       "      <td>1985</td>\n",
       "      <td>platform</td>\n",
       "      <td>29.08</td>\n",
       "      <td>3.58</td>\n",
       "      <td>6.81</td>\n",
       "      <td>0.77</td>\n",
       "      <td>NaN</td>\n",
       "      <td>NaN</td>\n",
       "      <td>unknown</td>\n",
       "      <td>40.24</td>\n",
       "    </tr>\n",
       "    <tr>\n",
       "      <th>2</th>\n",
       "      <td>mario kart wii</td>\n",
       "      <td>wii</td>\n",
       "      <td>2008</td>\n",
       "      <td>racing</td>\n",
       "      <td>15.68</td>\n",
       "      <td>12.76</td>\n",
       "      <td>3.79</td>\n",
       "      <td>3.29</td>\n",
       "      <td>82.0</td>\n",
       "      <td>8.3</td>\n",
       "      <td>E</td>\n",
       "      <td>35.52</td>\n",
       "    </tr>\n",
       "    <tr>\n",
       "      <th>3</th>\n",
       "      <td>wii sports resort</td>\n",
       "      <td>wii</td>\n",
       "      <td>2009</td>\n",
       "      <td>sports</td>\n",
       "      <td>15.61</td>\n",
       "      <td>10.93</td>\n",
       "      <td>3.28</td>\n",
       "      <td>2.95</td>\n",
       "      <td>80.0</td>\n",
       "      <td>8.0</td>\n",
       "      <td>E</td>\n",
       "      <td>32.77</td>\n",
       "    </tr>\n",
       "    <tr>\n",
       "      <th>4</th>\n",
       "      <td>pokemon red/pokemon blue</td>\n",
       "      <td>gb</td>\n",
       "      <td>1996</td>\n",
       "      <td>role-playing</td>\n",
       "      <td>11.27</td>\n",
       "      <td>8.89</td>\n",
       "      <td>10.22</td>\n",
       "      <td>1.00</td>\n",
       "      <td>NaN</td>\n",
       "      <td>NaN</td>\n",
       "      <td>unknown</td>\n",
       "      <td>31.38</td>\n",
       "    </tr>\n",
       "  </tbody>\n",
       "</table>\n",
       "</div>"
      ],
      "text/plain": [
       "                       name platform  year_of_release         genre  na_sales  \\\n",
       "0                wii sports      wii             2006        sports     41.36   \n",
       "1         super mario bros.      nes             1985      platform     29.08   \n",
       "2            mario kart wii      wii             2008        racing     15.68   \n",
       "3         wii sports resort      wii             2009        sports     15.61   \n",
       "4  pokemon red/pokemon blue       gb             1996  role-playing     11.27   \n",
       "\n",
       "   eu_sales  jp_sales  other_sales  critic_score  user_score   rating  \\\n",
       "0     28.96      3.77         8.45          76.0         8.0        E   \n",
       "1      3.58      6.81         0.77           NaN         NaN  unknown   \n",
       "2     12.76      3.79         3.29          82.0         8.3        E   \n",
       "3     10.93      3.28         2.95          80.0         8.0        E   \n",
       "4      8.89     10.22         1.00           NaN         NaN  unknown   \n",
       "\n",
       "   total_sales  \n",
       "0        82.54  \n",
       "1        40.24  \n",
       "2        35.52  \n",
       "3        32.77  \n",
       "4        31.38  "
      ]
     },
     "execution_count": 34,
     "metadata": {},
     "output_type": "execute_result"
    }
   ],
   "source": [
    "data.head()"
   ]
  },
  {
   "cell_type": "code",
   "execution_count": 35,
   "metadata": {},
   "outputs": [
    {
     "name": "stdout",
     "output_type": "stream",
     "text": [
      "<class 'pandas.core.frame.DataFrame'>\n",
      "Int64Index: 16444 entries, 0 to 16714\n",
      "Data columns (total 12 columns):\n",
      " #   Column           Non-Null Count  Dtype  \n",
      "---  ------           --------------  -----  \n",
      " 0   name             16444 non-null  object \n",
      " 1   platform         16444 non-null  object \n",
      " 2   year_of_release  16444 non-null  int64  \n",
      " 3   genre            16444 non-null  object \n",
      " 4   na_sales         16444 non-null  float64\n",
      " 5   eu_sales         16444 non-null  float64\n",
      " 6   jp_sales         16444 non-null  float64\n",
      " 7   other_sales      16444 non-null  float64\n",
      " 8   critic_score     7983 non-null   float64\n",
      " 9   user_score       7463 non-null   float64\n",
      " 10  rating           16444 non-null  object \n",
      " 11  total_sales      16444 non-null  float64\n",
      "dtypes: float64(7), int64(1), object(4)\n",
      "memory usage: 1.6+ MB\n"
     ]
    }
   ],
   "source": [
    "data.info()"
   ]
  },
  {
   "cell_type": "markdown",
   "metadata": {},
   "source": [
    "Все данные подготовленны, везде нужные форматы, добавлены новые для исследования. К сожалению,очень много пропусков в информации об оценках пользователей и критиков, то же самое с возрастным рейтингом, эти данные заполнить объективно и правильно не получиться, если их заполнять средними значениями, это не повлияет на исследования и может быть неверно,а искать 8000 игр слишком долго) Пропуски могли появиться из-за того, что данные взяты только из одного источника, например metacritic, где могут содержаться данные не о всех вышедших играх."
   ]
  },
  {
   "cell_type": "markdown",
   "metadata": {},
   "source": [
    "## Исследовательский анализ данных"
   ]
  },
  {
   "cell_type": "markdown",
   "metadata": {},
   "source": [
    "### Для начала посмотрим, сколько игр выпускалось в разные года."
   ]
  },
  {
   "cell_type": "code",
   "execution_count": 36,
   "metadata": {},
   "outputs": [
    {
     "data": {
      "image/png": "[encoded data removed]",
      "text/plain": [
       "<Figure size 576x576 with 1 Axes>"
      ]
     },
     "metadata": {
      "needs_background": "light"
     },
     "output_type": "display_data"
    }
   ],
   "source": [
    "data['year_of_release'].hist(bins=36, figsize=(8, 8)).set_title('Распределение выхода игр по годам')\n",
    "plt.xlabel('год выхода')\n",
    "plt.ylabel('кол-во выпущенных ир')\n",
    "plt.show()"
   ]
  },
  {
   "cell_type": "markdown",
   "metadata": {},
   "source": [
    "Ожидаемо на графике рост количества выпускаемых игр с начала 90-х годов, виден кризис игровой индустрии 1983 года. Так же наблюдается снижение количества выпускаемых игр с 2010 года. информации об этом не нашёл в интернете, однако нашёл статистики по количеству, и в 2010 действительно был спад выпуска игр. Вероятно это связано с использованием новых технологий в разработке и увелечении среднего срока производства, а ещё примерно в этот же момент практически перестали выходить \"AA\" игры и стало больше \"AAA\"."
   ]
  },
  {
   "cell_type": "markdown",
   "metadata": {},
   "source": [
    "### Изучим распределения и сроки жизни платформ."
   ]
  },
  {
   "cell_type": "code",
   "execution_count": 37,
   "metadata": {},
   "outputs": [],
   "source": [
    "platform_total_sales = data.pivot_table(index='platform', values='total_sales', aggfunc=['sum', 'count', 'mean'])\n",
    "platform_total_sales.columns = ['total_sales', 'count_games', 'mean_sales']"
   ]
  },
  {
   "cell_type": "code",
   "execution_count": 38,
   "metadata": {},
   "outputs": [
    {
     "data": {
      "text/html": [
       "<div>\n",
       "<style scoped>\n",
       "    .dataframe tbody tr th:only-of-type {\n",
       "        vertical-align: middle;\n",
       "    }\n",
       "\n",
       "    .dataframe tbody tr th {\n",
       "        vertical-align: top;\n",
       "    }\n",
       "\n",
       "    .dataframe thead th {\n",
       "        text-align: right;\n",
       "    }\n",
       "</style>\n",
       "<table border=\"1\" class=\"dataframe\">\n",
       "  <thead>\n",
       "    <tr style=\"text-align: right;\">\n",
       "      <th></th>\n",
       "      <th>total_sales</th>\n",
       "      <th>count_games</th>\n",
       "      <th>mean_sales</th>\n",
       "    </tr>\n",
       "    <tr>\n",
       "      <th>platform</th>\n",
       "      <th></th>\n",
       "      <th></th>\n",
       "      <th></th>\n",
       "    </tr>\n",
       "  </thead>\n",
       "  <tbody>\n",
       "    <tr>\n",
       "      <th>ps2</th>\n",
       "      <td>1233.56</td>\n",
       "      <td>2127</td>\n",
       "      <td>0.579953</td>\n",
       "    </tr>\n",
       "    <tr>\n",
       "      <th>x360</th>\n",
       "      <td>961.24</td>\n",
       "      <td>1232</td>\n",
       "      <td>0.780227</td>\n",
       "    </tr>\n",
       "    <tr>\n",
       "      <th>ps3</th>\n",
       "      <td>931.34</td>\n",
       "      <td>1306</td>\n",
       "      <td>0.713124</td>\n",
       "    </tr>\n",
       "    <tr>\n",
       "      <th>wii</th>\n",
       "      <td>891.18</td>\n",
       "      <td>1286</td>\n",
       "      <td>0.692986</td>\n",
       "    </tr>\n",
       "    <tr>\n",
       "      <th>ds</th>\n",
       "      <td>802.78</td>\n",
       "      <td>2121</td>\n",
       "      <td>0.378491</td>\n",
       "    </tr>\n",
       "    <tr>\n",
       "      <th>ps</th>\n",
       "      <td>727.58</td>\n",
       "      <td>1190</td>\n",
       "      <td>0.611412</td>\n",
       "    </tr>\n",
       "    <tr>\n",
       "      <th>ps4</th>\n",
       "      <td>314.14</td>\n",
       "      <td>392</td>\n",
       "      <td>0.801378</td>\n",
       "    </tr>\n",
       "    <tr>\n",
       "      <th>gba</th>\n",
       "      <td>312.88</td>\n",
       "      <td>811</td>\n",
       "      <td>0.385795</td>\n",
       "    </tr>\n",
       "    <tr>\n",
       "      <th>psp</th>\n",
       "      <td>289.53</td>\n",
       "      <td>1193</td>\n",
       "      <td>0.242691</td>\n",
       "    </tr>\n",
       "    <tr>\n",
       "      <th>3ds</th>\n",
       "      <td>257.81</td>\n",
       "      <td>512</td>\n",
       "      <td>0.503535</td>\n",
       "    </tr>\n",
       "  </tbody>\n",
       "</table>\n",
       "</div>"
      ],
      "text/plain": [
       "          total_sales  count_games  mean_sales\n",
       "platform                                      \n",
       "ps2           1233.56         2127    0.579953\n",
       "x360           961.24         1232    0.780227\n",
       "ps3            931.34         1306    0.713124\n",
       "wii            891.18         1286    0.692986\n",
       "ds             802.78         2121    0.378491\n",
       "ps             727.58         1190    0.611412\n",
       "ps4            314.14          392    0.801378\n",
       "gba            312.88          811    0.385795\n",
       "psp            289.53         1193    0.242691\n",
       "3ds            257.81          512    0.503535"
      ]
     },
     "execution_count": 38,
     "metadata": {},
     "output_type": "execute_result"
    }
   ],
   "source": [
    "platform_total_sales.sort_values('total_sales', ascending=False).head(10)\n",
    "# Топ 10 платформ за всё время"
   ]
  },
  {
   "cell_type": "markdown",
   "metadata": {},
   "source": [
    "Более миллиарда проданых игр на PS 2, особенно сильно различия ощущаются по сравнению с 10 местом."
   ]
  },
  {
   "cell_type": "code",
   "execution_count": 39,
   "metadata": {},
   "outputs": [
    {
     "data": {
      "text/plain": [
       "6.0"
      ]
     },
     "execution_count": 39,
     "metadata": {},
     "output_type": "execute_result"
    }
   ],
   "source": [
    "platform_life_span = data.pivot_table(index='platform', values='year_of_release', aggfunc=['max', 'min'])\n",
    "platform_life_span.columns = ['end_year', 'start_year']\n",
    "platform_life_span['life_span'] = platform_life_span['end_year'] - platform_life_span['start_year']\n",
    "platform_life_span['life_span'].median()\n",
    "# средний срок жизни консоли, медиана взята из-за наличия PC в выгрузке, поскольку он существует аж с 85 года"
   ]
  },
  {
   "cell_type": "code",
   "execution_count": 40,
   "metadata": {},
   "outputs": [
    {
     "data": {
      "text/html": [
       "<div>\n",
       "<style scoped>\n",
       "    .dataframe tbody tr th:only-of-type {\n",
       "        vertical-align: middle;\n",
       "    }\n",
       "\n",
       "    .dataframe tbody tr th {\n",
       "        vertical-align: top;\n",
       "    }\n",
       "\n",
       "    .dataframe thead th {\n",
       "        text-align: right;\n",
       "    }\n",
       "</style>\n",
       "<table border=\"1\" class=\"dataframe\">\n",
       "  <thead>\n",
       "    <tr style=\"text-align: right;\">\n",
       "      <th></th>\n",
       "      <th>end_year</th>\n",
       "      <th>start_year</th>\n",
       "      <th>life_span</th>\n",
       "    </tr>\n",
       "    <tr>\n",
       "      <th>platform</th>\n",
       "      <th></th>\n",
       "      <th></th>\n",
       "      <th></th>\n",
       "    </tr>\n",
       "  </thead>\n",
       "  <tbody>\n",
       "    <tr>\n",
       "      <th>pc</th>\n",
       "      <td>2016</td>\n",
       "      <td>1985</td>\n",
       "      <td>31</td>\n",
       "    </tr>\n",
       "    <tr>\n",
       "      <th>ds</th>\n",
       "      <td>2013</td>\n",
       "      <td>1985</td>\n",
       "      <td>28</td>\n",
       "    </tr>\n",
       "    <tr>\n",
       "      <th>gb</th>\n",
       "      <td>2001</td>\n",
       "      <td>1988</td>\n",
       "      <td>13</td>\n",
       "    </tr>\n",
       "    <tr>\n",
       "      <th>x360</th>\n",
       "      <td>2016</td>\n",
       "      <td>2005</td>\n",
       "      <td>11</td>\n",
       "    </tr>\n",
       "    <tr>\n",
       "      <th>psp</th>\n",
       "      <td>2015</td>\n",
       "      <td>2004</td>\n",
       "      <td>11</td>\n",
       "    </tr>\n",
       "    <tr>\n",
       "      <th>ps2</th>\n",
       "      <td>2011</td>\n",
       "      <td>2000</td>\n",
       "      <td>11</td>\n",
       "    </tr>\n",
       "    <tr>\n",
       "      <th>nes</th>\n",
       "      <td>1994</td>\n",
       "      <td>1983</td>\n",
       "      <td>11</td>\n",
       "    </tr>\n",
       "    <tr>\n",
       "      <th>dc</th>\n",
       "      <td>2008</td>\n",
       "      <td>1998</td>\n",
       "      <td>10</td>\n",
       "    </tr>\n",
       "    <tr>\n",
       "      <th>wii</th>\n",
       "      <td>2016</td>\n",
       "      <td>2006</td>\n",
       "      <td>10</td>\n",
       "    </tr>\n",
       "    <tr>\n",
       "      <th>ps3</th>\n",
       "      <td>2016</td>\n",
       "      <td>2006</td>\n",
       "      <td>10</td>\n",
       "    </tr>\n",
       "  </tbody>\n",
       "</table>\n",
       "</div>"
      ],
      "text/plain": [
       "          end_year  start_year  life_span\n",
       "platform                                 \n",
       "pc            2016        1985         31\n",
       "ds            2013        1985         28\n",
       "gb            2001        1988         13\n",
       "x360          2016        2005         11\n",
       "psp           2015        2004         11\n",
       "ps2           2011        2000         11\n",
       "nes           1994        1983         11\n",
       "dc            2008        1998         10\n",
       "wii           2016        2006         10\n",
       "ps3           2016        2006         10"
      ]
     },
     "execution_count": 40,
     "metadata": {},
     "output_type": "execute_result"
    }
   ],
   "source": [
    "platform_life_span.sort_values('life_span', ascending=False).head(10)\n",
    "# 10 самых продолжительных жизней платформ"
   ]
  },
  {
   "cell_type": "code",
   "execution_count": 41,
   "metadata": {},
   "outputs": [
    {
     "data": {
      "text/html": [
       "<div>\n",
       "<style scoped>\n",
       "    .dataframe tbody tr th:only-of-type {\n",
       "        vertical-align: middle;\n",
       "    }\n",
       "\n",
       "    .dataframe tbody tr th {\n",
       "        vertical-align: top;\n",
       "    }\n",
       "\n",
       "    .dataframe thead th {\n",
       "        text-align: right;\n",
       "    }\n",
       "</style>\n",
       "<table border=\"1\" class=\"dataframe\">\n",
       "  <thead>\n",
       "    <tr style=\"text-align: right;\">\n",
       "      <th></th>\n",
       "      <th>end_year</th>\n",
       "      <th>start_year</th>\n",
       "      <th>life_span</th>\n",
       "    </tr>\n",
       "    <tr>\n",
       "      <th>platform</th>\n",
       "      <th></th>\n",
       "      <th></th>\n",
       "      <th></th>\n",
       "    </tr>\n",
       "  </thead>\n",
       "  <tbody>\n",
       "    <tr>\n",
       "      <th>3ds</th>\n",
       "      <td>2016</td>\n",
       "      <td>2011</td>\n",
       "      <td>5</td>\n",
       "    </tr>\n",
       "    <tr>\n",
       "      <th>pc</th>\n",
       "      <td>2016</td>\n",
       "      <td>1985</td>\n",
       "      <td>31</td>\n",
       "    </tr>\n",
       "    <tr>\n",
       "      <th>ps3</th>\n",
       "      <td>2016</td>\n",
       "      <td>2006</td>\n",
       "      <td>10</td>\n",
       "    </tr>\n",
       "    <tr>\n",
       "      <th>ps4</th>\n",
       "      <td>2016</td>\n",
       "      <td>2013</td>\n",
       "      <td>3</td>\n",
       "    </tr>\n",
       "    <tr>\n",
       "      <th>psv</th>\n",
       "      <td>2016</td>\n",
       "      <td>2011</td>\n",
       "      <td>5</td>\n",
       "    </tr>\n",
       "    <tr>\n",
       "      <th>wii</th>\n",
       "      <td>2016</td>\n",
       "      <td>2006</td>\n",
       "      <td>10</td>\n",
       "    </tr>\n",
       "    <tr>\n",
       "      <th>wiiu</th>\n",
       "      <td>2016</td>\n",
       "      <td>2012</td>\n",
       "      <td>4</td>\n",
       "    </tr>\n",
       "    <tr>\n",
       "      <th>x360</th>\n",
       "      <td>2016</td>\n",
       "      <td>2005</td>\n",
       "      <td>11</td>\n",
       "    </tr>\n",
       "    <tr>\n",
       "      <th>xone</th>\n",
       "      <td>2016</td>\n",
       "      <td>2013</td>\n",
       "      <td>3</td>\n",
       "    </tr>\n",
       "  </tbody>\n",
       "</table>\n",
       "</div>"
      ],
      "text/plain": [
       "          end_year  start_year  life_span\n",
       "platform                                 \n",
       "3ds           2016        2011          5\n",
       "pc            2016        1985         31\n",
       "ps3           2016        2006         10\n",
       "ps4           2016        2013          3\n",
       "psv           2016        2011          5\n",
       "wii           2016        2006         10\n",
       "wiiu          2016        2012          4\n",
       "x360          2016        2005         11\n",
       "xone          2016        2013          3"
      ]
     },
     "execution_count": 41,
     "metadata": {},
     "output_type": "execute_result"
    }
   ],
   "source": [
    "platform_life_span[platform_life_span['end_year'] == 2016]"
   ]
  },
  {
   "cell_type": "markdown",
   "metadata": {},
   "source": [
    "В среднем, срок жизни консолей составляет 6 лет, не меняется лишь ПК,он всегда актуален."
   ]
  },
  {
   "cell_type": "markdown",
   "metadata": {},
   "source": [
    "За актуальный период прелагаю взять 3 года, с 2014 по 2016, это и средний срок разработки игр и именно столько прошло с момента выхода двух очень популярных консолей, PS 4 и Xbox One."
   ]
  },
  {
   "cell_type": "markdown",
   "metadata": {},
   "source": [
    "Далее построим распределение по годам 10 самых популярных консолей."
   ]
  },
  {
   "cell_type": "code",
   "execution_count": 42,
   "metadata": {},
   "outputs": [
    {
     "data": {
      "image/png": "[encoded data removed]",
      "text/plain": [
       "<Figure size 1080x504 with 1 Axes>"
      ]
     },
     "metadata": {
      "needs_background": "light"
     },
     "output_type": "display_data"
    }
   ],
   "source": [
    "data[(data['platform'] == '3ds')| \n",
    "     (data['platform'] == 'psp')|\n",
    "     (data['platform'] == 'gba')|\n",
    "     (data['platform'] == 'ps4')|\n",
    "     (data['platform'] == 'ps')|\n",
    "     (data['platform'] == 'ds')|\n",
    "     (data['platform'] == 'wii')|\n",
    "     (data['platform'] == 'ps3')|\n",
    "     (data['platform'] == 'x360')|\n",
    "     (data['platform'] == 'ps2')].pivot_table(\n",
    "    index='year_of_release', \n",
    "    columns = 'platform', \n",
    "    values='total_sales', \n",
    "    aggfunc='sum').plot(grid=True, figsize=(15,7)).set_title('Распределение проданных игр по топ 10 платформам за все года')\n",
    "plt.xlabel('год')\n",
    "plt.ylabel('кол-во проданых игр в млн')\n",
    "plt.show()"
   ]
  },
  {
   "cell_type": "markdown",
   "metadata": {},
   "source": [
    "По распределению видно, на каждой консоли продажи начинались практически от нуля и, с ростом популярности платформы, росли и продажи игр, только wii отличается от всех, старт практически со 150 млн проданных игр. Этот график хорошо показывает, что каждая платформа первые несколько лет набирает продажи, а после пика продажи стремительно уменьшаются, стоит учитывать этот факт при построении дальнейших исследований."
   ]
  },
  {
   "cell_type": "markdown",
   "metadata": {},
   "source": [
    "### Теперь определин потенциально прибыльные (или не очень) платформы на 2017 год"
   ]
  },
  {
   "cell_type": "markdown",
   "metadata": {},
   "source": [
    "Как было предложенно раньше, возьмём данные за период в 3 года по всем актуальным плафтормам и построим график распределения. Ожидаемо будет спад у платформ, которые вышли уже давно (кроме ПК), однако стоит взглянуть на их продажи, вдруг они будут не самыми плохими. "
   ]
  },
  {
   "cell_type": "code",
   "execution_count": 43,
   "metadata": {},
   "outputs": [
    {
     "data": {
      "image/png": "[encoded data removed]",
      "text/plain": [
       "<Figure size 1080x504 with 1 Axes>"
      ]
     },
     "metadata": {
      "needs_background": "light"
     },
     "output_type": "display_data"
    }
   ],
   "source": [
    "data_actual = data.query('2012 < year_of_release')\n",
    "data_actual[(data_actual['platform'] == '3ds')| \n",
    "     (data_actual['platform'] == 'xone')|\n",
    "     (data_actual['platform'] == 'x360')|\n",
    "     (data_actual['platform'] == 'wiiu')|\n",
    "     (data_actual['platform'] == 'wii')|\n",
    "     (data_actual['platform'] == 'psv')|\n",
    "     (data_actual['platform'] == 'ps4')|\n",
    "     (data_actual['platform'] == 'ps3')|\n",
    "     (data_actual['platform'] == 'pc')|\n",
    "     (data_actual['platform'] == '3ds')].pivot_table(\n",
    "    index='year_of_release', \n",
    "    columns = 'platform', \n",
    "    values='total_sales', \n",
    "    aggfunc='sum').plot(grid=True, figsize=(15,7)).set_title('Распределение проданных игр по актуальным платформам')\n",
    "plt.xlabel('год')\n",
    "plt.ylabel('кол-во проданых игр в млн')\n",
    "plt.show()"
   ]
  },
  {
   "cell_type": "markdown",
   "metadata": {},
   "source": [
    "К сожалению, в 2016 у всех идёт спад, возможно по некоторым проектам данные ещё не окончательные. По многим платформам продажи очень маленькие и стремятся вниз стабильно, однако у PS 4 и Xbox One показывают неплохие продажи, ещё у 3DS есть почти 20 млн проданных игр, однако в 2016 году уже известно о nintendo switch и о том, что она выйдет в начале 2017 года полностью заменив собой 3DS, а судя по графику из 10 самых популярных платформ выход новой консоли компании очень сильно снижает продажи её предшественницы. В итоге потенциально прибыльными плафтормами предлагаю считать PS 4 и Xbox One."
   ]
  },
  {
   "cell_type": "markdown",
   "metadata": {},
   "source": [
    "### Построим диаграмму размаха  по глобальным продажам игр в разбивке по платформам"
   ]
  },
  {
   "cell_type": "code",
   "execution_count": 45,
   "metadata": {},
   "outputs": [
    {
     "data": {
      "image/png": "[encoded data removed]",
      "text/plain": [
       "<Figure size 576x576 with 1 Axes>"
      ]
     },
     "metadata": {
      "needs_background": "light"
     },
     "output_type": "display_data"
    }
   ],
   "source": [
    "data_actual.pivot_table(index='platform', \n",
    "                        values='total_sales', \n",
    "                        aggfunc='sum').boxplot('total_sales', \n",
    "                                               figsize=(8, 8)).set_title(\n",
    "    'Диаграмма размаха по общим продажам на всех платформах за актуальный период')\n",
    "plt.show()"
   ]
  },
  {
   "cell_type": "code",
   "execution_count": 46,
   "metadata": {},
   "outputs": [
    {
     "data": {
      "image/png": "[encoded data removed]",
      "text/plain": [
       "<Figure size 576x576 with 1 Axes>"
      ]
     },
     "metadata": {
      "needs_background": "light"
     },
     "output_type": "display_data"
    }
   ],
   "source": [
    "data_actual[(data_actual['platform'] == '3ds')].pivot_table(\n",
    "    index='year_of_release', \n",
    "    columns = 'platform', \n",
    "    values='total_sales', \n",
    "    aggfunc='sum').boxplot(figsize=(8, 8)).set_title(\n",
    "    'Диаграмма размаха годам на Nintendo 3DS')\n",
    "plt.show()"
   ]
  },
  {
   "cell_type": "code",
   "execution_count": 47,
   "metadata": {},
   "outputs": [
    {
     "data": {
      "image/png": "[encoded data removed]",
      "text/plain": [
       "<Figure size 576x576 with 1 Axes>"
      ]
     },
     "metadata": {
      "needs_background": "light"
     },
     "output_type": "display_data"
    }
   ],
   "source": [
    "data_actual[(data_actual['platform'] == 'xone')].pivot_table(\n",
    "    index='year_of_release', \n",
    "    columns = 'platform', \n",
    "    values='total_sales', \n",
    "    aggfunc='sum').boxplot(figsize=(8, 8)).set_title(\n",
    "    'Диаграмма размаха годам на Xbox One')\n",
    "plt.show()"
   ]
  },
  {
   "cell_type": "code",
   "execution_count": 48,
   "metadata": {},
   "outputs": [
    {
     "data": {
      "image/png": "[encoded data removed]",
      "text/plain": [
       "<Figure size 576x576 with 1 Axes>"
      ]
     },
     "metadata": {
      "needs_background": "light"
     },
     "output_type": "display_data"
    }
   ],
   "source": [
    "data_actual[(data_actual['platform'] == 'x360')].pivot_table(\n",
    "    index='year_of_release', \n",
    "    columns = 'platform', \n",
    "    values='total_sales', \n",
    "    aggfunc='sum').boxplot(figsize=(8, 8)).set_title(\n",
    "    'Диаграмма размаха годам на Xbox 360')\n",
    "plt.show()"
   ]
  },
  {
   "cell_type": "code",
   "execution_count": 49,
   "metadata": {},
   "outputs": [
    {
     "data": {
      "image/png": "[encoded data removed]",
      "text/plain": [
       "<Figure size 576x576 with 1 Axes>"
      ]
     },
     "metadata": {
      "needs_background": "light"
     },
     "output_type": "display_data"
    }
   ],
   "source": [
    "data_actual[(data_actual['platform'] == 'wiiu')].pivot_table(\n",
    "    index='year_of_release', \n",
    "    columns = 'platform', \n",
    "    values='total_sales', \n",
    "    aggfunc='sum').boxplot(figsize=(8, 8)).set_title(\n",
    "    'Диаграмма размаха годам на Nintendo Wii U')\n",
    "plt.show()"
   ]
  },
  {
   "cell_type": "code",
   "execution_count": 50,
   "metadata": {},
   "outputs": [
    {
     "data": {
      "image/png": "[encoded data removed]",
      "text/plain": [
       "<Figure size 576x576 with 1 Axes>"
      ]
     },
     "metadata": {
      "needs_background": "light"
     },
     "output_type": "display_data"
    }
   ],
   "source": [
    "data_actual[(data_actual['platform'] == 'wii')].pivot_table(\n",
    "    index='year_of_release', \n",
    "    columns = 'platform', \n",
    "    values='total_sales', \n",
    "    aggfunc='sum').boxplot(figsize=(8, 8)).set_title(\n",
    "    'Диаграмма размаха годам на Nintendo Wii')\n",
    "plt.show()"
   ]
  },
  {
   "cell_type": "code",
   "execution_count": 51,
   "metadata": {},
   "outputs": [
    {
     "data": {
      "image/png": "[encoded data removed]",
      "text/plain": [
       "<Figure size 576x576 with 1 Axes>"
      ]
     },
     "metadata": {
      "needs_background": "light"
     },
     "output_type": "display_data"
    }
   ],
   "source": [
    "data_actual[(data_actual['platform'] == 'psv')].pivot_table(\n",
    "    index='year_of_release', \n",
    "    columns = 'platform', \n",
    "    values='total_sales', \n",
    "    aggfunc='sum').boxplot(figsize=(8, 8)).set_title(\n",
    "    'Диаграмма размаха годам на Playstation Vita')\n",
    "plt.show()"
   ]
  },
  {
   "cell_type": "code",
   "execution_count": 52,
   "metadata": {},
   "outputs": [
    {
     "data": {
      "image/png": "[encoded data removed]",
      "text/plain": [
       "<Figure size 576x576 with 1 Axes>"
      ]
     },
     "metadata": {
      "needs_background": "light"
     },
     "output_type": "display_data"
    }
   ],
   "source": [
    "data_actual[(data_actual['platform'] == 'ps4')].pivot_table(\n",
    "    index='year_of_release', \n",
    "    columns = 'platform', \n",
    "    values='total_sales', \n",
    "    aggfunc='sum').boxplot(figsize=(8, 8)).set_title(\n",
    "    'Диаграмма размаха годам на Playstation 4')\n",
    "plt.show()"
   ]
  },
  {
   "cell_type": "code",
   "execution_count": 53,
   "metadata": {},
   "outputs": [
    {
     "data": {
      "image/png": "[encoded data removed]",
      "text/plain": [
       "<Figure size 576x576 with 1 Axes>"
      ]
     },
     "metadata": {
      "needs_background": "light"
     },
     "output_type": "display_data"
    }
   ],
   "source": [
    "data_actual[(data_actual['platform'] == 'ps3')].pivot_table(\n",
    "    index='year_of_release', \n",
    "    columns = 'platform', \n",
    "    values='total_sales', \n",
    "    aggfunc='sum').boxplot(figsize=(8, 8)).set_title(\n",
    "    'Диаграмма размаха годам на Playstation 3')\n",
    "plt.show()"
   ]
  },
  {
   "cell_type": "code",
   "execution_count": 54,
   "metadata": {},
   "outputs": [
    {
     "data": {
      "image/png": "[encoded data removed]",
      "text/plain": [
       "<Figure size 576x576 with 1 Axes>"
      ]
     },
     "metadata": {
      "needs_background": "light"
     },
     "output_type": "display_data"
    }
   ],
   "source": [
    "data_actual[(data_actual['platform'] == 'pc')].pivot_table(\n",
    "    index='year_of_release', \n",
    "    columns = 'platform', \n",
    "    values='total_sales', \n",
    "    aggfunc='sum').boxplot(figsize=(8, 8)).set_title(\n",
    "    'Диаграмма размаха годам на PC')\n",
    "plt.show()"
   ]
  },
  {
   "cell_type": "markdown",
   "metadata": {},
   "source": [
    "Как видно по общему графику, в основном продажи колеблются в пределах 25 - 150 млн копий проданных игр. Однако есть сверхпопулярная среди всех платформа Sony Playstation 4, продажи на которой в среднем превышают 80 млн копий игр. К сожалению,у ближайших конкурентов, от Microsoft и Nintendo средние продажи более чем в 2 раза меньше."
   ]
  },
  {
   "cell_type": "markdown",
   "metadata": {},
   "source": [
    "### Предлагаю теперь посмотреть на то, как влияют отзывы на продажи игр внутри одной платформы, например PS 4."
   ]
  },
  {
   "cell_type": "code",
   "execution_count": 55,
   "metadata": {},
   "outputs": [],
   "source": [
    "data_actual_ps4 = data_actual.query('platform == \"ps4\"')\n",
    "#переменная для более удобного кода"
   ]
  },
  {
   "cell_type": "code",
   "execution_count": 56,
   "metadata": {},
   "outputs": [
    {
     "data": {
      "image/png": "[encoded data removed]",
      "text/plain": [
       "<Figure size 576x576 with 1 Axes>"
      ]
     },
     "metadata": {
      "needs_background": "light"
     },
     "output_type": "display_data"
    }
   ],
   "source": [
    "data_actual_ps4.plot(x='total_sales', \n",
    "                     y='user_score', \n",
    "                     kind='scatter', \n",
    "                     alpha=0.3, figsize=(8, 8)).set_title('Диаграмма рассеяния продаж и оценок пользователей')\n",
    "plt.xlabel('кол-во проданых игр в млн')\n",
    "plt.ylabel('пользовательские оценки')\n",
    "plt.show()"
   ]
  },
  {
   "cell_type": "code",
   "execution_count": 57,
   "metadata": {},
   "outputs": [
    {
     "data": {
      "text/plain": [
       "-0.03195711020455639"
      ]
     },
     "execution_count": 57,
     "metadata": {},
     "output_type": "execute_result"
    }
   ],
   "source": [
    "data_actual_ps4['total_sales'].corr(data_actual_ps4['user_score'])\n",
    "# корреляция продаж с оценками пользователей"
   ]
  },
  {
   "cell_type": "code",
   "execution_count": 58,
   "metadata": {},
   "outputs": [
    {
     "data": {
      "image/png": "[encoded data removed]",
      "text/plain": [
       "<Figure size 576x576 with 1 Axes>"
      ]
     },
     "metadata": {
      "needs_background": "light"
     },
     "output_type": "display_data"
    }
   ],
   "source": [
    "data_actual_ps4.plot(x='total_sales', \n",
    "                     y='critic_score', \n",
    "                     kind='scatter', \n",
    "                     alpha=0.3, figsize=(8, 8)).set_title('Диаграмма рассеяния продаж и оценок критиков')\n",
    "plt.xlabel('кол-во проданых игр в млн')\n",
    "plt.ylabel('оценки критиков')\n",
    "plt.show()"
   ]
  },
  {
   "cell_type": "code",
   "execution_count": 59,
   "metadata": {},
   "outputs": [
    {
     "data": {
      "text/plain": [
       "0.406567902061781"
      ]
     },
     "execution_count": 59,
     "metadata": {},
     "output_type": "execute_result"
    }
   ],
   "source": [
    "data_actual_ps4['total_sales'].corr(data_actual_ps4['critic_score'])\n",
    "# корреляция продаж с оценками критиков"
   ]
  },
  {
   "cell_type": "markdown",
   "metadata": {},
   "source": [
    "И графики и корреляция говорят о том, что продажи практически никак не зависят от оценок пользвателей, получается либо люди играют и покупают то, что им не нравиться, либо занижают или завышают рейтинги по каким либо причинам. А вот оценки критиков действительно сказываются на продажах и, чем выше оценки, тем больше продаж будет у игры, самая высоко оценённая игра это подтверждает. Предлагаю взглянуть на неё и посмотреть, как обстоят дела на всех платформах сразу, а не только на одной."
   ]
  },
  {
   "cell_type": "code",
   "execution_count": 60,
   "metadata": {},
   "outputs": [
    {
     "data": {
      "text/html": [
       "<div>\n",
       "<style scoped>\n",
       "    .dataframe tbody tr th:only-of-type {\n",
       "        vertical-align: middle;\n",
       "    }\n",
       "\n",
       "    .dataframe tbody tr th {\n",
       "        vertical-align: top;\n",
       "    }\n",
       "\n",
       "    .dataframe thead th {\n",
       "        text-align: right;\n",
       "    }\n",
       "</style>\n",
       "<table border=\"1\" class=\"dataframe\">\n",
       "  <thead>\n",
       "    <tr style=\"text-align: right;\">\n",
       "      <th></th>\n",
       "      <th>name</th>\n",
       "      <th>platform</th>\n",
       "      <th>year_of_release</th>\n",
       "      <th>genre</th>\n",
       "      <th>na_sales</th>\n",
       "      <th>eu_sales</th>\n",
       "      <th>jp_sales</th>\n",
       "      <th>other_sales</th>\n",
       "      <th>critic_score</th>\n",
       "      <th>user_score</th>\n",
       "      <th>rating</th>\n",
       "      <th>total_sales</th>\n",
       "    </tr>\n",
       "  </thead>\n",
       "  <tbody>\n",
       "    <tr>\n",
       "      <th>16</th>\n",
       "      <td>grand theft auto v</td>\n",
       "      <td>ps3</td>\n",
       "      <td>2013</td>\n",
       "      <td>action</td>\n",
       "      <td>7.02</td>\n",
       "      <td>9.09</td>\n",
       "      <td>0.98</td>\n",
       "      <td>3.96</td>\n",
       "      <td>97.0</td>\n",
       "      <td>8.2</td>\n",
       "      <td>M</td>\n",
       "      <td>21.05</td>\n",
       "    </tr>\n",
       "    <tr>\n",
       "      <th>23</th>\n",
       "      <td>grand theft auto v</td>\n",
       "      <td>x360</td>\n",
       "      <td>2013</td>\n",
       "      <td>action</td>\n",
       "      <td>9.66</td>\n",
       "      <td>5.14</td>\n",
       "      <td>0.06</td>\n",
       "      <td>1.41</td>\n",
       "      <td>97.0</td>\n",
       "      <td>8.1</td>\n",
       "      <td>M</td>\n",
       "      <td>16.27</td>\n",
       "    </tr>\n",
       "    <tr>\n",
       "      <th>42</th>\n",
       "      <td>grand theft auto v</td>\n",
       "      <td>ps4</td>\n",
       "      <td>2014</td>\n",
       "      <td>action</td>\n",
       "      <td>3.96</td>\n",
       "      <td>6.31</td>\n",
       "      <td>0.38</td>\n",
       "      <td>1.97</td>\n",
       "      <td>97.0</td>\n",
       "      <td>8.3</td>\n",
       "      <td>M</td>\n",
       "      <td>12.62</td>\n",
       "    </tr>\n",
       "    <tr>\n",
       "      <th>165</th>\n",
       "      <td>grand theft auto v</td>\n",
       "      <td>xone</td>\n",
       "      <td>2014</td>\n",
       "      <td>action</td>\n",
       "      <td>2.81</td>\n",
       "      <td>2.19</td>\n",
       "      <td>0.00</td>\n",
       "      <td>0.47</td>\n",
       "      <td>97.0</td>\n",
       "      <td>7.9</td>\n",
       "      <td>M</td>\n",
       "      <td>5.47</td>\n",
       "    </tr>\n",
       "    <tr>\n",
       "      <th>1730</th>\n",
       "      <td>grand theft auto v</td>\n",
       "      <td>pc</td>\n",
       "      <td>2015</td>\n",
       "      <td>action</td>\n",
       "      <td>0.39</td>\n",
       "      <td>0.69</td>\n",
       "      <td>0.00</td>\n",
       "      <td>0.09</td>\n",
       "      <td>96.0</td>\n",
       "      <td>7.9</td>\n",
       "      <td>M</td>\n",
       "      <td>1.17</td>\n",
       "    </tr>\n",
       "  </tbody>\n",
       "</table>\n",
       "</div>"
      ],
      "text/plain": [
       "                    name platform  year_of_release   genre  na_sales  \\\n",
       "16    grand theft auto v      ps3             2013  action      7.02   \n",
       "23    grand theft auto v     x360             2013  action      9.66   \n",
       "42    grand theft auto v      ps4             2014  action      3.96   \n",
       "165   grand theft auto v     xone             2014  action      2.81   \n",
       "1730  grand theft auto v       pc             2015  action      0.39   \n",
       "\n",
       "      eu_sales  jp_sales  other_sales  critic_score  user_score rating  \\\n",
       "16        9.09      0.98         3.96          97.0         8.2      M   \n",
       "23        5.14      0.06         1.41          97.0         8.1      M   \n",
       "42        6.31      0.38         1.97          97.0         8.3      M   \n",
       "165       2.19      0.00         0.47          97.0         7.9      M   \n",
       "1730      0.69      0.00         0.09          96.0         7.9      M   \n",
       "\n",
       "      total_sales  \n",
       "16          21.05  \n",
       "23          16.27  \n",
       "42          12.62  \n",
       "165          5.47  \n",
       "1730         1.17  "
      ]
     },
     "execution_count": 60,
     "metadata": {},
     "output_type": "execute_result"
    }
   ],
   "source": [
    "data_actual.query('critic_score > 95')"
   ]
  },
  {
   "cell_type": "markdown",
   "metadata": {},
   "source": [
    "В целом, ожидаемо что это GTA 5, самая продаваемая игра на данный момент)"
   ]
  },
  {
   "cell_type": "code",
   "execution_count": 61,
   "metadata": {},
   "outputs": [
    {
     "data": {
      "text/plain": [
       "0.3136995151027371"
      ]
     },
     "execution_count": 61,
     "metadata": {},
     "output_type": "execute_result"
    }
   ],
   "source": [
    "data_actual['total_sales'].corr(data_actual['critic_score'])\n",
    "# корреляция продаж с оценками критиков на всех платформах"
   ]
  },
  {
   "cell_type": "code",
   "execution_count": 62,
   "metadata": {},
   "outputs": [
    {
     "data": {
      "text/plain": [
       "-0.0026078133545982727"
      ]
     },
     "execution_count": 62,
     "metadata": {},
     "output_type": "execute_result"
    }
   ],
   "source": [
    "data_actual['total_sales'].corr(data_actual['user_score'])\n",
    "# корреляция продаж с оценками пользователей на всех платформах"
   ]
  },
  {
   "cell_type": "markdown",
   "metadata": {},
   "source": [
    "Корреляция на всех актуальных платформах сразу подтверждает предыдущие выводы, здесь чуть меньше зависимость продаж от оценок критиков, но она так же ощутима, а оценки пользователей всё так же не влияют на продажи. При построении прогноза лучше всего учитывать именно оценки экспертов."
   ]
  },
  {
   "cell_type": "markdown",
   "metadata": {},
   "source": [
    "Проверим корреляцию на остальных, самых популярных платформах по отдельности."
   ]
  },
  {
   "cell_type": "code",
   "execution_count": 63,
   "metadata": {},
   "outputs": [
    {
     "data": {
      "text/plain": [
       "-0.06892505328279412"
      ]
     },
     "execution_count": 63,
     "metadata": {},
     "output_type": "execute_result"
    }
   ],
   "source": [
    "data_actual.query('platform == \"xone\"')['total_sales'].corr(data_actual['user_score'])\n",
    "# корреляция продаж с оценками пользователей на Xbox One"
   ]
  },
  {
   "cell_type": "code",
   "execution_count": 64,
   "metadata": {},
   "outputs": [
    {
     "data": {
      "text/plain": [
       "0.41699832800840186"
      ]
     },
     "execution_count": 64,
     "metadata": {},
     "output_type": "execute_result"
    }
   ],
   "source": [
    "data_actual.query('platform == \"xone\"')['total_sales'].corr(data_actual['critic_score'])\n",
    "# корреляция продаж с оценками критиков на Xbox One"
   ]
  },
  {
   "cell_type": "code",
   "execution_count": 65,
   "metadata": {},
   "outputs": [
    {
     "data": {
      "text/plain": [
       "0.24150411773563016"
      ]
     },
     "execution_count": 65,
     "metadata": {},
     "output_type": "execute_result"
    }
   ],
   "source": [
    "data_actual.query('platform == \"3ds\"')['total_sales'].corr(data_actual['user_score'])\n",
    "# корреляция продаж с оценками пользователей на Nintendo 3DS"
   ]
  },
  {
   "cell_type": "code",
   "execution_count": 66,
   "metadata": {},
   "outputs": [
    {
     "data": {
      "text/plain": [
       "0.35705661422881035"
      ]
     },
     "execution_count": 66,
     "metadata": {},
     "output_type": "execute_result"
    }
   ],
   "source": [
    "data_actual.query('platform == \"3ds\"')['total_sales'].corr(data_actual['critic_score'])\n",
    "# корреляция продаж с оценками критиков на Nintendo 3DS"
   ]
  },
  {
   "cell_type": "markdown",
   "metadata": {},
   "source": [
    "Корреляция на Xbox приблизительно такая же, как у Sony, так же важны именно оценки критиков, а вот у 3DS корреляция продаж с оценками пользователей намного больше, чем у дрйгих, возможно это связано в целом с Японской культурой, а не с конкретной консолью, проверим это почитав корреляции в отдельных регионах."
   ]
  },
  {
   "cell_type": "code",
   "execution_count": 67,
   "metadata": {},
   "outputs": [
    {
     "data": {
      "text/plain": [
       "-0.020010136415148035"
      ]
     },
     "execution_count": 67,
     "metadata": {},
     "output_type": "execute_result"
    }
   ],
   "source": [
    "data_actual['na_sales'].corr(data_actual['user_score'])\n",
    "# корреляция продаж с оценками пользователей на всех платформах в Северной Америке"
   ]
  },
  {
   "cell_type": "code",
   "execution_count": 68,
   "metadata": {},
   "outputs": [
    {
     "data": {
      "text/plain": [
       "0.3011299443114695"
      ]
     },
     "execution_count": 68,
     "metadata": {},
     "output_type": "execute_result"
    }
   ],
   "source": [
    "data_actual['na_sales'].corr(data_actual['critic_score'])\n",
    "# корреляция продаж с оценками критиков на всех платформах в Северной Америке"
   ]
  },
  {
   "cell_type": "code",
   "execution_count": 69,
   "metadata": {},
   "outputs": [
    {
     "data": {
      "text/plain": [
       "-0.02703977307445156"
      ]
     },
     "execution_count": 69,
     "metadata": {},
     "output_type": "execute_result"
    }
   ],
   "source": [
    "data_actual['eu_sales'].corr(data_actual['user_score'])\n",
    "# корреляция продаж с оценками пользователей на всех платформах в Европе"
   ]
  },
  {
   "cell_type": "code",
   "execution_count": 70,
   "metadata": {},
   "outputs": [
    {
     "data": {
      "text/plain": [
       "0.28078507833299765"
      ]
     },
     "execution_count": 70,
     "metadata": {},
     "output_type": "execute_result"
    }
   ],
   "source": [
    "data_actual['eu_sales'].corr(data_actual['critic_score'])\n",
    "# корреляция продаж с оценками критиков на всех платформах в Европе"
   ]
  },
  {
   "cell_type": "code",
   "execution_count": 71,
   "metadata": {},
   "outputs": [
    {
     "data": {
      "text/plain": [
       "0.1940250994164801"
      ]
     },
     "execution_count": 71,
     "metadata": {},
     "output_type": "execute_result"
    }
   ],
   "source": [
    "data_actual['jp_sales'].corr(data_actual['user_score'])\n",
    "# корреляция продаж с оценками пользователей на всех платформах в Японии"
   ]
  },
  {
   "cell_type": "code",
   "execution_count": 72,
   "metadata": {},
   "outputs": [
    {
     "data": {
      "text/plain": [
       "0.28078507833299765"
      ]
     },
     "execution_count": 72,
     "metadata": {},
     "output_type": "execute_result"
    }
   ],
   "source": [
    "data_actual['eu_sales'].corr(data_actual['critic_score'])\n",
    "# корреляция продаж с оценками критиков на всех платформах в Японии"
   ]
  },
  {
   "cell_type": "markdown",
   "metadata": {},
   "source": [
    "Действительно, Япониские продажи больше зависят от пользовательских оценок, в отличии от остальных регионов."
   ]
  },
  {
   "cell_type": "markdown",
   "metadata": {},
   "source": [
    "### Посмотрим распределение продаж по жанрам."
   ]
  },
  {
   "cell_type": "code",
   "execution_count": 73,
   "metadata": {},
   "outputs": [
    {
     "data": {
      "text/html": [
       "<div>\n",
       "<style scoped>\n",
       "    .dataframe tbody tr th:only-of-type {\n",
       "        vertical-align: middle;\n",
       "    }\n",
       "\n",
       "    .dataframe tbody tr th {\n",
       "        vertical-align: top;\n",
       "    }\n",
       "\n",
       "    .dataframe thead th {\n",
       "        text-align: right;\n",
       "    }\n",
       "</style>\n",
       "<table border=\"1\" class=\"dataframe\">\n",
       "  <thead>\n",
       "    <tr style=\"text-align: right;\">\n",
       "      <th></th>\n",
       "      <th>total_sales</th>\n",
       "      <th>count_games</th>\n",
       "      <th>mean_sales</th>\n",
       "    </tr>\n",
       "    <tr>\n",
       "      <th>genre</th>\n",
       "      <th></th>\n",
       "      <th></th>\n",
       "      <th></th>\n",
       "    </tr>\n",
       "  </thead>\n",
       "  <tbody>\n",
       "    <tr>\n",
       "      <th>action</th>\n",
       "      <td>321.87</td>\n",
       "      <td>766</td>\n",
       "      <td>0.420196</td>\n",
       "    </tr>\n",
       "    <tr>\n",
       "      <th>shooter</th>\n",
       "      <td>232.98</td>\n",
       "      <td>187</td>\n",
       "      <td>1.245882</td>\n",
       "    </tr>\n",
       "    <tr>\n",
       "      <th>sports</th>\n",
       "      <td>150.65</td>\n",
       "      <td>214</td>\n",
       "      <td>0.703972</td>\n",
       "    </tr>\n",
       "    <tr>\n",
       "      <th>role-playing</th>\n",
       "      <td>145.89</td>\n",
       "      <td>292</td>\n",
       "      <td>0.499623</td>\n",
       "    </tr>\n",
       "    <tr>\n",
       "      <th>misc</th>\n",
       "      <td>62.82</td>\n",
       "      <td>155</td>\n",
       "      <td>0.405290</td>\n",
       "    </tr>\n",
       "    <tr>\n",
       "      <th>platform</th>\n",
       "      <td>42.63</td>\n",
       "      <td>74</td>\n",
       "      <td>0.576081</td>\n",
       "    </tr>\n",
       "    <tr>\n",
       "      <th>racing</th>\n",
       "      <td>39.89</td>\n",
       "      <td>85</td>\n",
       "      <td>0.469294</td>\n",
       "    </tr>\n",
       "    <tr>\n",
       "      <th>fighting</th>\n",
       "      <td>35.31</td>\n",
       "      <td>80</td>\n",
       "      <td>0.441375</td>\n",
       "    </tr>\n",
       "    <tr>\n",
       "      <th>adventure</th>\n",
       "      <td>23.64</td>\n",
       "      <td>245</td>\n",
       "      <td>0.096490</td>\n",
       "    </tr>\n",
       "    <tr>\n",
       "      <th>simulation</th>\n",
       "      <td>21.76</td>\n",
       "      <td>62</td>\n",
       "      <td>0.350968</td>\n",
       "    </tr>\n",
       "    <tr>\n",
       "      <th>strategy</th>\n",
       "      <td>10.08</td>\n",
       "      <td>56</td>\n",
       "      <td>0.180000</td>\n",
       "    </tr>\n",
       "    <tr>\n",
       "      <th>puzzle</th>\n",
       "      <td>3.17</td>\n",
       "      <td>17</td>\n",
       "      <td>0.186471</td>\n",
       "    </tr>\n",
       "  </tbody>\n",
       "</table>\n",
       "</div>"
      ],
      "text/plain": [
       "              total_sales  count_games  mean_sales\n",
       "genre                                             \n",
       "action             321.87          766    0.420196\n",
       "shooter            232.98          187    1.245882\n",
       "sports             150.65          214    0.703972\n",
       "role-playing       145.89          292    0.499623\n",
       "misc                62.82          155    0.405290\n",
       "platform            42.63           74    0.576081\n",
       "racing              39.89           85    0.469294\n",
       "fighting            35.31           80    0.441375\n",
       "adventure           23.64          245    0.096490\n",
       "simulation          21.76           62    0.350968\n",
       "strategy            10.08           56    0.180000\n",
       "puzzle               3.17           17    0.186471"
      ]
     },
     "execution_count": 73,
     "metadata": {},
     "output_type": "execute_result"
    }
   ],
   "source": [
    "genre_total_sales = data_actual.pivot_table(index='genre', values='total_sales', aggfunc=['sum', 'count', 'mean'])\n",
    "genre_total_sales.columns = ['total_sales', 'count_games', 'mean_sales']\n",
    "genre_total_sales.sort_values('total_sales', ascending=False)"
   ]
  },
  {
   "cell_type": "code",
   "execution_count": 74,
   "metadata": {},
   "outputs": [
    {
     "data": {
      "text/html": [
       "<div>\n",
       "<style scoped>\n",
       "    .dataframe tbody tr th:only-of-type {\n",
       "        vertical-align: middle;\n",
       "    }\n",
       "\n",
       "    .dataframe tbody tr th {\n",
       "        vertical-align: top;\n",
       "    }\n",
       "\n",
       "    .dataframe thead th {\n",
       "        text-align: right;\n",
       "    }\n",
       "</style>\n",
       "<table border=\"1\" class=\"dataframe\">\n",
       "  <thead>\n",
       "    <tr style=\"text-align: right;\">\n",
       "      <th></th>\n",
       "      <th>total_sales</th>\n",
       "      <th>count_games</th>\n",
       "      <th>mean_sales</th>\n",
       "    </tr>\n",
       "    <tr>\n",
       "      <th>genre</th>\n",
       "      <th></th>\n",
       "      <th></th>\n",
       "      <th></th>\n",
       "    </tr>\n",
       "  </thead>\n",
       "  <tbody>\n",
       "    <tr>\n",
       "      <th>shooter</th>\n",
       "      <td>232.98</td>\n",
       "      <td>187</td>\n",
       "      <td>1.245882</td>\n",
       "    </tr>\n",
       "    <tr>\n",
       "      <th>sports</th>\n",
       "      <td>150.65</td>\n",
       "      <td>214</td>\n",
       "      <td>0.703972</td>\n",
       "    </tr>\n",
       "    <tr>\n",
       "      <th>platform</th>\n",
       "      <td>42.63</td>\n",
       "      <td>74</td>\n",
       "      <td>0.576081</td>\n",
       "    </tr>\n",
       "    <tr>\n",
       "      <th>role-playing</th>\n",
       "      <td>145.89</td>\n",
       "      <td>292</td>\n",
       "      <td>0.499623</td>\n",
       "    </tr>\n",
       "    <tr>\n",
       "      <th>racing</th>\n",
       "      <td>39.89</td>\n",
       "      <td>85</td>\n",
       "      <td>0.469294</td>\n",
       "    </tr>\n",
       "    <tr>\n",
       "      <th>fighting</th>\n",
       "      <td>35.31</td>\n",
       "      <td>80</td>\n",
       "      <td>0.441375</td>\n",
       "    </tr>\n",
       "    <tr>\n",
       "      <th>action</th>\n",
       "      <td>321.87</td>\n",
       "      <td>766</td>\n",
       "      <td>0.420196</td>\n",
       "    </tr>\n",
       "    <tr>\n",
       "      <th>misc</th>\n",
       "      <td>62.82</td>\n",
       "      <td>155</td>\n",
       "      <td>0.405290</td>\n",
       "    </tr>\n",
       "    <tr>\n",
       "      <th>simulation</th>\n",
       "      <td>21.76</td>\n",
       "      <td>62</td>\n",
       "      <td>0.350968</td>\n",
       "    </tr>\n",
       "    <tr>\n",
       "      <th>puzzle</th>\n",
       "      <td>3.17</td>\n",
       "      <td>17</td>\n",
       "      <td>0.186471</td>\n",
       "    </tr>\n",
       "    <tr>\n",
       "      <th>strategy</th>\n",
       "      <td>10.08</td>\n",
       "      <td>56</td>\n",
       "      <td>0.180000</td>\n",
       "    </tr>\n",
       "    <tr>\n",
       "      <th>adventure</th>\n",
       "      <td>23.64</td>\n",
       "      <td>245</td>\n",
       "      <td>0.096490</td>\n",
       "    </tr>\n",
       "  </tbody>\n",
       "</table>\n",
       "</div>"
      ],
      "text/plain": [
       "              total_sales  count_games  mean_sales\n",
       "genre                                             \n",
       "shooter            232.98          187    1.245882\n",
       "sports             150.65          214    0.703972\n",
       "platform            42.63           74    0.576081\n",
       "role-playing       145.89          292    0.499623\n",
       "racing              39.89           85    0.469294\n",
       "fighting            35.31           80    0.441375\n",
       "action             321.87          766    0.420196\n",
       "misc                62.82          155    0.405290\n",
       "simulation          21.76           62    0.350968\n",
       "puzzle               3.17           17    0.186471\n",
       "strategy            10.08           56    0.180000\n",
       "adventure           23.64          245    0.096490"
      ]
     },
     "execution_count": 74,
     "metadata": {},
     "output_type": "execute_result"
    }
   ],
   "source": [
    "genre_total_sales.sort_values('mean_sales', ascending=False)"
   ]
  },
  {
   "cell_type": "markdown",
   "metadata": {},
   "source": [
    "Как видно из приведённых таблиц, самым массовым жанром является action, у него же больше всех продаж в абсолюте, однако нельзя сказать что именно он самый прибольный, больше всех продаж в среднем приносят шутеры, более 1 млн проданых копий на игру."
   ]
  },
  {
   "cell_type": "markdown",
   "metadata": {},
   "source": [
    "## Портрет пользователя каждого региона"
   ]
  },
  {
   "cell_type": "markdown",
   "metadata": {},
   "source": [
    "### Для начала посмотрим распределение платформ в каждом отдельном регионе"
   ]
  },
  {
   "cell_type": "code",
   "execution_count": 75,
   "metadata": {},
   "outputs": [
    {
     "data": {
      "image/png": "[encoded data removed]",
      "text/plain": [
       "<Figure size 864x576 with 1 Axes>"
      ]
     },
     "metadata": {
      "needs_background": "light"
     },
     "output_type": "display_data"
    }
   ],
   "source": [
    "fig, ax = plt.subplots(figsize=(12, 8))\n",
    "sns.barplot(data=data_actual, \n",
    "            x='platform', \n",
    "            y='na_sales' , \n",
    "            estimator=np.sum,\n",
    "            ax=ax).set_title('Распределение платформ в Северной Америке')\n",
    "plt.xlabel('платформа')\n",
    "plt.ylabel('кол-во проданых игр в млн')\n",
    "plt.show()"
   ]
  },
  {
   "cell_type": "code",
   "execution_count": 76,
   "metadata": {},
   "outputs": [
    {
     "data": {
      "text/plain": [
       "platform\n",
       "ps4     24.842933\n",
       "xone    21.274360\n",
       "x360    18.656188\n",
       "ps3     14.507322\n",
       "3ds      8.727239\n",
       "Name: share, dtype: float64"
      ]
     },
     "execution_count": 76,
     "metadata": {},
     "output_type": "execute_result"
    }
   ],
   "source": [
    "na_sales_platform = data_actual.pivot_table(index='platform', values='na_sales', aggfunc='sum')\n",
    "na_sales_platform['share'] = na_sales_platform['na_sales'] / na_sales_platform['na_sales'].sum() * 100\n",
    "na_sales_platform['share'].sort_values(ascending=False).head()\n",
    "# Топ 5 платформ в процентном соотношении в Северной Америке"
   ]
  },
  {
   "cell_type": "code",
   "execution_count": 77,
   "metadata": {},
   "outputs": [
    {
     "data": {
      "image/png": "[encoded data removed]",
      "text/plain": [
       "<Figure size 864x576 with 1 Axes>"
      ]
     },
     "metadata": {
      "needs_background": "light"
     },
     "output_type": "display_data"
    }
   ],
   "source": [
    "fig, ax = plt.subplots(figsize=(12, 8))\n",
    "sns.barplot(data=data_actual, \n",
    "            x='platform', \n",
    "            y='eu_sales' , \n",
    "            estimator=np.sum,\n",
    "            ax=ax).set_title('Распределение платформ в северной Европе')\n",
    "plt.xlabel('платформа')\n",
    "plt.ylabel('кол-во проданых игр в млн')\n",
    "plt.show()"
   ]
  },
  {
   "cell_type": "code",
   "execution_count": 78,
   "metadata": {},
   "outputs": [
    {
     "data": {
      "text/plain": [
       "platform\n",
       "ps4     35.971241\n",
       "ps3     17.288326\n",
       "xone    13.152997\n",
       "x360    10.840578\n",
       "3ds      7.893328\n",
       "Name: share, dtype: float64"
      ]
     },
     "execution_count": 78,
     "metadata": {},
     "output_type": "execute_result"
    }
   ],
   "source": [
    "eu_sales_platform = data_actual.pivot_table(index='platform', values='eu_sales', aggfunc='sum')\n",
    "eu_sales_platform['share'] = eu_sales_platform['eu_sales'] / eu_sales_platform['eu_sales'].sum() * 100\n",
    "eu_sales_platform['share'].sort_values(ascending=False).head()\n",
    "# Топ 5 платформ в процентном соотношении в Европе"
   ]
  },
  {
   "cell_type": "code",
   "execution_count": 79,
   "metadata": {},
   "outputs": [
    {
     "data": {
      "image/png": "[encoded data removed]",
      "text/plain": [
       "<Figure size 864x576 with 1 Axes>"
      ]
     },
     "metadata": {
      "needs_background": "light"
     },
     "output_type": "display_data"
    }
   ],
   "source": [
    "fig, ax = plt.subplots(figsize=(12, 8))\n",
    "sns.barplot(data=data_actual, \n",
    "            x='platform', \n",
    "            y='jp_sales' , \n",
    "            estimator=np.sum,\n",
    "            ax=ax).set_title('Распределение платформ в Японии')\n",
    "plt.xlabel('платформа')\n",
    "plt.ylabel('кол-во проданых игр в млн')\n",
    "plt.show()"
   ]
  },
  {
   "cell_type": "code",
   "execution_count": 80,
   "metadata": {},
   "outputs": [
    {
     "data": {
      "text/plain": [
       "platform\n",
       "3ds     48.167353\n",
       "ps3     16.586163\n",
       "psv     13.205001\n",
       "ps4     11.336838\n",
       "wiiu     7.728371\n",
       "Name: share, dtype: float64"
      ]
     },
     "execution_count": 80,
     "metadata": {},
     "output_type": "execute_result"
    }
   ],
   "source": [
    "jp_sales_platform = data_actual.pivot_table(index='platform', values='jp_sales', aggfunc='sum')\n",
    "jp_sales_platform['share'] = jp_sales_platform['jp_sales'] / jp_sales_platform['jp_sales'].sum() * 100\n",
    "jp_sales_platform['share'].sort_values(ascending=False).head()\n",
    "# Топ 5 платформ в процентном соотношении в Европе"
   ]
  },
  {
   "cell_type": "markdown",
   "metadata": {},
   "source": [
    "По графикам и процентным соотношениям видно, что Северная Америка и Европа в целом похожи, лидируют продажи на PS 4 25% и 36%, отличаются немного вторые места, Xboxe One 21% и PS 3 17% соответственно, однако, поскольку продажи у PS 3 падают, больше внимания всё же стоит уделять именно Xbox One не только в Северной Америке, но и в Европе. Сильно отличается от них Япония, почти половина рынка это портативная консоль Nintendo 3DS, а популярная везде Playstation 4 аж на 4 месте с 11% долей рынка, хдесь больше внимания стоит уделить именно играм на портативной консоли от Nintendo. Япония в целом своеобразная страна в плане игр, думаю и распределение жанров там будет отличаться)"
   ]
  },
  {
   "cell_type": "markdown",
   "metadata": {},
   "source": [
    "### Теперь можем посмотреть на распределение жанров"
   ]
  },
  {
   "cell_type": "code",
   "execution_count": 81,
   "metadata": {},
   "outputs": [
    {
     "data": {
      "image/png": "[encoded data removed]",
      "text/plain": [
       "<Figure size 864x576 with 1 Axes>"
      ]
     },
     "metadata": {
      "needs_background": "light"
     },
     "output_type": "display_data"
    }
   ],
   "source": [
    "fig, ax = plt.subplots(figsize=(12, 8))\n",
    "sns.barplot(data=data_actual, \n",
    "            x='genre', \n",
    "            y='na_sales' , \n",
    "            estimator=np.sum,\n",
    "            ax=ax).set_title('Распределение жанров в Северной Америке')\n",
    "plt.xlabel('жанр')\n",
    "plt.ylabel('кол-во проданых игр в млн')\n",
    "plt.show()"
   ]
  },
  {
   "cell_type": "code",
   "execution_count": 82,
   "metadata": {},
   "outputs": [
    {
     "data": {
      "text/plain": [
       "genre\n",
       "action          28.797606\n",
       "shooter         25.071394\n",
       "sports          14.911700\n",
       "role-playing    10.600626\n",
       "misc             6.280414\n",
       "Name: share, dtype: float64"
      ]
     },
     "execution_count": 82,
     "metadata": {},
     "output_type": "execute_result"
    }
   ],
   "source": [
    "na_sales_genre = data_actual.pivot_table(index='genre', values='na_sales', aggfunc='sum')\n",
    "na_sales_genre['share'] = na_sales_genre['na_sales'] / na_sales_genre['na_sales'].sum() * 100\n",
    "na_sales_genre['share'].sort_values(ascending=False).head()\n",
    "# Топ 5 жанров в процентном соотношении в Северной Америке"
   ]
  },
  {
   "cell_type": "code",
   "execution_count": 83,
   "metadata": {},
   "outputs": [
    {
     "data": {
      "image/png": "[encoded data removed]",
      "text/plain": [
       "<Figure size 864x576 with 1 Axes>"
      ]
     },
     "metadata": {
      "needs_background": "light"
     },
     "output_type": "display_data"
    }
   ],
   "source": [
    "fig, ax = plt.subplots(figsize=(12, 8))\n",
    "sns.barplot(data=data_actual, \n",
    "            x='genre', \n",
    "            y='eu_sales' , \n",
    "            estimator=np.sum,\n",
    "            ax=ax).set_title('Распределение жанров в Европе')\n",
    "plt.xlabel('жанр')\n",
    "plt.ylabel('кол-во проданых игр в млн')\n",
    "plt.show()"
   ]
  },
  {
   "cell_type": "code",
   "execution_count": 84,
   "metadata": {},
   "outputs": [
    {
     "data": {
      "text/plain": [
       "genre\n",
       "action          30.117533\n",
       "shooter         22.400122\n",
       "sports          15.429722\n",
       "role-playing     9.425592\n",
       "racing           5.147490\n",
       "Name: share, dtype: float64"
      ]
     },
     "execution_count": 84,
     "metadata": {},
     "output_type": "execute_result"
    }
   ],
   "source": [
    "eu_sales_genre = data_actual.pivot_table(index='genre', values='eu_sales', aggfunc='sum')\n",
    "eu_sales_genre['share'] = eu_sales_genre['eu_sales'] / eu_sales_genre['eu_sales'].sum() * 100\n",
    "eu_sales_genre['share'].sort_values(ascending=False).head()\n",
    "# Топ 5 жанров в процентном соотношении в Европе"
   ]
  },
  {
   "cell_type": "code",
   "execution_count": 85,
   "metadata": {},
   "outputs": [
    {
     "data": {
      "image/png": "[encoded data removed]",
      "text/plain": [
       "<Figure size 864x576 with 1 Axes>"
      ]
     },
     "metadata": {
      "needs_background": "light"
     },
     "output_type": "display_data"
    }
   ],
   "source": [
    "fig, ax = plt.subplots(figsize=(12, 8))\n",
    "sns.barplot(data=data_actual, \n",
    "            x='genre', \n",
    "            y='jp_sales' , \n",
    "            estimator=np.sum,\n",
    "            ax=ax).set_title('Распределение жанров в Японии')\n",
    "plt.xlabel('жанр')\n",
    "plt.ylabel('кол-во проданых игр в млн')\n",
    "plt.show()"
   ]
  },
  {
   "cell_type": "code",
   "execution_count": 86,
   "metadata": {},
   "outputs": [
    {
     "data": {
      "text/plain": [
       "genre\n",
       "role-playing    36.255150\n",
       "action          28.761188\n",
       "misc             6.535019\n",
       "fighting         5.434011\n",
       "shooter          4.695269\n",
       "Name: share, dtype: float64"
      ]
     },
     "execution_count": 86,
     "metadata": {},
     "output_type": "execute_result"
    }
   ],
   "source": [
    "jp_sales_genre = data_actual.pivot_table(index='genre', values='jp_sales', aggfunc='sum')\n",
    "jp_sales_genre['share'] = jp_sales_genre['jp_sales'] / jp_sales_genre['jp_sales'].sum() * 100\n",
    "jp_sales_genre['share'].sort_values(ascending=False).head()\n",
    "# Топ 5 жанров в процентном соотношении в Японии"
   ]
  },
  {
   "cell_type": "markdown",
   "metadata": {},
   "source": [
    "По жанрам мы можем заметить всё то же сходство Северной Амирики и Европы, лидируют экшены и шутеры, и там и там у лидера примерно 30%. Япония отличается, здесь значительный вес имеют только ролевые игры с 36% и экшены с 29%, остальные жанры по всей видимости не очень интересны японии, на все остальные жанры приходиться 35% проданных игр, меньше, чем у лидера."
   ]
  },
  {
   "cell_type": "markdown",
   "metadata": {},
   "source": [
    "### Посмотрим на различия в рейтинге игр по ESRB"
   ]
  },
  {
   "cell_type": "code",
   "execution_count": 87,
   "metadata": {},
   "outputs": [
    {
     "data": {
      "image/png": "[encoded data removed]",
      "text/plain": [
       "<Figure size 864x576 with 1 Axes>"
      ]
     },
     "metadata": {
      "needs_background": "light"
     },
     "output_type": "display_data"
    }
   ],
   "source": [
    "fig, ax = plt.subplots(figsize=(12, 8))\n",
    "sns.barplot(data=data_actual, \n",
    "            x='rating', \n",
    "            y='na_sales' , \n",
    "            estimator=np.sum,\n",
    "            ax=ax).set_title('Распределение возрастных рейтингов в Северной Америке')\n",
    "plt.xlabel('возрастной рейтинг')\n",
    "plt.ylabel('кол-во проданых игр в млн')\n",
    "plt.show()"
   ]
  },
  {
   "cell_type": "code",
   "execution_count": 88,
   "metadata": {},
   "outputs": [
    {
     "data": {
      "text/plain": [
       "rating\n",
       "M          0.447724\n",
       "E          0.261755\n",
       "E10+       0.215238\n",
       "T          0.149520\n",
       "unknown    0.091525\n",
       "Name: mean_sales, dtype: float64"
      ]
     },
     "execution_count": 88,
     "metadata": {},
     "output_type": "execute_result"
    }
   ],
   "source": [
    "na_sales_rating = data_actual.pivot_table(index='rating', values='na_sales', aggfunc=['sum', 'count'])\n",
    "na_sales_rating.columns = ['total_sales', 'count_games']\n",
    "na_sales_rating['mean_sales'] = na_sales_rating['total_sales'] / na_sales_rating['count_games']\n",
    "na_sales_rating['mean_sales'].sort_values(ascending=False)\n",
    "# Средние продажи игр с разными рейтингами в Северной Америке"
   ]
  },
  {
   "cell_type": "code",
   "execution_count": 89,
   "metadata": {},
   "outputs": [
    {
     "data": {
      "image/png": "[encoded data removed]",
      "text/plain": [
       "<Figure size 864x576 with 1 Axes>"
      ]
     },
     "metadata": {
      "needs_background": "light"
     },
     "output_type": "display_data"
    }
   ],
   "source": [
    "fig, ax = plt.subplots(figsize=(12, 8))\n",
    "sns.barplot(data=data_actual, \n",
    "            x='rating', \n",
    "            y='eu_sales' , \n",
    "            estimator=np.sum,\n",
    "            ax=ax).set_title('Распределение возрастных рейтингов в Европе')\n",
    "plt.xlabel('возрастной рейтинг')\n",
    "plt.ylabel('кол-во проданых игр в млн')\n",
    "plt.show()"
   ]
  },
  {
   "cell_type": "code",
   "execution_count": 90,
   "metadata": {},
   "outputs": [
    {
     "data": {
      "text/plain": [
       "rating\n",
       "M          0.393821\n",
       "E          0.276026\n",
       "E10+       0.169405\n",
       "T          0.125976\n",
       "unknown    0.080768\n",
       "Name: mean_sales, dtype: float64"
      ]
     },
     "execution_count": 90,
     "metadata": {},
     "output_type": "execute_result"
    }
   ],
   "source": [
    "eu_sales_rating = data_actual.pivot_table(index='rating', values='eu_sales', aggfunc=['sum', 'count'])\n",
    "eu_sales_rating.columns = ['total_sales', 'count_games']\n",
    "eu_sales_rating['mean_sales'] = eu_sales_rating['total_sales'] / eu_sales_rating['count_games']\n",
    "eu_sales_rating['mean_sales'].sort_values(ascending=False)\n",
    "# Средние продажи игр с разными рейтингами в Европе"
   ]
  },
  {
   "cell_type": "code",
   "execution_count": 91,
   "metadata": {},
   "outputs": [
    {
     "data": {
      "image/png": "[encoded data removed]",
      "text/plain": [
       "<Figure size 864x576 with 1 Axes>"
      ]
     },
     "metadata": {
      "needs_background": "light"
     },
     "output_type": "display_data"
    }
   ],
   "source": [
    "fig, ax = plt.subplots(figsize=(12, 8))\n",
    "sns.barplot(data=data_actual, \n",
    "            x='rating', \n",
    "            y='jp_sales' , \n",
    "            estimator=np.sum,\n",
    "            ax=ax).set_title('Распределение возрастных рейтингов в Японии')\n",
    "plt.xlabel('возрастной рейтинг')\n",
    "plt.ylabel('кол-во проданых игр в млн')\n",
    "plt.show()"
   ]
  },
  {
   "cell_type": "code",
   "execution_count": 92,
   "metadata": {},
   "outputs": [
    {
     "data": {
      "text/plain": [
       "rating\n",
       "unknown    0.087052\n",
       "T          0.061832\n",
       "E          0.050132\n",
       "M          0.038238\n",
       "E10+       0.023373\n",
       "Name: mean_sales, dtype: float64"
      ]
     },
     "execution_count": 92,
     "metadata": {},
     "output_type": "execute_result"
    }
   ],
   "source": [
    "jp_sales_rating = data_actual.pivot_table(index='rating', values='jp_sales', aggfunc=['sum', 'count'])\n",
    "jp_sales_rating.columns = ['total_sales', 'count_games']\n",
    "jp_sales_rating['mean_sales'] = jp_sales_rating['total_sales'] / jp_sales_rating['count_games']\n",
    "jp_sales_rating['mean_sales'].sort_values(ascending=False)\n",
    "# Средние продажи игр с разными рейтингами в Японии"
   ]
  },
  {
   "cell_type": "markdown",
   "metadata": {},
   "source": [
    "Различия всё те же, что и раньше)\n",
    "В Северной Америке и Европе больше всего проданных игр и больше всего продаж в среднем на 1 игру приходится на рейтинг M (17+) намного больше 100 млн проданных игр в целом и около 400 тысяч в среднем, на втором месте, с серьёхным отстованием рейтинг E (для всех возрастов) чуть менее 100 млн проданных игр и около 270 тысяч копий в среднем. Япония же отличается именно лидером, тут больше всего проданных игр с рейтингом T (13+), чуть более 20 млн и 60 тысяч в среднем, второе место у рейтинга E, 15 млн в сумме и 50 тысяч в среднем продаж. Так же стоит отметить, что у достаточно большого количества игр отсутствует возрастной рейтинг, особенно это заметно в Японии, где неизвестный рейтинг занимает основную долю рынка, вероятнее всего это связано с тем, что ESRB компания из США и специализируется только на выпускаемых или выходящих там играх, а в Японии существует очень много эксклюивных игр, выходящих только в одной стране. Предлагаю всё же брать игры с известным рейтингом для выводов, поскольку неизвестный рейтинг достатчно сложно правильно оценить, вероятно в Японии есть своя система возрастных оценок и для более точного анализа неоходимо больше данных."
   ]
  },
  {
   "cell_type": "markdown",
   "metadata": {},
   "source": [
    "### Пользователь каждого региона"
   ]
  },
  {
   "cell_type": "markdown",
   "metadata": {},
   "source": [
    "В целом, можно сказать, что пользователи Северной Америки и Европы очень похожи, пользователь вероятнее всего придёт в магазин за игрой жанра экшен для Playstation 4 с возрастным рейтингом M по ESRB, а Японский пользователь придёт за ролевой игрой для 3DS с рейтингом T."
   ]
  },
  {
   "cell_type": "markdown",
   "metadata": {},
   "source": [
    "## Проверка гипотиз"
   ]
  },
  {
   "cell_type": "markdown",
   "metadata": {},
   "source": [
    "### Средние пользовательские рейтинги платформ Xbox One и PC одинаковые"
   ]
  },
  {
   "cell_type": "markdown",
   "metadata": {},
   "source": [
    "```\n",
    "H_0: средние пользовательские рейтинги Xbox One = средние пользовательские рейтинги PC\n",
    "H_a: средние пользовательские рейтинги Xbox One ≠ средние пользовательские рейтинги PC\n",
    "alpha = 0.05\n",
    "```"
   ]
  },
  {
   "cell_type": "code",
   "execution_count": 93,
   "metadata": {},
   "outputs": [
    {
     "name": "stdout",
     "output_type": "stream",
     "text": [
      "155\n",
      "182\n"
     ]
    }
   ],
   "source": [
    "data_actual_pc = data_actual.query('platform == \"pc\"')\n",
    "data_actual_pc = data_actual_pc['user_score'].dropna()\n",
    "data_actual_xone = data_actual.query('platform == \"xone\"')\n",
    "data_actual_xone = data_actual_xone['user_score'].dropna()\n",
    "# Проверяем только заполненные значения\n",
    "print(len(data_actual_pc))\n",
    "print(len(data_actual_xone))"
   ]
  },
  {
   "cell_type": "code",
   "execution_count": 94,
   "metadata": {},
   "outputs": [
    {
     "name": "stdout",
     "output_type": "stream",
     "text": [
      "0.14759594013430463\n",
      "Не получилось отвергнуть нулевую гипотезу\n"
     ]
    }
   ],
   "source": [
    "alpha = 0.05\n",
    "results = st.ttest_ind(data_actual_pc, data_actual_xone, equal_var=False)\n",
    "# equal_var = False, поскольку выборки по размеру примерно одинаковы\n",
    "print(results.pvalue)\n",
    "if results.pvalue < alpha:\n",
    "    print('Отвергаем нулевую гипотезу')\n",
    "else:\n",
    "    print('Не получилось отвергнуть нулевую гипотезу')  "
   ]
  },
  {
   "cell_type": "markdown",
   "metadata": {},
   "source": [
    "Гипотеза о том, что средние пользовательские рейтинги на Xbox One и ПК одинаковые верна, они действительно очень схожи."
   ]
  },
  {
   "cell_type": "markdown",
   "metadata": {},
   "source": [
    "### Средние пользовательские рейтинги жанров Action и Sports разные."
   ]
  },
  {
   "cell_type": "markdown",
   "metadata": {},
   "source": [
    "```\n",
    "H_0: cредние пользовательские рейтинги Action ≠ средние пользовательские рейтинги Sports\n",
    "H_a: средние пользовательские рейтинги Action = средние пользовательские рейтинги Sports\n",
    "alpha = 0.05\n",
    "```"
   ]
  },
  {
   "cell_type": "code",
   "execution_count": 95,
   "metadata": {},
   "outputs": [
    {
     "name": "stdout",
     "output_type": "stream",
     "text": [
      "389\n",
      "160\n"
     ]
    }
   ],
   "source": [
    "data_actual_action = data_actual.query('genre == \"action\"')\n",
    "data_actual_action = data_actual_action['user_score'].dropna()\n",
    "data_actual_sports = data_actual.query('genre == \"sports\"')\n",
    "data_actual_sports = data_actual_sports['user_score'].dropna()\n",
    "# Проверяем только заполненные значения\n",
    "print(len(data_actual_action))\n",
    "print(len(data_actual_sports))"
   ]
  },
  {
   "cell_type": "code",
   "execution_count": 96,
   "metadata": {},
   "outputs": [
    {
     "name": "stdout",
     "output_type": "stream",
     "text": [
      "1.0517832389140023e-27\n",
      "Отвергаем нулевую гипотезу\n"
     ]
    }
   ],
   "source": [
    "alpha = 0.05\n",
    "results = st.ttest_ind(data_actual_action, data_actual_sports, equal_var=True)\n",
    "# equal_var = True, поскольку выборки по размеру разные\n",
    "print(results.pvalue)\n",
    "if results.pvalue < alpha:\n",
    "    print('Отвергаем нулевую гипотезу')\n",
    "else:\n",
    "    print('Не получилось отвергнуть нулевую гипотезу')  "
   ]
  },
  {
   "cell_type": "markdown",
   "metadata": {},
   "source": [
    "Гипотезу о том, что средние пользовательские рейтинги жанров экшен и спорт разные можно отвергнуть, они достаточно близки друг к другу. При изменении параметра alpha результат проверок не будет отличаться."
   ]
  },
  {
   "cell_type": "markdown",
   "metadata": {},
   "source": [
    "## Общий вывод"
   ]
  },
  {
   "cell_type": "markdown",
   "metadata": {},
   "source": [
    "```\n",
    "Начнём с исходного датасета. В таблице были пропущены некоторые значения в названии игр, дате их выхода и жанров, данные пропуски пришлось удалить, поскольку заменить их логически невозможно и их было немного, так что на общий вывод они не могли повлиять. \n",
    "Так же пропуски были в столбцах с пользовательским рейтингом, оценками критикиков, было принято не заполнять данные пропуски и не удалять их, поскольку это около половины всех данных, а заполнить их медианным или средним значениями не совсем корректно, ведь рейтинг у игры складывается от независимых в данных параметров, таких как геймплей, сюжет и тому подобное. В возрастном рейтинге игр было принято заменить пропуски на значение \"unknown\" для учёта этих игр в исследованиях.\n",
    "```"
   ]
  },
  {
   "cell_type": "markdown",
   "metadata": {},
   "source": [
    "```\n",
    "Общий вывод по исследованию. В данных представлено очень большое количтсво игр, большинство из которых вышли после 2000 года, самый пик был в 2009 - 2010 годах, после чего началось падение и только в 2016 году игр снова стало выходить больше, чем в предыдущем году. \n",
    "Средний срок жизни платформы составляет в среднем 6 лет, если не брать в расчёт ПК, однако он постоянно обновляется и эволюционирует, из-за чего сравнивать его с консолями не корректно, при этом, со столь долгой жизнью в 31 год он не смог стать наиболее популярной платформой среди всех, вероятно это связано с тем, что в данных учитаны только продажи на физических носителях, по этому показателю и новым платформам будет очень сложно угнаться за абсолюным лидером Playstation 2 c 1.2 млрд проданных копий игр. \n",
    "Среди современных платформ стоит отметить Playstation 4, Xbox One и Nintendo 3DS, первая является лидером по продажам игр в Северной Америке и Европе с более чем 250 млн проданных игр в этих регионах, а последняя является лидеромс в Японии с 60 млн проданных игр.\n",
    "Самыми популярными жанрами сейчас являются Action в каждом из регионов, а так же Shopter и Sports в Европе и Северной Америке и Role-play в Японии, а наиболее популярными рейтингами: M во всех регионах, а так же T и E в Японии.\n",
    "В ходе исследования было проверено две гипозы и получены следующие результаты: средние пользовательские рейтинги платформ Xbox One и PC и Средние пользовательские рейтинги жанров Action и Sports одинаковые.\n",
    "```"
   ]
  },
  {
   "cell_type": "markdown",
   "metadata": {},
   "source": [
    "```\n",
    "Рекомендации к планироанию рекламных кампаний\n",
    "На продажи игр достаточно сильно влияют оценки критиков, поэтому больше внимания стоит уделить именно играм с высокими оценками экспертов, при этом можно не удять много внимая на пользовательские оценки, поскольку они не влияют на продажи проекта.\n",
    "В Северной Америке и Европе больше внимания стоит уделить играм на консоли Playstation 4 и меньше Xbox One, первая показывает лучшие продажи среди всех актуальных платформ. В Японии же больше всего внимания стоит уделить портативной консоли Nintendo, поскольку у них выходит новая Nintendo Switch больше внимания стоит уделить именно ей, а не 3DS, по графикам заметно резкое падения продаж игр на старой консоли при выходе новой.\n",
    "Наиболее успешными будут Action, вышедшие на Playstation 4 с возрастным рейтингом M и максимально возможными оценками критиков В Северной Америке и Европе и Role-play игры для Nintendo с возрастным рейтингом T в Японии.\n",
    "Выводы основаны на данных за последние 3 года.\n",
    "```"
   ]
  }
 ],
 "metadata": {
  "ExecuteTimeLog": [
   {
    "duration": 413,
    "start_time": "2022-10-31T08:47:35.956Z"
   },
   {
    "duration": 196,
    "start_time": "2022-10-31T08:48:05.695Z"
   },
   {
    "duration": 26,
    "start_time": "2022-10-31T08:48:12.511Z"
   },
   {
    "duration": 14,
    "start_time": "2022-10-31T08:48:33.719Z"
   },
   {
    "duration": 1234,
    "start_time": "2022-10-31T08:49:56.417Z"
   },
   {
    "duration": 12,
    "start_time": "2022-10-31T08:57:27.059Z"
   },
   {
    "duration": 74,
    "start_time": "2022-10-31T09:00:37.463Z"
   },
   {
    "duration": 4,
    "start_time": "2022-10-31T09:02:24.874Z"
   },
   {
    "duration": 7,
    "start_time": "2022-10-31T09:02:30.966Z"
   },
   {
    "duration": 5,
    "start_time": "2022-10-31T09:02:35.262Z"
   },
   {
    "duration": 2,
    "start_time": "2022-10-31T09:03:33.667Z"
   },
   {
    "duration": 68,
    "start_time": "2022-10-31T09:03:33.672Z"
   },
   {
    "duration": 71,
    "start_time": "2022-10-31T09:03:33.741Z"
   },
   {
    "duration": 22,
    "start_time": "2022-10-31T09:03:33.814Z"
   },
   {
    "duration": 12,
    "start_time": "2022-10-31T09:03:33.839Z"
   },
   {
    "duration": 746,
    "start_time": "2022-10-31T09:03:33.853Z"
   },
   {
    "duration": 4,
    "start_time": "2022-10-31T09:03:36.806Z"
   },
   {
    "duration": 21,
    "start_time": "2022-10-31T09:03:38.606Z"
   },
   {
    "duration": 19,
    "start_time": "2022-10-31T09:04:32.904Z"
   },
   {
    "duration": 14,
    "start_time": "2022-10-31T09:04:58.264Z"
   },
   {
    "duration": 3,
    "start_time": "2022-10-31T09:06:02.225Z"
   },
   {
    "duration": 19,
    "start_time": "2022-10-31T09:06:04.816Z"
   },
   {
    "duration": 3,
    "start_time": "2022-10-31T09:06:30.649Z"
   },
   {
    "duration": 87,
    "start_time": "2022-10-31T09:06:30.655Z"
   },
   {
    "duration": 19,
    "start_time": "2022-10-31T09:06:30.744Z"
   },
   {
    "duration": 47,
    "start_time": "2022-10-31T09:06:30.764Z"
   },
   {
    "duration": 30,
    "start_time": "2022-10-31T09:06:30.814Z"
   },
   {
    "duration": 792,
    "start_time": "2022-10-31T09:06:30.846Z"
   },
   {
    "duration": 4,
    "start_time": "2022-10-31T09:06:39.345Z"
   },
   {
    "duration": 14,
    "start_time": "2022-10-31T09:06:45.593Z"
   },
   {
    "duration": 9,
    "start_time": "2022-10-31T09:07:35.346Z"
   },
   {
    "duration": 19,
    "start_time": "2022-10-31T09:07:53.395Z"
   },
   {
    "duration": 14,
    "start_time": "2022-10-31T09:07:55.603Z"
   },
   {
    "duration": 81,
    "start_time": "2022-10-31T09:13:18.024Z"
   },
   {
    "duration": 100,
    "start_time": "2022-10-31T09:13:26.936Z"
   },
   {
    "duration": 7,
    "start_time": "2022-10-31T09:13:38.985Z"
   },
   {
    "duration": 10,
    "start_time": "2022-10-31T09:13:59.880Z"
   },
   {
    "duration": 13,
    "start_time": "2022-10-31T09:14:06.793Z"
   },
   {
    "duration": 15,
    "start_time": "2022-10-31T09:14:29.544Z"
   },
   {
    "duration": 5,
    "start_time": "2022-10-31T09:16:14.491Z"
   },
   {
    "duration": 6,
    "start_time": "2022-10-31T09:21:23.743Z"
   },
   {
    "duration": 6,
    "start_time": "2022-10-31T09:21:31.447Z"
   },
   {
    "duration": 7,
    "start_time": "2022-10-31T09:21:40.440Z"
   },
   {
    "duration": 6,
    "start_time": "2022-10-31T09:21:47.216Z"
   },
   {
    "duration": 7,
    "start_time": "2022-10-31T09:21:49.880Z"
   },
   {
    "duration": 8,
    "start_time": "2022-10-31T09:25:40.867Z"
   },
   {
    "duration": 16,
    "start_time": "2022-10-31T09:25:56.412Z"
   },
   {
    "duration": 18,
    "start_time": "2022-10-31T09:30:46.448Z"
   },
   {
    "duration": 10,
    "start_time": "2022-10-31T09:31:28.328Z"
   },
   {
    "duration": 3,
    "start_time": "2022-10-31T09:31:40.117Z"
   },
   {
    "duration": 64,
    "start_time": "2022-10-31T09:31:40.122Z"
   },
   {
    "duration": 12,
    "start_time": "2022-10-31T09:31:40.188Z"
   },
   {
    "duration": 15,
    "start_time": "2022-10-31T09:31:40.202Z"
   },
   {
    "duration": 8,
    "start_time": "2022-10-31T09:31:40.219Z"
   },
   {
    "duration": 808,
    "start_time": "2022-10-31T09:31:40.228Z"
   },
   {
    "duration": 4,
    "start_time": "2022-10-31T09:31:41.037Z"
   },
   {
    "duration": 22,
    "start_time": "2022-10-31T09:31:41.042Z"
   },
   {
    "duration": 22,
    "start_time": "2022-10-31T09:31:41.066Z"
   },
   {
    "duration": 9,
    "start_time": "2022-10-31T09:31:41.090Z"
   },
   {
    "duration": 5,
    "start_time": "2022-10-31T09:31:41.101Z"
   },
   {
    "duration": 6,
    "start_time": "2022-10-31T09:31:41.108Z"
   },
   {
    "duration": 9,
    "start_time": "2022-10-31T09:31:44.233Z"
   },
   {
    "duration": 13,
    "start_time": "2022-10-31T09:32:01.402Z"
   },
   {
    "duration": 6,
    "start_time": "2022-10-31T09:32:37.426Z"
   },
   {
    "duration": 13,
    "start_time": "2022-10-31T09:33:04.914Z"
   },
   {
    "duration": 6,
    "start_time": "2022-10-31T09:36:30.206Z"
   },
   {
    "duration": 19,
    "start_time": "2022-10-31T09:37:06.070Z"
   },
   {
    "duration": 8,
    "start_time": "2022-10-31T09:37:10.335Z"
   },
   {
    "duration": 9,
    "start_time": "2022-10-31T09:37:13.742Z"
   },
   {
    "duration": 13,
    "start_time": "2022-10-31T09:37:16.662Z"
   },
   {
    "duration": 13,
    "start_time": "2022-10-31T09:38:21.056Z"
   },
   {
    "duration": 15,
    "start_time": "2022-10-31T09:38:36.544Z"
   },
   {
    "duration": 20,
    "start_time": "2022-10-31T09:39:06.400Z"
   },
   {
    "duration": 5,
    "start_time": "2022-10-31T09:50:00.186Z"
   },
   {
    "duration": 15,
    "start_time": "2022-10-31T09:50:12.979Z"
   },
   {
    "duration": 8,
    "start_time": "2022-10-31T09:52:37.300Z"
   },
   {
    "duration": 15,
    "start_time": "2022-10-31T09:52:45.900Z"
   },
   {
    "duration": 14,
    "start_time": "2022-10-31T09:53:13.165Z"
   },
   {
    "duration": 8,
    "start_time": "2022-10-31T09:53:23.829Z"
   },
   {
    "duration": 13,
    "start_time": "2022-10-31T09:53:29.309Z"
   },
   {
    "duration": 14,
    "start_time": "2022-10-31T10:35:02.276Z"
   },
   {
    "duration": 24,
    "start_time": "2022-10-31T10:35:06.700Z"
   },
   {
    "duration": 21,
    "start_time": "2022-10-31T11:27:55.609Z"
   },
   {
    "duration": 3,
    "start_time": "2022-10-31T11:29:07.696Z"
   },
   {
    "duration": 33,
    "start_time": "2022-10-31T11:32:49.873Z"
   },
   {
    "duration": 24,
    "start_time": "2022-10-31T11:33:00.667Z"
   },
   {
    "duration": 10,
    "start_time": "2022-10-31T11:33:21.213Z"
   },
   {
    "duration": 20,
    "start_time": "2022-10-31T11:33:29.325Z"
   },
   {
    "duration": 9,
    "start_time": "2022-10-31T11:33:53.246Z"
   },
   {
    "duration": 11,
    "start_time": "2022-10-31T11:34:00.334Z"
   },
   {
    "duration": 12,
    "start_time": "2022-10-31T11:34:07.511Z"
   },
   {
    "duration": 11,
    "start_time": "2022-10-31T11:36:12.088Z"
   },
   {
    "duration": 17,
    "start_time": "2022-10-31T11:36:28.040Z"
   },
   {
    "duration": 9,
    "start_time": "2022-10-31T11:36:31.951Z"
   },
   {
    "duration": 22,
    "start_time": "2022-10-31T11:37:11.896Z"
   },
   {
    "duration": 10,
    "start_time": "2022-10-31T11:37:12.513Z"
   },
   {
    "duration": 22,
    "start_time": "2022-10-31T11:37:28.300Z"
   },
   {
    "duration": 10,
    "start_time": "2022-10-31T11:37:28.965Z"
   },
   {
    "duration": 5,
    "start_time": "2022-10-31T11:39:02.052Z"
   },
   {
    "duration": 6,
    "start_time": "2022-10-31T11:39:10.162Z"
   },
   {
    "duration": 6,
    "start_time": "2022-10-31T11:39:49.820Z"
   },
   {
    "duration": 3,
    "start_time": "2022-10-31T11:40:48.292Z"
   },
   {
    "duration": 11,
    "start_time": "2022-10-31T11:40:48.909Z"
   },
   {
    "duration": 16,
    "start_time": "2022-10-31T11:40:49.454Z"
   },
   {
    "duration": 15,
    "start_time": "2022-10-31T11:40:49.813Z"
   },
   {
    "duration": 5,
    "start_time": "2022-10-31T11:40:50.389Z"
   },
   {
    "duration": 4,
    "start_time": "2022-10-31T11:40:59.407Z"
   },
   {
    "duration": 48,
    "start_time": "2022-10-31T11:40:59.413Z"
   },
   {
    "duration": 14,
    "start_time": "2022-10-31T11:40:59.463Z"
   },
   {
    "duration": 17,
    "start_time": "2022-10-31T11:40:59.479Z"
   },
   {
    "duration": 16,
    "start_time": "2022-10-31T11:40:59.500Z"
   },
   {
    "duration": 816,
    "start_time": "2022-10-31T11:40:59.518Z"
   },
   {
    "duration": 7,
    "start_time": "2022-10-31T11:41:00.336Z"
   },
   {
    "duration": 50,
    "start_time": "2022-10-31T11:41:00.345Z"
   },
   {
    "duration": 22,
    "start_time": "2022-10-31T11:41:00.397Z"
   },
   {
    "duration": 31,
    "start_time": "2022-10-31T11:41:00.421Z"
   },
   {
    "duration": 35,
    "start_time": "2022-10-31T11:41:00.454Z"
   },
   {
    "duration": 50,
    "start_time": "2022-10-31T11:41:00.491Z"
   },
   {
    "duration": 57,
    "start_time": "2022-10-31T11:41:00.544Z"
   },
   {
    "duration": 22,
    "start_time": "2022-10-31T11:41:00.605Z"
   },
   {
    "duration": 59,
    "start_time": "2022-10-31T11:41:00.629Z"
   },
   {
    "duration": 36,
    "start_time": "2022-10-31T11:41:00.690Z"
   },
   {
    "duration": 34,
    "start_time": "2022-10-31T11:41:00.728Z"
   },
   {
    "duration": 41,
    "start_time": "2022-10-31T11:41:00.764Z"
   },
   {
    "duration": 27,
    "start_time": "2022-10-31T11:41:00.808Z"
   },
   {
    "duration": 40,
    "start_time": "2022-10-31T11:41:00.837Z"
   },
   {
    "duration": 30,
    "start_time": "2022-10-31T11:41:00.880Z"
   },
   {
    "duration": 50,
    "start_time": "2022-10-31T11:41:00.912Z"
   },
   {
    "duration": 11,
    "start_time": "2022-10-31T11:41:00.964Z"
   },
   {
    "duration": 9,
    "start_time": "2022-10-31T11:41:09.972Z"
   },
   {
    "duration": 7,
    "start_time": "2022-10-31T11:41:10.861Z"
   },
   {
    "duration": 2,
    "start_time": "2022-10-31T11:43:42.087Z"
   },
   {
    "duration": 316,
    "start_time": "2022-10-31T11:46:34.194Z"
   },
   {
    "duration": 13,
    "start_time": "2022-10-31T11:52:19.664Z"
   },
   {
    "duration": 23,
    "start_time": "2022-10-31T11:52:44.969Z"
   },
   {
    "duration": 10,
    "start_time": "2022-10-31T11:53:08.495Z"
   },
   {
    "duration": 19,
    "start_time": "2022-10-31T11:53:10.289Z"
   },
   {
    "duration": 137,
    "start_time": "2022-10-31T11:54:31.155Z"
   },
   {
    "duration": 5,
    "start_time": "2022-10-31T11:54:46.754Z"
   },
   {
    "duration": 4,
    "start_time": "2022-10-31T11:56:00.917Z"
   },
   {
    "duration": 61,
    "start_time": "2022-10-31T11:56:00.923Z"
   },
   {
    "duration": 17,
    "start_time": "2022-10-31T11:56:00.986Z"
   },
   {
    "duration": 20,
    "start_time": "2022-10-31T11:56:01.005Z"
   },
   {
    "duration": 11,
    "start_time": "2022-10-31T11:56:01.028Z"
   },
   {
    "duration": 899,
    "start_time": "2022-10-31T11:56:01.042Z"
   },
   {
    "duration": 4,
    "start_time": "2022-10-31T11:56:01.943Z"
   },
   {
    "duration": 28,
    "start_time": "2022-10-31T11:56:01.949Z"
   },
   {
    "duration": 14,
    "start_time": "2022-10-31T11:56:01.979Z"
   },
   {
    "duration": 25,
    "start_time": "2022-10-31T11:56:01.995Z"
   },
   {
    "duration": 16,
    "start_time": "2022-10-31T11:56:04.243Z"
   },
   {
    "duration": 6,
    "start_time": "2022-10-31T11:56:10.300Z"
   },
   {
    "duration": 14,
    "start_time": "2022-10-31T11:56:38.925Z"
   },
   {
    "duration": 3,
    "start_time": "2022-10-31T11:56:52.140Z"
   },
   {
    "duration": 51,
    "start_time": "2022-10-31T11:56:52.145Z"
   },
   {
    "duration": 14,
    "start_time": "2022-10-31T11:56:52.197Z"
   },
   {
    "duration": 20,
    "start_time": "2022-10-31T11:56:52.212Z"
   },
   {
    "duration": 13,
    "start_time": "2022-10-31T11:56:52.235Z"
   },
   {
    "duration": 786,
    "start_time": "2022-10-31T11:56:52.251Z"
   },
   {
    "duration": 3,
    "start_time": "2022-10-31T11:56:53.039Z"
   },
   {
    "duration": 20,
    "start_time": "2022-10-31T11:56:53.044Z"
   },
   {
    "duration": 14,
    "start_time": "2022-10-31T11:56:53.077Z"
   },
   {
    "duration": 12,
    "start_time": "2022-10-31T11:56:53.093Z"
   },
   {
    "duration": 6,
    "start_time": "2022-10-31T11:56:53.107Z"
   },
   {
    "duration": 9,
    "start_time": "2022-10-31T11:56:53.114Z"
   },
   {
    "duration": 7,
    "start_time": "2022-10-31T11:56:53.124Z"
   },
   {
    "duration": 45,
    "start_time": "2022-10-31T11:56:53.133Z"
   },
   {
    "duration": 14,
    "start_time": "2022-10-31T11:56:53.180Z"
   },
   {
    "duration": 30,
    "start_time": "2022-10-31T11:56:53.196Z"
   },
   {
    "duration": 21,
    "start_time": "2022-10-31T11:56:53.229Z"
   },
   {
    "duration": 25,
    "start_time": "2022-10-31T11:56:53.252Z"
   },
   {
    "duration": 5,
    "start_time": "2022-10-31T11:56:53.279Z"
   },
   {
    "duration": 7,
    "start_time": "2022-10-31T11:56:53.285Z"
   },
   {
    "duration": 5,
    "start_time": "2022-10-31T11:56:53.293Z"
   },
   {
    "duration": 10,
    "start_time": "2022-10-31T11:56:53.299Z"
   },
   {
    "duration": 15,
    "start_time": "2022-10-31T11:56:53.310Z"
   },
   {
    "duration": 7,
    "start_time": "2022-10-31T11:56:53.327Z"
   },
   {
    "duration": 44,
    "start_time": "2022-10-31T11:56:53.336Z"
   },
   {
    "duration": 9,
    "start_time": "2022-10-31T11:56:53.382Z"
   },
   {
    "duration": 15,
    "start_time": "2022-10-31T11:56:53.392Z"
   },
   {
    "duration": 143,
    "start_time": "2022-10-31T11:56:53.409Z"
   },
   {
    "duration": 6,
    "start_time": "2022-10-31T11:56:55.412Z"
   },
   {
    "duration": 3,
    "start_time": "2022-10-31T11:57:25.679Z"
   },
   {
    "duration": 61,
    "start_time": "2022-10-31T11:57:25.684Z"
   },
   {
    "duration": 18,
    "start_time": "2022-10-31T11:57:25.747Z"
   },
   {
    "duration": 18,
    "start_time": "2022-10-31T11:57:25.767Z"
   },
   {
    "duration": 17,
    "start_time": "2022-10-31T11:57:25.787Z"
   },
   {
    "duration": 745,
    "start_time": "2022-10-31T11:57:25.806Z"
   },
   {
    "duration": 4,
    "start_time": "2022-10-31T11:57:26.552Z"
   },
   {
    "duration": 38,
    "start_time": "2022-10-31T11:57:26.557Z"
   },
   {
    "duration": 13,
    "start_time": "2022-10-31T11:57:26.597Z"
   },
   {
    "duration": 13,
    "start_time": "2022-10-31T11:57:26.611Z"
   },
   {
    "duration": 9,
    "start_time": "2022-10-31T11:57:28.438Z"
   },
   {
    "duration": 9,
    "start_time": "2022-10-31T11:57:35.173Z"
   },
   {
    "duration": 14,
    "start_time": "2022-10-31T11:57:39.557Z"
   },
   {
    "duration": 8,
    "start_time": "2022-10-31T11:58:00.758Z"
   },
   {
    "duration": 631,
    "start_time": "2022-10-31T12:01:06.681Z"
   },
   {
    "duration": 3,
    "start_time": "2022-10-31T12:02:07.666Z"
   },
   {
    "duration": 97,
    "start_time": "2022-10-31T12:02:07.672Z"
   },
   {
    "duration": 21,
    "start_time": "2022-10-31T12:02:07.771Z"
   },
   {
    "duration": 59,
    "start_time": "2022-10-31T12:02:07.794Z"
   },
   {
    "duration": 54,
    "start_time": "2022-10-31T12:02:07.856Z"
   },
   {
    "duration": 937,
    "start_time": "2022-10-31T12:02:07.912Z"
   },
   {
    "duration": 5,
    "start_time": "2022-10-31T12:02:08.851Z"
   },
   {
    "duration": 29,
    "start_time": "2022-10-31T12:02:08.858Z"
   },
   {
    "duration": 39,
    "start_time": "2022-10-31T12:02:08.889Z"
   },
   {
    "duration": 23,
    "start_time": "2022-10-31T12:02:08.929Z"
   },
   {
    "duration": 28,
    "start_time": "2022-10-31T12:02:08.954Z"
   },
   {
    "duration": 16,
    "start_time": "2022-10-31T12:02:30.753Z"
   },
   {
    "duration": 10,
    "start_time": "2022-10-31T12:02:38.265Z"
   },
   {
    "duration": 10,
    "start_time": "2022-10-31T12:02:57.826Z"
   },
   {
    "duration": 576,
    "start_time": "2022-10-31T12:05:22.502Z"
   },
   {
    "duration": 543,
    "start_time": "2022-10-31T12:05:38.397Z"
   },
   {
    "duration": 3,
    "start_time": "2022-10-31T12:05:44.556Z"
   },
   {
    "duration": 68,
    "start_time": "2022-10-31T12:05:44.561Z"
   },
   {
    "duration": 13,
    "start_time": "2022-10-31T12:05:44.630Z"
   },
   {
    "duration": 16,
    "start_time": "2022-10-31T12:05:44.645Z"
   },
   {
    "duration": 8,
    "start_time": "2022-10-31T12:05:44.664Z"
   },
   {
    "duration": 716,
    "start_time": "2022-10-31T12:05:44.674Z"
   },
   {
    "duration": 4,
    "start_time": "2022-10-31T12:05:45.391Z"
   },
   {
    "duration": 21,
    "start_time": "2022-10-31T12:05:45.397Z"
   },
   {
    "duration": 14,
    "start_time": "2022-10-31T12:05:45.420Z"
   },
   {
    "duration": 11,
    "start_time": "2022-10-31T12:05:45.436Z"
   },
   {
    "duration": 9,
    "start_time": "2022-10-31T12:05:45.449Z"
   },
   {
    "duration": 10,
    "start_time": "2022-10-31T12:05:45.478Z"
   },
   {
    "duration": 42,
    "start_time": "2022-10-31T12:05:45.491Z"
   },
   {
    "duration": 20,
    "start_time": "2022-10-31T12:05:45.538Z"
   },
   {
    "duration": 52,
    "start_time": "2022-10-31T12:05:45.560Z"
   },
   {
    "duration": 23,
    "start_time": "2022-10-31T12:05:45.614Z"
   },
   {
    "duration": 27,
    "start_time": "2022-10-31T12:05:45.639Z"
   },
   {
    "duration": 29,
    "start_time": "2022-10-31T12:05:45.667Z"
   },
   {
    "duration": 22,
    "start_time": "2022-10-31T12:05:45.698Z"
   },
   {
    "duration": 13,
    "start_time": "2022-10-31T12:05:45.722Z"
   },
   {
    "duration": 23,
    "start_time": "2022-10-31T12:05:45.737Z"
   },
   {
    "duration": 12,
    "start_time": "2022-10-31T12:05:45.762Z"
   },
   {
    "duration": 23,
    "start_time": "2022-10-31T12:05:45.775Z"
   },
   {
    "duration": 26,
    "start_time": "2022-10-31T12:05:45.800Z"
   },
   {
    "duration": 8,
    "start_time": "2022-10-31T12:05:45.828Z"
   },
   {
    "duration": 13,
    "start_time": "2022-10-31T12:05:45.837Z"
   },
   {
    "duration": 550,
    "start_time": "2022-10-31T12:05:48.284Z"
   },
   {
    "duration": 140,
    "start_time": "2022-10-31T12:05:55.940Z"
   },
   {
    "duration": 4,
    "start_time": "2022-10-31T12:06:58.390Z"
   },
   {
    "duration": 15,
    "start_time": "2022-10-31T12:07:00.629Z"
   },
   {
    "duration": 107,
    "start_time": "2022-10-31T12:07:09.413Z"
   },
   {
    "duration": 22,
    "start_time": "2022-10-31T12:07:15.781Z"
   },
   {
    "duration": 11,
    "start_time": "2022-10-31T12:15:15.318Z"
   },
   {
    "duration": 8,
    "start_time": "2022-10-31T12:15:20.901Z"
   },
   {
    "duration": 8,
    "start_time": "2022-10-31T12:15:54.198Z"
   },
   {
    "duration": 3,
    "start_time": "2022-10-31T12:19:27.275Z"
   },
   {
    "duration": 69,
    "start_time": "2022-10-31T12:19:27.280Z"
   },
   {
    "duration": 14,
    "start_time": "2022-10-31T12:19:27.351Z"
   },
   {
    "duration": 38,
    "start_time": "2022-10-31T12:19:27.366Z"
   },
   {
    "duration": 26,
    "start_time": "2022-10-31T12:19:27.407Z"
   },
   {
    "duration": 817,
    "start_time": "2022-10-31T12:19:27.435Z"
   },
   {
    "duration": 3,
    "start_time": "2022-10-31T12:19:28.254Z"
   },
   {
    "duration": 50,
    "start_time": "2022-10-31T12:19:28.259Z"
   },
   {
    "duration": 33,
    "start_time": "2022-10-31T12:19:28.310Z"
   },
   {
    "duration": 27,
    "start_time": "2022-10-31T12:19:28.345Z"
   },
   {
    "duration": 38,
    "start_time": "2022-10-31T12:19:28.373Z"
   },
   {
    "duration": 24,
    "start_time": "2022-10-31T12:19:28.413Z"
   },
   {
    "duration": 37,
    "start_time": "2022-10-31T12:19:28.439Z"
   },
   {
    "duration": 19,
    "start_time": "2022-10-31T12:19:28.480Z"
   },
   {
    "duration": 50,
    "start_time": "2022-10-31T12:19:28.502Z"
   },
   {
    "duration": 14,
    "start_time": "2022-10-31T12:19:28.554Z"
   },
   {
    "duration": 22,
    "start_time": "2022-10-31T12:19:28.569Z"
   },
   {
    "duration": 25,
    "start_time": "2022-10-31T12:19:28.593Z"
   },
   {
    "duration": 11,
    "start_time": "2022-10-31T12:19:28.619Z"
   },
   {
    "duration": 20,
    "start_time": "2022-10-31T12:19:28.631Z"
   },
   {
    "duration": 18,
    "start_time": "2022-10-31T12:19:28.652Z"
   },
   {
    "duration": 18,
    "start_time": "2022-10-31T12:19:28.671Z"
   },
   {
    "duration": 27,
    "start_time": "2022-10-31T12:19:28.690Z"
   },
   {
    "duration": 23,
    "start_time": "2022-10-31T12:19:28.718Z"
   },
   {
    "duration": 14,
    "start_time": "2022-10-31T12:19:28.744Z"
   },
   {
    "duration": 11,
    "start_time": "2022-10-31T12:19:28.759Z"
   },
   {
    "duration": 3,
    "start_time": "2022-10-31T12:19:54.362Z"
   },
   {
    "duration": 15,
    "start_time": "2022-10-31T12:20:00.145Z"
   },
   {
    "duration": 280,
    "start_time": "2022-10-31T12:20:10.569Z"
   },
   {
    "duration": 41,
    "start_time": "2022-11-02T07:17:51.028Z"
   },
   {
    "duration": 353,
    "start_time": "2022-11-02T07:17:54.731Z"
   },
   {
    "duration": 182,
    "start_time": "2022-11-02T07:17:55.086Z"
   },
   {
    "duration": 17,
    "start_time": "2022-11-02T07:17:55.270Z"
   },
   {
    "duration": 12,
    "start_time": "2022-11-02T07:17:55.289Z"
   },
   {
    "duration": 8,
    "start_time": "2022-11-02T07:17:55.303Z"
   },
   {
    "duration": 1012,
    "start_time": "2022-11-02T07:17:55.312Z"
   },
   {
    "duration": 4,
    "start_time": "2022-11-02T07:17:56.325Z"
   },
   {
    "duration": 18,
    "start_time": "2022-11-02T07:17:56.330Z"
   },
   {
    "duration": 12,
    "start_time": "2022-11-02T07:17:56.350Z"
   },
   {
    "duration": 11,
    "start_time": "2022-11-02T07:17:56.364Z"
   },
   {
    "duration": 28,
    "start_time": "2022-11-02T07:17:56.377Z"
   },
   {
    "duration": 6,
    "start_time": "2022-11-02T07:17:56.406Z"
   },
   {
    "duration": 18,
    "start_time": "2022-11-02T07:17:56.414Z"
   },
   {
    "duration": 72,
    "start_time": "2022-11-02T07:17:56.435Z"
   },
   {
    "duration": 15,
    "start_time": "2022-11-02T07:17:56.509Z"
   },
   {
    "duration": 16,
    "start_time": "2022-11-02T07:17:56.526Z"
   },
   {
    "duration": 7,
    "start_time": "2022-11-02T07:17:56.544Z"
   },
   {
    "duration": 4,
    "start_time": "2022-11-02T07:17:56.553Z"
   },
   {
    "duration": 6,
    "start_time": "2022-11-02T07:17:56.559Z"
   },
   {
    "duration": 3,
    "start_time": "2022-11-02T07:17:56.567Z"
   },
   {
    "duration": 35,
    "start_time": "2022-11-02T07:17:56.571Z"
   },
   {
    "duration": 16,
    "start_time": "2022-11-02T07:17:56.608Z"
   },
   {
    "duration": 7,
    "start_time": "2022-11-02T07:17:56.625Z"
   },
   {
    "duration": 8,
    "start_time": "2022-11-02T07:17:56.633Z"
   },
   {
    "duration": 5,
    "start_time": "2022-11-02T07:17:58.050Z"
   },
   {
    "duration": 6,
    "start_time": "2022-11-02T07:18:06.995Z"
   },
   {
    "duration": 6,
    "start_time": "2022-11-02T07:19:47.603Z"
   },
   {
    "duration": 3,
    "start_time": "2022-11-02T07:25:41.545Z"
   },
   {
    "duration": 2,
    "start_time": "2022-11-02T07:26:54.180Z"
   },
   {
    "duration": 3,
    "start_time": "2022-11-02T07:29:33.796Z"
   },
   {
    "duration": 363,
    "start_time": "2022-11-02T07:30:14.507Z"
   },
   {
    "duration": 286,
    "start_time": "2022-11-02T07:30:38.727Z"
   },
   {
    "duration": 13,
    "start_time": "2022-11-02T07:31:59.989Z"
   },
   {
    "duration": 77,
    "start_time": "2022-11-02T07:33:56.245Z"
   },
   {
    "duration": 3,
    "start_time": "2022-11-02T07:34:12.949Z"
   },
   {
    "duration": 6,
    "start_time": "2022-11-02T07:34:33.011Z"
   },
   {
    "duration": 4,
    "start_time": "2022-11-02T07:35:24.133Z"
   },
   {
    "duration": 5,
    "start_time": "2022-11-02T07:35:26.395Z"
   },
   {
    "duration": 12,
    "start_time": "2022-11-02T07:36:39.764Z"
   },
   {
    "duration": 4,
    "start_time": "2022-11-02T07:37:31.430Z"
   },
   {
    "duration": 5,
    "start_time": "2022-11-02T07:37:49.780Z"
   },
   {
    "duration": 3,
    "start_time": "2022-11-02T07:37:52.932Z"
   },
   {
    "duration": 3,
    "start_time": "2022-11-02T07:39:25.636Z"
   },
   {
    "duration": 56,
    "start_time": "2022-11-02T07:39:26.422Z"
   },
   {
    "duration": 1174,
    "start_time": "2022-11-02T07:39:29.733Z"
   },
   {
    "duration": 12,
    "start_time": "2022-11-02T07:39:48.629Z"
   },
   {
    "duration": 2,
    "start_time": "2022-11-02T07:40:00.712Z"
   },
   {
    "duration": 63,
    "start_time": "2022-11-02T07:40:00.716Z"
   },
   {
    "duration": 13,
    "start_time": "2022-11-02T07:40:00.781Z"
   },
   {
    "duration": 34,
    "start_time": "2022-11-02T07:40:00.796Z"
   },
   {
    "duration": 17,
    "start_time": "2022-11-02T07:40:07.335Z"
   },
   {
    "duration": 3939,
    "start_time": "2022-11-02T07:40:14.199Z"
   },
   {
    "duration": 2327,
    "start_time": "2022-11-02T07:40:23.029Z"
   },
   {
    "duration": 5,
    "start_time": "2022-11-02T07:40:30.485Z"
   },
   {
    "duration": 3,
    "start_time": "2022-11-02T07:41:10.343Z"
   },
   {
    "duration": 50,
    "start_time": "2022-11-02T07:41:10.347Z"
   },
   {
    "duration": 11,
    "start_time": "2022-11-02T07:41:10.399Z"
   },
   {
    "duration": 13,
    "start_time": "2022-11-02T07:41:10.411Z"
   },
   {
    "duration": 7,
    "start_time": "2022-11-02T07:41:10.426Z"
   },
   {
    "duration": 664,
    "start_time": "2022-11-02T07:41:10.434Z"
   },
   {
    "duration": 6,
    "start_time": "2022-11-02T07:41:11.099Z"
   },
   {
    "duration": 17,
    "start_time": "2022-11-02T07:41:11.107Z"
   },
   {
    "duration": 11,
    "start_time": "2022-11-02T07:41:11.126Z"
   },
   {
    "duration": 10,
    "start_time": "2022-11-02T07:41:11.138Z"
   },
   {
    "duration": 4,
    "start_time": "2022-11-02T07:41:11.151Z"
   },
   {
    "duration": 10,
    "start_time": "2022-11-02T07:41:11.156Z"
   },
   {
    "duration": 17,
    "start_time": "2022-11-02T07:41:11.167Z"
   },
   {
    "duration": 31,
    "start_time": "2022-11-02T07:41:11.185Z"
   },
   {
    "duration": 13,
    "start_time": "2022-11-02T07:41:11.217Z"
   },
   {
    "duration": 13,
    "start_time": "2022-11-02T07:41:11.231Z"
   },
   {
    "duration": 6,
    "start_time": "2022-11-02T07:41:11.246Z"
   },
   {
    "duration": 5,
    "start_time": "2022-11-02T07:41:11.253Z"
   },
   {
    "duration": 6,
    "start_time": "2022-11-02T07:41:11.259Z"
   },
   {
    "duration": 3,
    "start_time": "2022-11-02T07:41:11.266Z"
   },
   {
    "duration": 34,
    "start_time": "2022-11-02T07:41:11.271Z"
   },
   {
    "duration": 13,
    "start_time": "2022-11-02T07:41:11.306Z"
   },
   {
    "duration": 6,
    "start_time": "2022-11-02T07:41:11.320Z"
   },
   {
    "duration": 6,
    "start_time": "2022-11-02T07:41:11.327Z"
   },
   {
    "duration": 5,
    "start_time": "2022-11-02T07:41:13.849Z"
   },
   {
    "duration": 3,
    "start_time": "2022-11-02T07:42:14.225Z"
   },
   {
    "duration": 60,
    "start_time": "2022-11-02T07:42:14.230Z"
   },
   {
    "duration": 14,
    "start_time": "2022-11-02T07:42:14.292Z"
   },
   {
    "duration": 13,
    "start_time": "2022-11-02T07:42:14.308Z"
   },
   {
    "duration": 8,
    "start_time": "2022-11-02T07:42:14.323Z"
   },
   {
    "duration": 686,
    "start_time": "2022-11-02T07:42:14.332Z"
   },
   {
    "duration": 3,
    "start_time": "2022-11-02T07:42:15.020Z"
   },
   {
    "duration": 38,
    "start_time": "2022-11-02T07:42:15.024Z"
   },
   {
    "duration": 16,
    "start_time": "2022-11-02T07:42:15.063Z"
   },
   {
    "duration": 10,
    "start_time": "2022-11-02T07:42:15.081Z"
   },
   {
    "duration": 7,
    "start_time": "2022-11-02T07:42:15.092Z"
   },
   {
    "duration": 7,
    "start_time": "2022-11-02T07:42:15.100Z"
   },
   {
    "duration": 18,
    "start_time": "2022-11-02T07:42:15.109Z"
   },
   {
    "duration": 12,
    "start_time": "2022-11-02T07:42:15.128Z"
   },
   {
    "duration": 14,
    "start_time": "2022-11-02T07:42:15.142Z"
   },
   {
    "duration": 14,
    "start_time": "2022-11-02T07:42:15.157Z"
   },
   {
    "duration": 33,
    "start_time": "2022-11-02T07:42:15.172Z"
   },
   {
    "duration": 5,
    "start_time": "2022-11-02T07:42:24.629Z"
   },
   {
    "duration": 4,
    "start_time": "2022-11-02T07:42:30.356Z"
   },
   {
    "duration": 5,
    "start_time": "2022-11-02T07:42:31.540Z"
   },
   {
    "duration": 2,
    "start_time": "2022-11-02T07:42:31.941Z"
   },
   {
    "duration": 7,
    "start_time": "2022-11-02T07:42:32.314Z"
   },
   {
    "duration": 14,
    "start_time": "2022-11-02T07:42:32.598Z"
   },
   {
    "duration": 7,
    "start_time": "2022-11-02T07:42:32.917Z"
   },
   {
    "duration": 4,
    "start_time": "2022-11-02T07:42:33.334Z"
   },
   {
    "duration": 5,
    "start_time": "2022-11-02T07:42:36.421Z"
   },
   {
    "duration": 3,
    "start_time": "2022-11-02T07:43:19.200Z"
   },
   {
    "duration": 48,
    "start_time": "2022-11-02T07:43:19.205Z"
   },
   {
    "duration": 12,
    "start_time": "2022-11-02T07:43:19.255Z"
   },
   {
    "duration": 13,
    "start_time": "2022-11-02T07:43:19.268Z"
   },
   {
    "duration": 8,
    "start_time": "2022-11-02T07:43:19.283Z"
   },
   {
    "duration": 645,
    "start_time": "2022-11-02T07:43:19.292Z"
   },
   {
    "duration": 3,
    "start_time": "2022-11-02T07:43:19.939Z"
   },
   {
    "duration": 22,
    "start_time": "2022-11-02T07:43:19.944Z"
   },
   {
    "duration": 12,
    "start_time": "2022-11-02T07:43:19.967Z"
   },
   {
    "duration": 9,
    "start_time": "2022-11-02T07:43:19.980Z"
   },
   {
    "duration": 4,
    "start_time": "2022-11-02T07:43:20.005Z"
   },
   {
    "duration": 8,
    "start_time": "2022-11-02T07:43:20.010Z"
   },
   {
    "duration": 19,
    "start_time": "2022-11-02T07:43:20.020Z"
   },
   {
    "duration": 12,
    "start_time": "2022-11-02T07:43:20.041Z"
   },
   {
    "duration": 14,
    "start_time": "2022-11-02T07:43:20.055Z"
   },
   {
    "duration": 14,
    "start_time": "2022-11-02T07:43:20.071Z"
   },
   {
    "duration": 5,
    "start_time": "2022-11-02T07:43:20.105Z"
   },
   {
    "duration": 7,
    "start_time": "2022-11-02T07:43:20.111Z"
   },
   {
    "duration": 7,
    "start_time": "2022-11-02T07:43:20.119Z"
   },
   {
    "duration": 3,
    "start_time": "2022-11-02T07:43:20.127Z"
   },
   {
    "duration": 7,
    "start_time": "2022-11-02T07:43:20.132Z"
   },
   {
    "duration": 6,
    "start_time": "2022-11-02T07:43:20.141Z"
   },
   {
    "duration": 6,
    "start_time": "2022-11-02T07:43:20.148Z"
   },
   {
    "duration": 5,
    "start_time": "2022-11-02T07:43:22.101Z"
   },
   {
    "duration": 6,
    "start_time": "2022-11-02T07:43:30.023Z"
   },
   {
    "duration": 5,
    "start_time": "2022-11-02T07:43:30.757Z"
   },
   {
    "duration": 5,
    "start_time": "2022-11-02T07:43:31.397Z"
   },
   {
    "duration": 6,
    "start_time": "2022-11-02T07:43:36.452Z"
   },
   {
    "duration": 5,
    "start_time": "2022-11-02T07:43:38.661Z"
   },
   {
    "duration": 12,
    "start_time": "2022-11-02T07:43:44.021Z"
   },
   {
    "duration": 5,
    "start_time": "2022-11-02T08:09:49.926Z"
   },
   {
    "duration": 8,
    "start_time": "2022-11-02T08:17:45.247Z"
   },
   {
    "duration": 5,
    "start_time": "2022-11-02T08:17:52.999Z"
   },
   {
    "duration": 5,
    "start_time": "2022-11-02T08:18:18.169Z"
   },
   {
    "duration": 6,
    "start_time": "2022-11-02T08:18:52.441Z"
   },
   {
    "duration": 4,
    "start_time": "2022-11-02T08:20:40.104Z"
   },
   {
    "duration": 5,
    "start_time": "2022-11-02T08:23:03.466Z"
   },
   {
    "duration": 4,
    "start_time": "2022-11-02T08:23:07.864Z"
   },
   {
    "duration": 4,
    "start_time": "2022-11-02T08:25:19.819Z"
   },
   {
    "duration": 17,
    "start_time": "2022-11-02T08:25:27.271Z"
   },
   {
    "duration": 4,
    "start_time": "2022-11-02T08:25:56.201Z"
   },
   {
    "duration": 13,
    "start_time": "2022-11-02T08:25:57.822Z"
   },
   {
    "duration": 12,
    "start_time": "2022-11-02T08:27:14.055Z"
   },
   {
    "duration": 245,
    "start_time": "2022-11-02T08:44:25.467Z"
   },
   {
    "duration": 15,
    "start_time": "2022-11-02T09:02:12.717Z"
   },
   {
    "duration": 20,
    "start_time": "2022-11-02T09:02:26.605Z"
   },
   {
    "duration": 10,
    "start_time": "2022-11-02T09:02:29.709Z"
   },
   {
    "duration": 20,
    "start_time": "2022-11-02T09:04:10.877Z"
   },
   {
    "duration": 9,
    "start_time": "2022-11-02T09:04:12.850Z"
   },
   {
    "duration": 8,
    "start_time": "2022-11-02T09:04:46.879Z"
   },
   {
    "duration": 24,
    "start_time": "2022-11-02T09:05:32.973Z"
   },
   {
    "duration": 10,
    "start_time": "2022-11-02T09:05:33.728Z"
   },
   {
    "duration": 12,
    "start_time": "2022-11-02T09:05:49.517Z"
   },
   {
    "duration": 19,
    "start_time": "2022-11-02T09:09:29.965Z"
   },
   {
    "duration": 12,
    "start_time": "2022-11-02T09:09:30.541Z"
   },
   {
    "duration": 9,
    "start_time": "2022-11-02T09:09:38.813Z"
   },
   {
    "duration": 8,
    "start_time": "2022-11-02T09:09:54.909Z"
   },
   {
    "duration": 112,
    "start_time": "2022-11-02T09:11:15.614Z"
   },
   {
    "duration": 25,
    "start_time": "2022-11-02T09:12:35.998Z"
   },
   {
    "duration": 1222,
    "start_time": "2022-11-02T09:12:45.680Z"
   },
   {
    "duration": 14,
    "start_time": "2022-11-02T09:20:19.408Z"
   },
   {
    "duration": 1214,
    "start_time": "2022-11-02T09:23:20.499Z"
   },
   {
    "duration": 26,
    "start_time": "2022-11-02T09:23:43.680Z"
   },
   {
    "duration": 19,
    "start_time": "2022-11-02T09:23:47.601Z"
   },
   {
    "duration": 12,
    "start_time": "2022-11-02T09:26:45.586Z"
   },
   {
    "duration": 24,
    "start_time": "2022-11-02T09:33:40.851Z"
   },
   {
    "duration": 16,
    "start_time": "2022-11-02T09:33:45.154Z"
   },
   {
    "duration": 2,
    "start_time": "2022-11-02T09:34:18.850Z"
   },
   {
    "duration": 8,
    "start_time": "2022-11-02T10:13:48.148Z"
   },
   {
    "duration": 9,
    "start_time": "2022-11-02T10:14:03.828Z"
   },
   {
    "duration": 7,
    "start_time": "2022-11-02T10:14:27.139Z"
   },
   {
    "duration": 7,
    "start_time": "2022-11-02T10:14:33.492Z"
   },
   {
    "duration": 1200,
    "start_time": "2022-11-02T10:15:59.156Z"
   },
   {
    "duration": 14,
    "start_time": "2022-11-02T10:16:10.130Z"
   },
   {
    "duration": 1203,
    "start_time": "2022-11-02T10:16:17.012Z"
   },
   {
    "duration": 1098,
    "start_time": "2022-11-02T10:16:22.581Z"
   },
   {
    "duration": 15,
    "start_time": "2022-11-02T10:16:32.692Z"
   },
   {
    "duration": 5,
    "start_time": "2022-11-02T10:17:34.052Z"
   },
   {
    "duration": 4,
    "start_time": "2022-11-02T10:18:14.603Z"
   },
   {
    "duration": 15,
    "start_time": "2022-11-02T10:20:44.468Z"
   },
   {
    "duration": 20,
    "start_time": "2022-11-02T10:20:49.509Z"
   },
   {
    "duration": 17,
    "start_time": "2022-11-02T10:23:15.703Z"
   },
   {
    "duration": 17,
    "start_time": "2022-11-02T10:25:09.879Z"
   },
   {
    "duration": 18,
    "start_time": "2022-11-02T10:25:32.085Z"
   },
   {
    "duration": 7,
    "start_time": "2022-11-02T10:26:14.293Z"
   },
   {
    "duration": 7,
    "start_time": "2022-11-02T10:27:41.670Z"
   },
   {
    "duration": 164,
    "start_time": "2022-11-02T10:27:49.574Z"
   },
   {
    "duration": 167,
    "start_time": "2022-11-02T10:27:57.781Z"
   },
   {
    "duration": 9,
    "start_time": "2022-11-02T10:34:38.219Z"
   },
   {
    "duration": 7,
    "start_time": "2022-11-02T10:35:28.760Z"
   },
   {
    "duration": 8,
    "start_time": "2022-11-02T10:35:45.334Z"
   },
   {
    "duration": 464,
    "start_time": "2022-11-02T10:45:54.535Z"
   },
   {
    "duration": 10,
    "start_time": "2022-11-02T10:47:59.400Z"
   },
   {
    "duration": 7,
    "start_time": "2022-11-02T10:48:11.929Z"
   },
   {
    "duration": 8,
    "start_time": "2022-11-02T10:48:17.542Z"
   },
   {
    "duration": 480,
    "start_time": "2022-11-02T10:50:59.798Z"
   },
   {
    "duration": 14,
    "start_time": "2022-11-02T10:51:24.743Z"
   },
   {
    "duration": 25,
    "start_time": "2022-11-02T10:51:56.648Z"
   },
   {
    "duration": 12,
    "start_time": "2022-11-02T10:52:09.372Z"
   },
   {
    "duration": 20,
    "start_time": "2022-11-02T10:52:25.208Z"
   },
   {
    "duration": 25,
    "start_time": "2022-11-02T10:52:37.161Z"
   },
   {
    "duration": 24,
    "start_time": "2022-11-02T10:52:44.731Z"
   },
   {
    "duration": 25,
    "start_time": "2022-11-02T10:52:57.643Z"
   },
   {
    "duration": 25,
    "start_time": "2022-11-02T10:56:44.057Z"
   },
   {
    "duration": 10,
    "start_time": "2022-11-02T10:56:49.529Z"
   },
   {
    "duration": 10,
    "start_time": "2022-11-02T10:57:15.466Z"
   },
   {
    "duration": 23,
    "start_time": "2022-11-02T10:57:19.977Z"
   },
   {
    "duration": 27,
    "start_time": "2022-11-02T10:57:37.099Z"
   },
   {
    "duration": 28,
    "start_time": "2022-11-02T10:57:42.795Z"
   },
   {
    "duration": 780,
    "start_time": "2022-11-03T09:37:41.795Z"
   },
   {
    "duration": 101,
    "start_time": "2022-11-03T09:37:42.579Z"
   },
   {
    "duration": 20,
    "start_time": "2022-11-03T09:37:42.682Z"
   },
   {
    "duration": 16,
    "start_time": "2022-11-03T09:37:42.703Z"
   },
   {
    "duration": 12,
    "start_time": "2022-11-03T09:37:42.721Z"
   },
   {
    "duration": 813,
    "start_time": "2022-11-03T09:37:42.734Z"
   },
   {
    "duration": 6,
    "start_time": "2022-11-03T09:37:43.549Z"
   },
   {
    "duration": 23,
    "start_time": "2022-11-03T09:37:43.557Z"
   },
   {
    "duration": 22,
    "start_time": "2022-11-03T09:37:43.582Z"
   },
   {
    "duration": 21,
    "start_time": "2022-11-03T09:37:43.606Z"
   },
   {
    "duration": 7,
    "start_time": "2022-11-03T09:37:43.629Z"
   },
   {
    "duration": 21,
    "start_time": "2022-11-03T09:37:43.638Z"
   },
   {
    "duration": 27,
    "start_time": "2022-11-03T09:37:43.661Z"
   },
   {
    "duration": 19,
    "start_time": "2022-11-03T09:37:43.692Z"
   },
   {
    "duration": 63,
    "start_time": "2022-11-03T09:37:43.713Z"
   },
   {
    "duration": 24,
    "start_time": "2022-11-03T09:37:43.778Z"
   },
   {
    "duration": 26,
    "start_time": "2022-11-03T09:37:43.803Z"
   },
   {
    "duration": 9,
    "start_time": "2022-11-03T09:37:43.831Z"
   },
   {
    "duration": 20,
    "start_time": "2022-11-03T09:37:43.841Z"
   },
   {
    "duration": 12,
    "start_time": "2022-11-03T09:37:43.863Z"
   },
   {
    "duration": 23,
    "start_time": "2022-11-03T09:37:43.877Z"
   },
   {
    "duration": 12,
    "start_time": "2022-11-03T09:37:43.902Z"
   },
   {
    "duration": 16,
    "start_time": "2022-11-03T09:37:43.916Z"
   },
   {
    "duration": 13,
    "start_time": "2022-11-03T09:37:43.934Z"
   },
   {
    "duration": 11,
    "start_time": "2022-11-03T09:37:43.949Z"
   },
   {
    "duration": 7,
    "start_time": "2022-11-03T09:37:43.963Z"
   },
   {
    "duration": 11,
    "start_time": "2022-11-03T09:37:43.972Z"
   },
   {
    "duration": 10,
    "start_time": "2022-11-03T09:37:43.985Z"
   },
   {
    "duration": 11,
    "start_time": "2022-11-03T09:37:43.996Z"
   },
   {
    "duration": 12,
    "start_time": "2022-11-03T09:37:44.009Z"
   },
   {
    "duration": 11,
    "start_time": "2022-11-03T09:37:44.024Z"
   },
   {
    "duration": 28,
    "start_time": "2022-11-03T09:37:44.037Z"
   },
   {
    "duration": 24,
    "start_time": "2022-11-03T09:37:44.068Z"
   },
   {
    "duration": 22,
    "start_time": "2022-11-03T09:37:44.094Z"
   },
   {
    "duration": 312,
    "start_time": "2022-11-03T09:37:44.118Z"
   },
   {
    "duration": 36,
    "start_time": "2022-11-03T09:37:44.432Z"
   },
   {
    "duration": 9,
    "start_time": "2022-11-03T09:37:44.470Z"
   },
   {
    "duration": 55,
    "start_time": "2022-11-03T09:37:44.481Z"
   },
   {
    "duration": 11,
    "start_time": "2022-11-03T09:37:44.539Z"
   },
   {
    "duration": 36,
    "start_time": "2022-11-03T09:37:44.552Z"
   },
   {
    "duration": 612,
    "start_time": "2022-11-03T09:37:44.592Z"
   },
   {
    "duration": 59,
    "start_time": "2022-11-03T09:39:25.413Z"
   },
   {
    "duration": 171,
    "start_time": "2022-11-03T09:40:50.445Z"
   },
   {
    "duration": 332,
    "start_time": "2022-11-03T09:41:14.577Z"
   },
   {
    "duration": 204,
    "start_time": "2022-11-03T09:41:36.338Z"
   },
   {
    "duration": 206,
    "start_time": "2022-11-03T09:41:42.785Z"
   },
   {
    "duration": 69,
    "start_time": "2022-11-03T09:42:53.787Z"
   },
   {
    "duration": 280,
    "start_time": "2022-11-03T09:43:15.043Z"
   },
   {
    "duration": 296,
    "start_time": "2022-11-03T09:43:35.748Z"
   },
   {
    "duration": 374,
    "start_time": "2022-11-03T09:43:41.539Z"
   },
   {
    "duration": 8,
    "start_time": "2022-11-03T09:54:40.412Z"
   },
   {
    "duration": 299,
    "start_time": "2022-11-03T09:57:52.411Z"
   },
   {
    "duration": 12,
    "start_time": "2022-11-03T10:16:43.753Z"
   },
   {
    "duration": 135,
    "start_time": "2022-11-03T10:16:50.364Z"
   },
   {
    "duration": 214,
    "start_time": "2022-11-03T10:17:11.817Z"
   },
   {
    "duration": 110,
    "start_time": "2022-11-03T10:17:30.074Z"
   },
   {
    "duration": 328,
    "start_time": "2022-11-03T10:31:46.099Z"
   },
   {
    "duration": 31,
    "start_time": "2022-11-03T10:33:38.583Z"
   },
   {
    "duration": 24,
    "start_time": "2022-11-03T10:33:49.888Z"
   },
   {
    "duration": 1004,
    "start_time": "2022-11-03T10:35:56.909Z"
   },
   {
    "duration": 907,
    "start_time": "2022-11-03T10:36:06.209Z"
   },
   {
    "duration": 145,
    "start_time": "2022-11-03T10:36:13.769Z"
   },
   {
    "duration": 142,
    "start_time": "2022-11-03T10:36:32.713Z"
   },
   {
    "duration": 11,
    "start_time": "2022-11-03T10:37:48.221Z"
   },
   {
    "duration": 5,
    "start_time": "2022-11-03T10:38:19.580Z"
   },
   {
    "duration": 145,
    "start_time": "2022-11-03T10:38:20.240Z"
   },
   {
    "duration": 6,
    "start_time": "2022-11-03T10:38:29.038Z"
   },
   {
    "duration": 5,
    "start_time": "2022-11-03T10:38:49.988Z"
   },
   {
    "duration": 6,
    "start_time": "2022-11-03T10:39:14.517Z"
   },
   {
    "duration": 5,
    "start_time": "2022-11-03T10:40:25.255Z"
   },
   {
    "duration": 158,
    "start_time": "2022-11-03T10:40:55.373Z"
   },
   {
    "duration": 171,
    "start_time": "2022-11-03T10:41:09.054Z"
   },
   {
    "duration": 158,
    "start_time": "2022-11-03T10:44:04.218Z"
   },
   {
    "duration": 242,
    "start_time": "2022-11-03T10:44:30.193Z"
   },
   {
    "duration": 17,
    "start_time": "2022-11-03T10:48:52.509Z"
   },
   {
    "duration": 6,
    "start_time": "2022-11-03T10:50:06.399Z"
   },
   {
    "duration": 6,
    "start_time": "2022-11-03T10:50:11.678Z"
   },
   {
    "duration": 6,
    "start_time": "2022-11-03T10:50:21.123Z"
   },
   {
    "duration": 6,
    "start_time": "2022-11-03T10:51:13.919Z"
   },
   {
    "duration": 37,
    "start_time": "2022-11-03T10:57:21.885Z"
   },
   {
    "duration": 23,
    "start_time": "2022-11-03T10:58:07.009Z"
   },
   {
    "duration": 863,
    "start_time": "2022-11-03T17:09:46.991Z"
   },
   {
    "duration": 203,
    "start_time": "2022-11-03T17:09:47.856Z"
   },
   {
    "duration": 20,
    "start_time": "2022-11-03T17:09:48.061Z"
   },
   {
    "duration": 20,
    "start_time": "2022-11-03T17:09:48.083Z"
   },
   {
    "duration": 30,
    "start_time": "2022-11-03T17:09:48.105Z"
   },
   {
    "duration": 937,
    "start_time": "2022-11-03T17:09:48.137Z"
   },
   {
    "duration": 4,
    "start_time": "2022-11-03T17:09:49.077Z"
   },
   {
    "duration": 35,
    "start_time": "2022-11-03T17:09:49.082Z"
   },
   {
    "duration": 18,
    "start_time": "2022-11-03T17:09:49.120Z"
   },
   {
    "duration": 34,
    "start_time": "2022-11-03T17:09:49.142Z"
   },
   {
    "duration": 19,
    "start_time": "2022-11-03T17:09:49.177Z"
   },
   {
    "duration": 24,
    "start_time": "2022-11-03T17:09:49.198Z"
   },
   {
    "duration": 42,
    "start_time": "2022-11-03T17:09:49.224Z"
   },
   {
    "duration": 26,
    "start_time": "2022-11-03T17:09:49.268Z"
   },
   {
    "duration": 30,
    "start_time": "2022-11-03T17:09:49.296Z"
   },
   {
    "duration": 26,
    "start_time": "2022-11-03T17:09:49.329Z"
   },
   {
    "duration": 23,
    "start_time": "2022-11-03T17:09:49.357Z"
   },
   {
    "duration": 22,
    "start_time": "2022-11-03T17:09:49.382Z"
   },
   {
    "duration": 19,
    "start_time": "2022-11-03T17:09:49.406Z"
   },
   {
    "duration": 10,
    "start_time": "2022-11-03T17:09:49.427Z"
   },
   {
    "duration": 30,
    "start_time": "2022-11-03T17:09:49.439Z"
   },
   {
    "duration": 14,
    "start_time": "2022-11-03T17:09:49.471Z"
   },
   {
    "duration": 21,
    "start_time": "2022-11-03T17:09:49.486Z"
   },
   {
    "duration": 13,
    "start_time": "2022-11-03T17:09:49.509Z"
   },
   {
    "duration": 27,
    "start_time": "2022-11-03T17:09:49.524Z"
   },
   {
    "duration": 18,
    "start_time": "2022-11-03T17:09:49.553Z"
   },
   {
    "duration": 25,
    "start_time": "2022-11-03T17:09:49.573Z"
   },
   {
    "duration": 27,
    "start_time": "2022-11-03T17:09:49.603Z"
   },
   {
    "duration": 15,
    "start_time": "2022-11-03T17:09:49.632Z"
   },
   {
    "duration": 30,
    "start_time": "2022-11-03T17:09:49.649Z"
   },
   {
    "duration": 14,
    "start_time": "2022-11-03T17:09:49.680Z"
   },
   {
    "duration": 11,
    "start_time": "2022-11-03T17:09:49.695Z"
   },
   {
    "duration": 45,
    "start_time": "2022-11-03T17:09:49.708Z"
   },
   {
    "duration": 35,
    "start_time": "2022-11-03T17:09:49.756Z"
   },
   {
    "duration": 226,
    "start_time": "2022-11-03T17:09:49.793Z"
   },
   {
    "duration": 32,
    "start_time": "2022-11-03T17:09:50.021Z"
   },
   {
    "duration": 11,
    "start_time": "2022-11-03T17:09:50.055Z"
   },
   {
    "duration": 37,
    "start_time": "2022-11-03T17:09:50.068Z"
   },
   {
    "duration": 181,
    "start_time": "2022-11-03T17:09:50.107Z"
   },
   {
    "duration": 18,
    "start_time": "2022-11-03T17:09:50.290Z"
   },
   {
    "duration": 400,
    "start_time": "2022-11-03T17:09:50.310Z"
   },
   {
    "duration": 326,
    "start_time": "2022-11-03T17:09:50.712Z"
   },
   {
    "duration": 137,
    "start_time": "2022-11-03T17:09:51.040Z"
   },
   {
    "duration": 6,
    "start_time": "2022-11-03T17:09:51.179Z"
   },
   {
    "duration": 207,
    "start_time": "2022-11-03T17:09:51.187Z"
   },
   {
    "duration": 5,
    "start_time": "2022-11-03T17:09:51.396Z"
   },
   {
    "duration": 244,
    "start_time": "2022-11-03T17:09:51.403Z"
   },
   {
    "duration": 6,
    "start_time": "2022-11-03T17:09:51.649Z"
   },
   {
    "duration": 31,
    "start_time": "2022-11-03T17:09:51.657Z"
   },
   {
    "duration": 12,
    "start_time": "2022-11-03T17:09:51.690Z"
   },
   {
    "duration": 34,
    "start_time": "2022-11-03T17:09:51.704Z"
   },
   {
    "duration": 21,
    "start_time": "2022-11-03T17:09:53.723Z"
   },
   {
    "duration": 32,
    "start_time": "2022-11-03T17:10:49.221Z"
   },
   {
    "duration": 29,
    "start_time": "2022-11-03T17:11:13.648Z"
   },
   {
    "duration": 14,
    "start_time": "2022-11-03T17:11:21.469Z"
   },
   {
    "duration": 31,
    "start_time": "2022-11-03T17:17:25.471Z"
   },
   {
    "duration": 10,
    "start_time": "2022-11-03T17:17:31.539Z"
   },
   {
    "duration": 27,
    "start_time": "2022-11-03T17:22:42.791Z"
   },
   {
    "duration": 96,
    "start_time": "2022-11-03T17:23:54.313Z"
   },
   {
    "duration": 30,
    "start_time": "2022-11-03T17:23:59.932Z"
   },
   {
    "duration": 28,
    "start_time": "2022-11-03T17:24:35.481Z"
   },
   {
    "duration": 28,
    "start_time": "2022-11-03T17:25:37.703Z"
   },
   {
    "duration": 29,
    "start_time": "2022-11-03T17:25:47.058Z"
   },
   {
    "duration": 20,
    "start_time": "2022-11-03T17:25:57.834Z"
   },
   {
    "duration": 15,
    "start_time": "2022-11-03T17:26:27.523Z"
   },
   {
    "duration": 16,
    "start_time": "2022-11-03T17:26:37.139Z"
   },
   {
    "duration": 15,
    "start_time": "2022-11-03T17:26:41.930Z"
   },
   {
    "duration": 16,
    "start_time": "2022-11-03T17:26:55.195Z"
   },
   {
    "duration": 16,
    "start_time": "2022-11-03T17:27:09.667Z"
   },
   {
    "duration": 16,
    "start_time": "2022-11-03T17:27:22.539Z"
   },
   {
    "duration": 164,
    "start_time": "2022-11-03T17:27:53.836Z"
   },
   {
    "duration": 15,
    "start_time": "2022-11-03T17:27:58.203Z"
   },
   {
    "duration": 559,
    "start_time": "2022-11-03T17:30:32.167Z"
   },
   {
    "duration": 10,
    "start_time": "2022-11-03T17:31:29.032Z"
   },
   {
    "duration": 111,
    "start_time": "2022-11-03T17:31:46.888Z"
   },
   {
    "duration": 109,
    "start_time": "2022-11-03T17:31:58.712Z"
   },
   {
    "duration": 332,
    "start_time": "2022-11-03T17:33:16.465Z"
   },
   {
    "duration": 344,
    "start_time": "2022-11-03T17:33:38.867Z"
   },
   {
    "duration": 382,
    "start_time": "2022-11-03T17:34:33.593Z"
   },
   {
    "duration": 386,
    "start_time": "2022-11-03T17:34:51.378Z"
   },
   {
    "duration": 342,
    "start_time": "2022-11-03T17:35:10.563Z"
   },
   {
    "duration": 352,
    "start_time": "2022-11-03T17:35:19.595Z"
   },
   {
    "duration": 376,
    "start_time": "2022-11-03T17:38:36.589Z"
   },
   {
    "duration": 468,
    "start_time": "2022-11-03T17:38:47.782Z"
   },
   {
    "duration": 420,
    "start_time": "2022-11-03T17:38:57.462Z"
   },
   {
    "duration": 351,
    "start_time": "2022-11-03T17:40:10.751Z"
   },
   {
    "duration": 371,
    "start_time": "2022-11-03T17:40:17.063Z"
   },
   {
    "duration": 455,
    "start_time": "2022-11-03T17:40:21.023Z"
   },
   {
    "duration": 440,
    "start_time": "2022-11-03T17:40:27.264Z"
   },
   {
    "duration": 513,
    "start_time": "2022-11-03T17:40:33.587Z"
   },
   {
    "duration": 167,
    "start_time": "2022-11-03T17:42:29.946Z"
   },
   {
    "duration": 444,
    "start_time": "2022-11-03T17:42:36.506Z"
   },
   {
    "duration": 377,
    "start_time": "2022-11-03T17:43:00.530Z"
   },
   {
    "duration": 11,
    "start_time": "2022-11-03T17:48:14.948Z"
   },
   {
    "duration": 18,
    "start_time": "2022-11-03T17:48:22.990Z"
   },
   {
    "duration": 17,
    "start_time": "2022-11-03T17:49:32.147Z"
   },
   {
    "duration": 19,
    "start_time": "2022-11-03T17:49:44.928Z"
   },
   {
    "duration": 23,
    "start_time": "2022-11-03T17:49:49.219Z"
   },
   {
    "duration": 15,
    "start_time": "2022-11-03T17:50:31.760Z"
   },
   {
    "duration": 15,
    "start_time": "2022-11-03T17:51:00.648Z"
   },
   {
    "duration": 15,
    "start_time": "2022-11-03T17:51:35.258Z"
   },
   {
    "duration": 381,
    "start_time": "2022-11-03T17:51:55.098Z"
   },
   {
    "duration": 1178,
    "start_time": "2022-11-03T18:30:53.854Z"
   },
   {
    "duration": 16,
    "start_time": "2022-11-03T18:31:31.590Z"
   },
   {
    "duration": 23,
    "start_time": "2022-11-03T18:32:07.854Z"
   },
   {
    "duration": 20,
    "start_time": "2022-11-03T18:33:30.024Z"
   },
   {
    "duration": 14,
    "start_time": "2022-11-03T18:33:35.225Z"
   },
   {
    "duration": 127,
    "start_time": "2022-11-03T18:33:40.144Z"
   },
   {
    "duration": 353,
    "start_time": "2022-11-03T18:35:26.355Z"
   },
   {
    "duration": 392,
    "start_time": "2022-11-03T18:35:29.232Z"
   },
   {
    "duration": 15,
    "start_time": "2022-11-03T18:35:58.314Z"
   },
   {
    "duration": 434,
    "start_time": "2022-11-03T18:58:55.497Z"
   },
   {
    "duration": 428,
    "start_time": "2022-11-03T18:59:10.048Z"
   },
   {
    "duration": 455,
    "start_time": "2022-11-03T18:59:31.121Z"
   },
   {
    "duration": 395,
    "start_time": "2022-11-03T18:59:48.625Z"
   },
   {
    "duration": 16,
    "start_time": "2022-11-03T19:01:05.410Z"
   },
   {
    "duration": 15,
    "start_time": "2022-11-03T19:04:27.479Z"
   },
   {
    "duration": 20,
    "start_time": "2022-11-03T19:04:57.990Z"
   },
   {
    "duration": 18,
    "start_time": "2022-11-03T19:05:03.654Z"
   },
   {
    "duration": 15,
    "start_time": "2022-11-03T19:05:32.687Z"
   },
   {
    "duration": 163,
    "start_time": "2022-11-03T19:12:16.525Z"
   },
   {
    "duration": 271,
    "start_time": "2022-11-03T19:12:31.118Z"
   },
   {
    "duration": 219,
    "start_time": "2022-11-03T19:12:51.303Z"
   },
   {
    "duration": 240,
    "start_time": "2022-11-03T19:12:57.165Z"
   },
   {
    "duration": 216,
    "start_time": "2022-11-03T19:13:08.830Z"
   },
   {
    "duration": 340,
    "start_time": "2022-11-03T19:13:16.126Z"
   },
   {
    "duration": 1139,
    "start_time": "2022-11-03T19:19:12.268Z"
   },
   {
    "duration": 24,
    "start_time": "2022-11-03T19:19:32.646Z"
   },
   {
    "duration": 20,
    "start_time": "2022-11-03T19:19:48.337Z"
   },
   {
    "duration": 1174,
    "start_time": "2022-11-03T19:20:00.476Z"
   },
   {
    "duration": 23,
    "start_time": "2022-11-03T19:20:31.486Z"
   },
   {
    "duration": 26,
    "start_time": "2022-11-03T19:21:07.926Z"
   },
   {
    "duration": 25,
    "start_time": "2022-11-03T19:22:16.079Z"
   },
   {
    "duration": 21,
    "start_time": "2022-11-03T19:22:33.639Z"
   },
   {
    "duration": 23,
    "start_time": "2022-11-03T19:22:54.511Z"
   },
   {
    "duration": 24,
    "start_time": "2022-11-03T19:24:04.577Z"
   },
   {
    "duration": 1275,
    "start_time": "2022-11-04T08:18:04.841Z"
   },
   {
    "duration": 114,
    "start_time": "2022-11-04T08:18:06.118Z"
   },
   {
    "duration": 18,
    "start_time": "2022-11-04T08:18:06.234Z"
   },
   {
    "duration": 14,
    "start_time": "2022-11-04T08:18:06.255Z"
   },
   {
    "duration": 8,
    "start_time": "2022-11-04T08:18:06.271Z"
   },
   {
    "duration": 751,
    "start_time": "2022-11-04T08:18:06.280Z"
   },
   {
    "duration": 4,
    "start_time": "2022-11-04T08:18:07.032Z"
   },
   {
    "duration": 21,
    "start_time": "2022-11-04T08:18:07.037Z"
   },
   {
    "duration": 12,
    "start_time": "2022-11-04T08:18:07.060Z"
   },
   {
    "duration": 10,
    "start_time": "2022-11-04T08:18:07.074Z"
   },
   {
    "duration": 26,
    "start_time": "2022-11-04T08:18:07.086Z"
   },
   {
    "duration": 15,
    "start_time": "2022-11-04T08:18:07.113Z"
   },
   {
    "duration": 24,
    "start_time": "2022-11-04T08:18:07.129Z"
   },
   {
    "duration": 13,
    "start_time": "2022-11-04T08:18:07.154Z"
   },
   {
    "duration": 13,
    "start_time": "2022-11-04T08:18:07.168Z"
   },
   {
    "duration": 27,
    "start_time": "2022-11-04T08:18:07.183Z"
   },
   {
    "duration": 10,
    "start_time": "2022-11-04T08:18:07.212Z"
   },
   {
    "duration": 8,
    "start_time": "2022-11-04T08:18:07.223Z"
   },
   {
    "duration": 6,
    "start_time": "2022-11-04T08:18:07.232Z"
   },
   {
    "duration": 3,
    "start_time": "2022-11-04T08:18:07.240Z"
   },
   {
    "duration": 12,
    "start_time": "2022-11-04T08:18:07.245Z"
   },
   {
    "duration": 11,
    "start_time": "2022-11-04T08:18:07.259Z"
   },
   {
    "duration": 6,
    "start_time": "2022-11-04T08:18:07.272Z"
   },
   {
    "duration": 8,
    "start_time": "2022-11-04T08:18:07.280Z"
   },
   {
    "duration": 7,
    "start_time": "2022-11-04T08:18:07.308Z"
   },
   {
    "duration": 10,
    "start_time": "2022-11-04T08:18:07.317Z"
   },
   {
    "duration": 9,
    "start_time": "2022-11-04T08:18:07.328Z"
   },
   {
    "duration": 5,
    "start_time": "2022-11-04T08:18:07.341Z"
   },
   {
    "duration": 14,
    "start_time": "2022-11-04T08:18:07.347Z"
   },
   {
    "duration": 11,
    "start_time": "2022-11-04T08:18:07.362Z"
   },
   {
    "duration": 4,
    "start_time": "2022-11-04T08:18:07.374Z"
   },
   {
    "duration": 29,
    "start_time": "2022-11-04T08:18:07.380Z"
   },
   {
    "duration": 14,
    "start_time": "2022-11-04T08:18:07.410Z"
   },
   {
    "duration": 16,
    "start_time": "2022-11-04T08:18:07.426Z"
   },
   {
    "duration": 195,
    "start_time": "2022-11-04T08:18:07.443Z"
   },
   {
    "duration": 21,
    "start_time": "2022-11-04T08:18:07.640Z"
   },
   {
    "duration": 9,
    "start_time": "2022-11-04T08:18:07.662Z"
   },
   {
    "duration": 37,
    "start_time": "2022-11-04T08:18:07.672Z"
   },
   {
    "duration": 8,
    "start_time": "2022-11-04T08:18:07.711Z"
   },
   {
    "duration": 12,
    "start_time": "2022-11-04T08:18:07.720Z"
   },
   {
    "duration": 294,
    "start_time": "2022-11-04T08:18:07.734Z"
   },
   {
    "duration": 263,
    "start_time": "2022-11-04T08:18:08.030Z"
   },
   {
    "duration": 176,
    "start_time": "2022-11-04T08:18:08.295Z"
   },
   {
    "duration": 5,
    "start_time": "2022-11-04T08:18:08.473Z"
   },
   {
    "duration": 164,
    "start_time": "2022-11-04T08:18:08.480Z"
   },
   {
    "duration": 5,
    "start_time": "2022-11-04T08:18:08.646Z"
   },
   {
    "duration": 171,
    "start_time": "2022-11-04T08:18:08.653Z"
   },
   {
    "duration": 5,
    "start_time": "2022-11-04T08:18:08.825Z"
   },
   {
    "duration": 27,
    "start_time": "2022-11-04T08:18:08.831Z"
   },
   {
    "duration": 8,
    "start_time": "2022-11-04T08:18:08.860Z"
   },
   {
    "duration": 13,
    "start_time": "2022-11-04T08:18:08.869Z"
   },
   {
    "duration": 57,
    "start_time": "2022-11-04T08:18:08.883Z"
   },
   {
    "duration": 8,
    "start_time": "2022-11-04T08:18:08.942Z"
   },
   {
    "duration": 377,
    "start_time": "2022-11-04T08:18:08.952Z"
   },
   {
    "duration": 13,
    "start_time": "2022-11-04T08:18:09.330Z"
   },
   {
    "duration": 346,
    "start_time": "2022-11-04T08:18:09.344Z"
   },
   {
    "duration": 20,
    "start_time": "2022-11-04T08:18:09.691Z"
   },
   {
    "duration": 340,
    "start_time": "2022-11-04T08:18:09.713Z"
   },
   {
    "duration": 13,
    "start_time": "2022-11-04T08:18:10.054Z"
   },
   {
    "duration": 373,
    "start_time": "2022-11-04T08:18:10.068Z"
   },
   {
    "duration": 13,
    "start_time": "2022-11-04T08:18:10.442Z"
   },
   {
    "duration": 372,
    "start_time": "2022-11-04T08:18:10.456Z"
   },
   {
    "duration": 13,
    "start_time": "2022-11-04T08:18:10.829Z"
   },
   {
    "duration": 374,
    "start_time": "2022-11-04T08:18:10.843Z"
   },
   {
    "duration": 13,
    "start_time": "2022-11-04T08:18:11.218Z"
   },
   {
    "duration": 238,
    "start_time": "2022-11-04T08:18:11.232Z"
   },
   {
    "duration": 16,
    "start_time": "2022-11-04T08:18:11.472Z"
   },
   {
    "duration": 236,
    "start_time": "2022-11-04T08:18:11.490Z"
   },
   {
    "duration": 21,
    "start_time": "2022-11-04T08:18:11.728Z"
   },
   {
    "duration": 297,
    "start_time": "2022-11-04T08:18:11.750Z"
   },
   {
    "duration": 17,
    "start_time": "2022-11-04T08:18:12.049Z"
   },
   {
    "duration": 3,
    "start_time": "2022-11-04T08:20:43.623Z"
   },
   {
    "duration": 125,
    "start_time": "2022-11-04T08:23:55.346Z"
   },
   {
    "duration": 6,
    "start_time": "2022-11-04T08:24:04.703Z"
   },
   {
    "duration": 6,
    "start_time": "2022-11-04T08:24:18.883Z"
   },
   {
    "duration": 5,
    "start_time": "2022-11-04T08:26:06.100Z"
   },
   {
    "duration": 14,
    "start_time": "2022-11-04T08:26:52.093Z"
   },
   {
    "duration": 11,
    "start_time": "2022-11-04T08:27:00.700Z"
   },
   {
    "duration": 7,
    "start_time": "2022-11-04T08:27:13.725Z"
   },
   {
    "duration": 8,
    "start_time": "2022-11-04T08:27:27.501Z"
   },
   {
    "duration": 595,
    "start_time": "2022-11-04T08:27:28.093Z"
   },
   {
    "duration": 4,
    "start_time": "2022-11-04T08:27:44.758Z"
   },
   {
    "duration": 5,
    "start_time": "2022-11-04T08:28:10.325Z"
   },
   {
    "duration": 4,
    "start_time": "2022-11-04T08:28:13.014Z"
   },
   {
    "duration": 12,
    "start_time": "2022-11-04T08:28:23.334Z"
   },
   {
    "duration": 11,
    "start_time": "2022-11-04T08:28:28.126Z"
   },
   {
    "duration": 4,
    "start_time": "2022-11-04T08:29:39.863Z"
   },
   {
    "duration": 6,
    "start_time": "2022-11-04T08:29:44.385Z"
   },
   {
    "duration": 10,
    "start_time": "2022-11-04T08:31:36.977Z"
   },
   {
    "duration": 10,
    "start_time": "2022-11-04T08:31:41.169Z"
   },
   {
    "duration": 9,
    "start_time": "2022-11-04T08:31:47.241Z"
   },
   {
    "duration": 9,
    "start_time": "2022-11-04T08:33:07.306Z"
   },
   {
    "duration": 8,
    "start_time": "2022-11-04T08:37:22.503Z"
   },
   {
    "duration": 14,
    "start_time": "2022-11-04T08:37:44.391Z"
   },
   {
    "duration": 8,
    "start_time": "2022-11-04T08:37:50.224Z"
   },
   {
    "duration": 23,
    "start_time": "2022-11-04T08:38:04.431Z"
   },
   {
    "duration": 13,
    "start_time": "2022-11-04T08:38:24.375Z"
   },
   {
    "duration": 9,
    "start_time": "2022-11-04T08:38:28.951Z"
   },
   {
    "duration": 11,
    "start_time": "2022-11-04T08:38:40.663Z"
   },
   {
    "duration": 15,
    "start_time": "2022-11-04T08:38:49.439Z"
   },
   {
    "duration": 9,
    "start_time": "2022-11-04T08:39:06.425Z"
   },
   {
    "duration": 9,
    "start_time": "2022-11-04T08:39:26.145Z"
   },
   {
    "duration": 5,
    "start_time": "2022-11-04T08:39:43.280Z"
   },
   {
    "duration": 4,
    "start_time": "2022-11-04T08:39:56.993Z"
   },
   {
    "duration": 5,
    "start_time": "2022-11-04T08:39:59.441Z"
   },
   {
    "duration": 4,
    "start_time": "2022-11-04T08:41:08.059Z"
   },
   {
    "duration": 5,
    "start_time": "2022-11-04T08:41:14.370Z"
   },
   {
    "duration": 5,
    "start_time": "2022-11-04T08:41:17.082Z"
   },
   {
    "duration": 709,
    "start_time": "2022-11-04T08:55:28.856Z"
   },
   {
    "duration": 12,
    "start_time": "2022-11-04T08:55:34.720Z"
   },
   {
    "duration": 320,
    "start_time": "2022-11-04T09:06:06.793Z"
   },
   {
    "duration": 1203,
    "start_time": "2022-11-04T14:53:40.127Z"
   },
   {
    "duration": 504,
    "start_time": "2022-11-04T14:53:41.332Z"
   },
   {
    "duration": 18,
    "start_time": "2022-11-04T14:53:41.837Z"
   },
   {
    "duration": 13,
    "start_time": "2022-11-04T14:53:41.856Z"
   },
   {
    "duration": 14,
    "start_time": "2022-11-04T14:53:41.872Z"
   },
   {
    "duration": 880,
    "start_time": "2022-11-04T14:53:41.888Z"
   },
   {
    "duration": 3,
    "start_time": "2022-11-04T14:53:42.770Z"
   },
   {
    "duration": 40,
    "start_time": "2022-11-04T14:53:42.775Z"
   },
   {
    "duration": 16,
    "start_time": "2022-11-04T14:53:42.816Z"
   },
   {
    "duration": 11,
    "start_time": "2022-11-04T14:53:42.834Z"
   },
   {
    "duration": 5,
    "start_time": "2022-11-04T14:53:42.847Z"
   },
   {
    "duration": 7,
    "start_time": "2022-11-04T14:53:42.854Z"
   },
   {
    "duration": 52,
    "start_time": "2022-11-04T14:53:42.862Z"
   },
   {
    "duration": 19,
    "start_time": "2022-11-04T14:53:42.917Z"
   },
   {
    "duration": 15,
    "start_time": "2022-11-04T14:53:42.938Z"
   },
   {
    "duration": 39,
    "start_time": "2022-11-04T14:53:42.954Z"
   },
   {
    "duration": 10,
    "start_time": "2022-11-04T14:53:43.004Z"
   },
   {
    "duration": 5,
    "start_time": "2022-11-04T14:53:43.016Z"
   },
   {
    "duration": 8,
    "start_time": "2022-11-04T14:53:43.023Z"
   },
   {
    "duration": 3,
    "start_time": "2022-11-04T14:53:43.032Z"
   },
   {
    "duration": 10,
    "start_time": "2022-11-04T14:53:43.036Z"
   },
   {
    "duration": 6,
    "start_time": "2022-11-04T14:53:43.048Z"
   },
   {
    "duration": 4,
    "start_time": "2022-11-04T14:53:43.056Z"
   },
   {
    "duration": 35,
    "start_time": "2022-11-04T14:53:43.061Z"
   },
   {
    "duration": 19,
    "start_time": "2022-11-04T14:53:43.098Z"
   },
   {
    "duration": 10,
    "start_time": "2022-11-04T14:53:43.118Z"
   },
   {
    "duration": 6,
    "start_time": "2022-11-04T14:53:43.129Z"
   },
   {
    "duration": 11,
    "start_time": "2022-11-04T14:53:43.136Z"
   },
   {
    "duration": 12,
    "start_time": "2022-11-04T14:53:43.148Z"
   },
   {
    "duration": 8,
    "start_time": "2022-11-04T14:53:43.162Z"
   },
   {
    "duration": 5,
    "start_time": "2022-11-04T14:53:43.172Z"
   },
   {
    "duration": 15,
    "start_time": "2022-11-04T14:53:43.179Z"
   },
   {
    "duration": 34,
    "start_time": "2022-11-04T14:53:43.197Z"
   },
   {
    "duration": 16,
    "start_time": "2022-11-04T14:53:43.233Z"
   },
   {
    "duration": 218,
    "start_time": "2022-11-04T14:53:43.251Z"
   },
   {
    "duration": 38,
    "start_time": "2022-11-04T14:53:43.471Z"
   },
   {
    "duration": 12,
    "start_time": "2022-11-04T14:53:43.511Z"
   },
   {
    "duration": 23,
    "start_time": "2022-11-04T14:53:43.524Z"
   },
   {
    "duration": 7,
    "start_time": "2022-11-04T14:53:43.549Z"
   },
   {
    "duration": 8,
    "start_time": "2022-11-04T14:53:43.558Z"
   },
   {
    "duration": 345,
    "start_time": "2022-11-04T14:53:43.591Z"
   },
   {
    "duration": 302,
    "start_time": "2022-11-04T14:53:43.938Z"
   },
   {
    "duration": 222,
    "start_time": "2022-11-04T14:53:44.241Z"
   },
   {
    "duration": 6,
    "start_time": "2022-11-04T14:53:44.466Z"
   },
   {
    "duration": 211,
    "start_time": "2022-11-04T14:53:44.474Z"
   },
   {
    "duration": 11,
    "start_time": "2022-11-04T14:53:44.687Z"
   },
   {
    "duration": 190,
    "start_time": "2022-11-04T14:53:44.699Z"
   },
   {
    "duration": 18,
    "start_time": "2022-11-04T14:53:44.890Z"
   },
   {
    "duration": 20,
    "start_time": "2022-11-04T14:53:44.914Z"
   },
   {
    "duration": 7,
    "start_time": "2022-11-04T14:53:44.936Z"
   },
   {
    "duration": 6,
    "start_time": "2022-11-04T14:53:44.944Z"
   },
   {
    "duration": 38,
    "start_time": "2022-11-04T14:53:44.952Z"
   },
   {
    "duration": 13,
    "start_time": "2022-11-04T14:53:44.995Z"
   },
   {
    "duration": 406,
    "start_time": "2022-11-04T14:53:45.015Z"
   },
   {
    "duration": 15,
    "start_time": "2022-11-04T14:53:45.423Z"
   },
   {
    "duration": 393,
    "start_time": "2022-11-04T14:53:45.439Z"
   },
   {
    "duration": 14,
    "start_time": "2022-11-04T14:53:45.834Z"
   },
   {
    "duration": 387,
    "start_time": "2022-11-04T14:53:45.849Z"
   },
   {
    "duration": 16,
    "start_time": "2022-11-04T14:53:46.238Z"
   },
   {
    "duration": 496,
    "start_time": "2022-11-04T14:53:46.256Z"
   },
   {
    "duration": 17,
    "start_time": "2022-11-04T14:53:46.754Z"
   },
   {
    "duration": 434,
    "start_time": "2022-11-04T14:53:46.773Z"
   },
   {
    "duration": 19,
    "start_time": "2022-11-04T14:53:47.209Z"
   },
   {
    "duration": 437,
    "start_time": "2022-11-04T14:53:47.230Z"
   },
   {
    "duration": 33,
    "start_time": "2022-11-04T14:53:47.669Z"
   },
   {
    "duration": 223,
    "start_time": "2022-11-04T14:53:47.704Z"
   },
   {
    "duration": 19,
    "start_time": "2022-11-04T14:53:47.928Z"
   },
   {
    "duration": 260,
    "start_time": "2022-11-04T14:53:47.949Z"
   },
   {
    "duration": 22,
    "start_time": "2022-11-04T14:53:48.210Z"
   },
   {
    "duration": 313,
    "start_time": "2022-11-04T14:53:48.233Z"
   },
   {
    "duration": 19,
    "start_time": "2022-11-04T14:53:48.547Z"
   },
   {
    "duration": 34,
    "start_time": "2022-11-04T14:53:48.568Z"
   },
   {
    "duration": 8,
    "start_time": "2022-11-04T14:53:48.615Z"
   },
   {
    "duration": 11,
    "start_time": "2022-11-04T14:53:48.625Z"
   },
   {
    "duration": 6,
    "start_time": "2022-11-04T14:53:48.638Z"
   },
   {
    "duration": 45,
    "start_time": "2022-11-05T05:27:35.985Z"
   },
   {
    "duration": 1340,
    "start_time": "2022-11-05T05:27:44.710Z"
   },
   {
    "duration": 99,
    "start_time": "2022-11-05T05:27:46.052Z"
   },
   {
    "duration": 20,
    "start_time": "2022-11-05T05:27:46.153Z"
   },
   {
    "duration": 14,
    "start_time": "2022-11-05T05:27:46.175Z"
   },
   {
    "duration": 9,
    "start_time": "2022-11-05T05:27:46.190Z"
   },
   {
    "duration": 799,
    "start_time": "2022-11-05T05:27:46.201Z"
   },
   {
    "duration": 3,
    "start_time": "2022-11-05T05:27:47.002Z"
   },
   {
    "duration": 35,
    "start_time": "2022-11-05T05:27:47.007Z"
   },
   {
    "duration": 17,
    "start_time": "2022-11-05T05:27:47.044Z"
   },
   {
    "duration": 16,
    "start_time": "2022-11-05T05:27:47.064Z"
   },
   {
    "duration": 10,
    "start_time": "2022-11-05T05:27:47.082Z"
   },
   {
    "duration": 13,
    "start_time": "2022-11-05T05:27:47.093Z"
   },
   {
    "duration": 62,
    "start_time": "2022-11-05T05:27:47.107Z"
   },
   {
    "duration": 19,
    "start_time": "2022-11-05T05:27:47.171Z"
   },
   {
    "duration": 39,
    "start_time": "2022-11-05T05:27:47.193Z"
   },
   {
    "duration": 23,
    "start_time": "2022-11-05T05:27:47.234Z"
   },
   {
    "duration": 20,
    "start_time": "2022-11-05T05:27:47.259Z"
   },
   {
    "duration": 12,
    "start_time": "2022-11-05T05:27:47.281Z"
   },
   {
    "duration": 19,
    "start_time": "2022-11-05T05:27:47.295Z"
   },
   {
    "duration": 16,
    "start_time": "2022-11-05T05:27:47.316Z"
   },
   {
    "duration": 14,
    "start_time": "2022-11-05T05:27:47.334Z"
   },
   {
    "duration": 14,
    "start_time": "2022-11-05T05:27:47.350Z"
   },
   {
    "duration": 29,
    "start_time": "2022-11-05T05:27:47.366Z"
   },
   {
    "duration": 27,
    "start_time": "2022-11-05T05:27:47.396Z"
   },
   {
    "duration": 40,
    "start_time": "2022-11-05T05:27:47.424Z"
   },
   {
    "duration": 14,
    "start_time": "2022-11-05T05:27:47.465Z"
   },
   {
    "duration": 19,
    "start_time": "2022-11-05T05:27:47.480Z"
   },
   {
    "duration": 32,
    "start_time": "2022-11-05T05:27:47.502Z"
   },
   {
    "duration": 21,
    "start_time": "2022-11-05T05:27:47.535Z"
   },
   {
    "duration": 43,
    "start_time": "2022-11-05T05:27:47.557Z"
   },
   {
    "duration": 13,
    "start_time": "2022-11-05T05:27:47.602Z"
   },
   {
    "duration": 4,
    "start_time": "2022-11-05T05:27:50.572Z"
   },
   {
    "duration": 3,
    "start_time": "2022-11-05T05:28:01.622Z"
   },
   {
    "duration": 141,
    "start_time": "2022-11-05T05:28:01.628Z"
   },
   {
    "duration": 14,
    "start_time": "2022-11-05T05:28:01.771Z"
   },
   {
    "duration": 25,
    "start_time": "2022-11-05T05:28:01.787Z"
   },
   {
    "duration": 16,
    "start_time": "2022-11-05T05:28:01.814Z"
   },
   {
    "duration": 783,
    "start_time": "2022-11-05T05:28:01.832Z"
   },
   {
    "duration": 3,
    "start_time": "2022-11-05T05:28:02.617Z"
   },
   {
    "duration": 61,
    "start_time": "2022-11-05T05:28:02.622Z"
   },
   {
    "duration": 51,
    "start_time": "2022-11-05T05:28:02.684Z"
   },
   {
    "duration": 28,
    "start_time": "2022-11-05T05:28:02.736Z"
   },
   {
    "duration": 24,
    "start_time": "2022-11-05T05:28:02.766Z"
   },
   {
    "duration": 23,
    "start_time": "2022-11-05T05:28:02.792Z"
   },
   {
    "duration": 24,
    "start_time": "2022-11-05T05:28:02.817Z"
   },
   {
    "duration": 15,
    "start_time": "2022-11-05T05:28:02.843Z"
   },
   {
    "duration": 100,
    "start_time": "2022-11-05T05:28:02.860Z"
   },
   {
    "duration": 47,
    "start_time": "2022-11-05T05:28:02.962Z"
   },
   {
    "duration": 51,
    "start_time": "2022-11-05T05:28:03.011Z"
   },
   {
    "duration": 40,
    "start_time": "2022-11-05T05:28:03.064Z"
   },
   {
    "duration": 21,
    "start_time": "2022-11-05T05:28:03.106Z"
   },
   {
    "duration": 28,
    "start_time": "2022-11-05T05:28:03.129Z"
   },
   {
    "duration": 35,
    "start_time": "2022-11-05T05:28:03.158Z"
   },
   {
    "duration": 32,
    "start_time": "2022-11-05T05:28:03.195Z"
   },
   {
    "duration": 27,
    "start_time": "2022-11-05T05:28:03.229Z"
   },
   {
    "duration": 30,
    "start_time": "2022-11-05T05:28:03.258Z"
   },
   {
    "duration": 40,
    "start_time": "2022-11-05T05:28:03.289Z"
   },
   {
    "duration": 21,
    "start_time": "2022-11-05T05:28:03.331Z"
   },
   {
    "duration": 38,
    "start_time": "2022-11-05T05:28:03.354Z"
   },
   {
    "duration": 31,
    "start_time": "2022-11-05T05:28:03.394Z"
   },
   {
    "duration": 38,
    "start_time": "2022-11-05T05:28:03.429Z"
   },
   {
    "duration": 36,
    "start_time": "2022-11-05T05:28:03.469Z"
   },
   {
    "duration": 47,
    "start_time": "2022-11-05T05:28:03.508Z"
   },
   {
    "duration": 25,
    "start_time": "2022-11-05T05:28:03.557Z"
   },
   {
    "duration": 25,
    "start_time": "2022-11-05T05:28:03.584Z"
   },
   {
    "duration": 35,
    "start_time": "2022-11-05T05:28:03.611Z"
   },
   {
    "duration": 13,
    "start_time": "2022-11-05T05:28:06.711Z"
   },
   {
    "duration": 4,
    "start_time": "2022-11-05T06:03:18.757Z"
   },
   {
    "duration": 54,
    "start_time": "2022-11-05T06:03:18.763Z"
   },
   {
    "duration": 14,
    "start_time": "2022-11-05T06:03:18.819Z"
   },
   {
    "duration": 22,
    "start_time": "2022-11-05T06:03:18.835Z"
   },
   {
    "duration": 9,
    "start_time": "2022-11-05T06:03:18.859Z"
   },
   {
    "duration": 761,
    "start_time": "2022-11-05T06:03:18.869Z"
   },
   {
    "duration": 3,
    "start_time": "2022-11-05T06:03:19.638Z"
   },
   {
    "duration": 22,
    "start_time": "2022-11-05T06:03:19.643Z"
   },
   {
    "duration": 16,
    "start_time": "2022-11-05T06:03:19.668Z"
   },
   {
    "duration": 11,
    "start_time": "2022-11-05T06:03:19.686Z"
   },
   {
    "duration": 5,
    "start_time": "2022-11-05T06:03:19.699Z"
   },
   {
    "duration": 35,
    "start_time": "2022-11-05T06:03:19.706Z"
   },
   {
    "duration": 20,
    "start_time": "2022-11-05T06:03:19.742Z"
   },
   {
    "duration": 18,
    "start_time": "2022-11-05T06:03:19.764Z"
   },
   {
    "duration": 21,
    "start_time": "2022-11-05T06:03:19.784Z"
   },
   {
    "duration": 43,
    "start_time": "2022-11-05T06:03:19.807Z"
   },
   {
    "duration": 6,
    "start_time": "2022-11-05T06:03:19.851Z"
   },
   {
    "duration": 18,
    "start_time": "2022-11-05T06:03:19.858Z"
   },
   {
    "duration": 19,
    "start_time": "2022-11-05T06:03:19.877Z"
   },
   {
    "duration": 4,
    "start_time": "2022-11-05T06:03:19.897Z"
   },
   {
    "duration": 10,
    "start_time": "2022-11-05T06:03:19.903Z"
   },
   {
    "duration": 7,
    "start_time": "2022-11-05T06:03:19.915Z"
   },
   {
    "duration": 16,
    "start_time": "2022-11-05T06:03:19.923Z"
   },
   {
    "duration": 5,
    "start_time": "2022-11-05T06:03:19.942Z"
   },
   {
    "duration": 8,
    "start_time": "2022-11-05T06:03:19.949Z"
   },
   {
    "duration": 4,
    "start_time": "2022-11-05T06:03:19.959Z"
   },
   {
    "duration": 8,
    "start_time": "2022-11-05T06:03:19.965Z"
   },
   {
    "duration": 8,
    "start_time": "2022-11-05T06:03:19.975Z"
   },
   {
    "duration": 5,
    "start_time": "2022-11-05T06:03:19.984Z"
   },
   {
    "duration": 8,
    "start_time": "2022-11-05T06:03:19.991Z"
   },
   {
    "duration": 39,
    "start_time": "2022-11-05T06:03:20.000Z"
   },
   {
    "duration": 7,
    "start_time": "2022-11-05T06:03:20.041Z"
   },
   {
    "duration": 6,
    "start_time": "2022-11-05T06:03:20.049Z"
   },
   {
    "duration": 15,
    "start_time": "2022-11-05T06:03:20.057Z"
   },
   {
    "duration": 16,
    "start_time": "2022-11-05T06:03:20.074Z"
   },
   {
    "duration": 253,
    "start_time": "2022-11-05T06:03:25.038Z"
   },
   {
    "duration": 209,
    "start_time": "2022-11-05T06:03:51.325Z"
   },
   {
    "duration": 181,
    "start_time": "2022-11-05T06:04:02.190Z"
   },
   {
    "duration": 194,
    "start_time": "2022-11-05T06:06:06.558Z"
   },
   {
    "duration": 187,
    "start_time": "2022-11-05T06:07:11.951Z"
   },
   {
    "duration": 49,
    "start_time": "2022-11-05T06:07:52.977Z"
   },
   {
    "duration": 296,
    "start_time": "2022-11-05T06:08:42.863Z"
   },
   {
    "duration": 272,
    "start_time": "2022-11-05T06:08:57.951Z"
   },
   {
    "duration": 399,
    "start_time": "2022-11-05T06:10:05.102Z"
   },
   {
    "duration": 288,
    "start_time": "2022-11-05T06:12:25.742Z"
   },
   {
    "duration": 286,
    "start_time": "2022-11-05T06:12:51.617Z"
   },
   {
    "duration": 46,
    "start_time": "2022-11-05T06:14:46.863Z"
   },
   {
    "duration": 3,
    "start_time": "2022-11-05T06:15:04.253Z"
   },
   {
    "duration": 8,
    "start_time": "2022-11-05T06:15:12.255Z"
   },
   {
    "duration": 2,
    "start_time": "2022-11-05T06:15:17.542Z"
   },
   {
    "duration": 58,
    "start_time": "2022-11-05T06:15:17.546Z"
   },
   {
    "duration": 17,
    "start_time": "2022-11-05T06:15:17.605Z"
   },
   {
    "duration": 23,
    "start_time": "2022-11-05T06:15:17.624Z"
   },
   {
    "duration": 11,
    "start_time": "2022-11-05T06:15:17.648Z"
   },
   {
    "duration": 771,
    "start_time": "2022-11-05T06:15:17.661Z"
   },
   {
    "duration": 3,
    "start_time": "2022-11-05T06:15:18.438Z"
   },
   {
    "duration": 23,
    "start_time": "2022-11-05T06:15:18.443Z"
   },
   {
    "duration": 13,
    "start_time": "2022-11-05T06:15:18.469Z"
   },
   {
    "duration": 12,
    "start_time": "2022-11-05T06:15:18.484Z"
   },
   {
    "duration": 6,
    "start_time": "2022-11-05T06:15:18.497Z"
   },
   {
    "duration": 10,
    "start_time": "2022-11-05T06:15:18.504Z"
   },
   {
    "duration": 22,
    "start_time": "2022-11-05T06:15:18.538Z"
   },
   {
    "duration": 15,
    "start_time": "2022-11-05T06:15:18.561Z"
   },
   {
    "duration": 16,
    "start_time": "2022-11-05T06:15:18.578Z"
   },
   {
    "duration": 16,
    "start_time": "2022-11-05T06:15:18.595Z"
   },
   {
    "duration": 5,
    "start_time": "2022-11-05T06:15:18.639Z"
   },
   {
    "duration": 5,
    "start_time": "2022-11-05T06:15:18.646Z"
   },
   {
    "duration": 6,
    "start_time": "2022-11-05T06:15:18.653Z"
   },
   {
    "duration": 4,
    "start_time": "2022-11-05T06:15:18.661Z"
   },
   {
    "duration": 11,
    "start_time": "2022-11-05T06:15:18.666Z"
   },
   {
    "duration": 9,
    "start_time": "2022-11-05T06:15:18.678Z"
   },
   {
    "duration": 6,
    "start_time": "2022-11-05T06:15:18.689Z"
   },
   {
    "duration": 42,
    "start_time": "2022-11-05T06:15:18.699Z"
   },
   {
    "duration": 10,
    "start_time": "2022-11-05T06:15:18.743Z"
   },
   {
    "duration": 9,
    "start_time": "2022-11-05T06:15:18.755Z"
   },
   {
    "duration": 12,
    "start_time": "2022-11-05T06:15:18.765Z"
   },
   {
    "duration": 6,
    "start_time": "2022-11-05T06:15:18.779Z"
   },
   {
    "duration": 11,
    "start_time": "2022-11-05T06:15:18.787Z"
   },
   {
    "duration": 20,
    "start_time": "2022-11-05T06:15:18.799Z"
   },
   {
    "duration": 21,
    "start_time": "2022-11-05T06:15:18.821Z"
   },
   {
    "duration": 8,
    "start_time": "2022-11-05T06:15:18.844Z"
   },
   {
    "duration": 8,
    "start_time": "2022-11-05T06:15:18.854Z"
   },
   {
    "duration": 20,
    "start_time": "2022-11-05T06:15:18.863Z"
   },
   {
    "duration": 15,
    "start_time": "2022-11-05T06:15:18.885Z"
   },
   {
    "duration": 221,
    "start_time": "2022-11-05T06:15:18.901Z"
   },
   {
    "duration": 33,
    "start_time": "2022-11-05T06:15:19.123Z"
   },
   {
    "duration": 10,
    "start_time": "2022-11-05T06:15:19.158Z"
   },
   {
    "duration": 22,
    "start_time": "2022-11-05T06:15:19.170Z"
   },
   {
    "duration": 7,
    "start_time": "2022-11-05T06:15:19.193Z"
   },
   {
    "duration": 21,
    "start_time": "2022-11-05T06:15:19.202Z"
   },
   {
    "duration": 306,
    "start_time": "2022-11-05T06:15:19.239Z"
   },
   {
    "duration": 311,
    "start_time": "2022-11-05T06:15:19.547Z"
   },
   {
    "duration": 3,
    "start_time": "2022-11-05T06:15:19.859Z"
   },
   {
    "duration": 10,
    "start_time": "2022-11-05T06:15:21.567Z"
   },
   {
    "duration": 30,
    "start_time": "2022-11-05T06:16:19.476Z"
   },
   {
    "duration": 13,
    "start_time": "2022-11-05T06:18:01.922Z"
   },
   {
    "duration": 117,
    "start_time": "2022-11-05T06:18:34.224Z"
   },
   {
    "duration": 253,
    "start_time": "2022-11-05T06:19:17.328Z"
   },
   {
    "duration": 29,
    "start_time": "2022-11-05T06:20:35.775Z"
   },
   {
    "duration": 18,
    "start_time": "2022-11-05T06:20:54.929Z"
   },
   {
    "duration": 138,
    "start_time": "2022-11-05T06:21:04.961Z"
   },
   {
    "duration": 110,
    "start_time": "2022-11-05T06:21:11.298Z"
   },
   {
    "duration": 106,
    "start_time": "2022-11-05T06:21:46.962Z"
   },
   {
    "duration": 107,
    "start_time": "2022-11-05T06:21:50.545Z"
   },
   {
    "duration": 101,
    "start_time": "2022-11-05T06:21:53.055Z"
   },
   {
    "duration": 112,
    "start_time": "2022-11-05T06:25:23.985Z"
   },
   {
    "duration": 125,
    "start_time": "2022-11-05T06:26:01.329Z"
   },
   {
    "duration": 116,
    "start_time": "2022-11-05T06:26:48.095Z"
   },
   {
    "duration": 110,
    "start_time": "2022-11-05T06:26:50.483Z"
   },
   {
    "duration": 111,
    "start_time": "2022-11-05T06:27:08.674Z"
   },
   {
    "duration": 120,
    "start_time": "2022-11-05T06:27:47.647Z"
   },
   {
    "duration": 106,
    "start_time": "2022-11-05T06:27:55.888Z"
   },
   {
    "duration": 125,
    "start_time": "2022-11-05T06:28:10.847Z"
   },
   {
    "duration": 126,
    "start_time": "2022-11-05T06:28:18.387Z"
   },
   {
    "duration": 108,
    "start_time": "2022-11-05T06:28:32.198Z"
   },
   {
    "duration": 111,
    "start_time": "2022-11-05T06:28:42.865Z"
   },
   {
    "duration": 135,
    "start_time": "2022-11-05T06:28:51.826Z"
   },
   {
    "duration": 38,
    "start_time": "2022-11-05T06:36:52.389Z"
   },
   {
    "duration": 10,
    "start_time": "2022-11-05T06:38:45.301Z"
   },
   {
    "duration": 9,
    "start_time": "2022-11-05T06:38:53.346Z"
   },
   {
    "duration": 7,
    "start_time": "2022-11-05T06:39:20.066Z"
   },
   {
    "duration": 10,
    "start_time": "2022-11-05T06:39:32.117Z"
   },
   {
    "duration": 8,
    "start_time": "2022-11-05T06:39:38.595Z"
   },
   {
    "duration": 8,
    "start_time": "2022-11-05T06:41:22.231Z"
   },
   {
    "duration": 8,
    "start_time": "2022-11-05T06:41:24.263Z"
   },
   {
    "duration": 5,
    "start_time": "2022-11-05T06:46:56.005Z"
   },
   {
    "duration": 5,
    "start_time": "2022-11-05T06:46:56.773Z"
   },
   {
    "duration": 6,
    "start_time": "2022-11-05T06:46:57.303Z"
   },
   {
    "duration": 5,
    "start_time": "2022-11-05T06:46:57.780Z"
   },
   {
    "duration": 6,
    "start_time": "2022-11-05T06:46:58.260Z"
   },
   {
    "duration": 6,
    "start_time": "2022-11-05T06:46:58.612Z"
   },
   {
    "duration": 48,
    "start_time": "2022-11-05T06:47:45.635Z"
   },
   {
    "duration": 11,
    "start_time": "2022-11-05T06:55:15.061Z"
   },
   {
    "duration": 4,
    "start_time": "2022-11-05T06:55:20.725Z"
   },
   {
    "duration": 71,
    "start_time": "2022-11-05T06:55:20.731Z"
   },
   {
    "duration": 16,
    "start_time": "2022-11-05T06:55:20.804Z"
   },
   {
    "duration": 21,
    "start_time": "2022-11-05T06:55:20.821Z"
   },
   {
    "duration": 10,
    "start_time": "2022-11-05T06:55:20.845Z"
   },
   {
    "duration": 947,
    "start_time": "2022-11-05T06:55:20.856Z"
   },
   {
    "duration": 3,
    "start_time": "2022-11-05T06:55:21.805Z"
   },
   {
    "duration": 36,
    "start_time": "2022-11-05T06:55:21.810Z"
   },
   {
    "duration": 16,
    "start_time": "2022-11-05T06:55:21.848Z"
   },
   {
    "duration": 13,
    "start_time": "2022-11-05T06:55:21.866Z"
   },
   {
    "duration": 5,
    "start_time": "2022-11-05T06:55:21.882Z"
   },
   {
    "duration": 13,
    "start_time": "2022-11-05T06:55:21.889Z"
   },
   {
    "duration": 44,
    "start_time": "2022-11-05T06:55:21.903Z"
   },
   {
    "duration": 24,
    "start_time": "2022-11-05T06:55:21.949Z"
   },
   {
    "duration": 17,
    "start_time": "2022-11-05T06:55:21.975Z"
   },
   {
    "duration": 19,
    "start_time": "2022-11-05T06:55:21.994Z"
   },
   {
    "duration": 28,
    "start_time": "2022-11-05T06:55:22.015Z"
   },
   {
    "duration": 6,
    "start_time": "2022-11-05T06:55:22.045Z"
   },
   {
    "duration": 11,
    "start_time": "2022-11-05T06:55:22.053Z"
   },
   {
    "duration": 6,
    "start_time": "2022-11-05T06:55:22.066Z"
   },
   {
    "duration": 12,
    "start_time": "2022-11-05T06:55:22.074Z"
   },
   {
    "duration": 19,
    "start_time": "2022-11-05T06:55:22.088Z"
   },
   {
    "duration": 5,
    "start_time": "2022-11-05T06:55:22.109Z"
   },
   {
    "duration": 5,
    "start_time": "2022-11-05T06:55:22.139Z"
   },
   {
    "duration": 11,
    "start_time": "2022-11-05T06:55:22.147Z"
   },
   {
    "duration": 7,
    "start_time": "2022-11-05T06:55:22.160Z"
   },
   {
    "duration": 9,
    "start_time": "2022-11-05T06:55:22.169Z"
   },
   {
    "duration": 11,
    "start_time": "2022-11-05T06:55:22.180Z"
   },
   {
    "duration": 42,
    "start_time": "2022-11-05T06:55:22.196Z"
   },
   {
    "duration": 9,
    "start_time": "2022-11-05T06:55:22.241Z"
   },
   {
    "duration": 6,
    "start_time": "2022-11-05T06:55:22.252Z"
   },
   {
    "duration": 8,
    "start_time": "2022-11-05T06:55:22.259Z"
   },
   {
    "duration": 7,
    "start_time": "2022-11-05T06:55:22.269Z"
   },
   {
    "duration": 16,
    "start_time": "2022-11-05T06:55:22.278Z"
   },
   {
    "duration": 46,
    "start_time": "2022-11-05T06:55:22.296Z"
   },
   {
    "duration": 231,
    "start_time": "2022-11-05T06:55:22.344Z"
   },
   {
    "duration": 24,
    "start_time": "2022-11-05T06:55:22.576Z"
   },
   {
    "duration": 9,
    "start_time": "2022-11-05T06:55:22.602Z"
   },
   {
    "duration": 42,
    "start_time": "2022-11-05T06:55:22.613Z"
   },
   {
    "duration": 8,
    "start_time": "2022-11-05T06:55:22.657Z"
   },
   {
    "duration": 9,
    "start_time": "2022-11-05T06:55:22.668Z"
   },
   {
    "duration": 314,
    "start_time": "2022-11-05T06:55:22.679Z"
   },
   {
    "duration": 297,
    "start_time": "2022-11-05T06:55:22.994Z"
   },
   {
    "duration": 3,
    "start_time": "2022-11-05T06:55:23.293Z"
   },
   {
    "duration": 145,
    "start_time": "2022-11-05T06:55:23.297Z"
   },
   {
    "duration": 134,
    "start_time": "2022-11-05T06:55:23.444Z"
   },
   {
    "duration": 124,
    "start_time": "2022-11-05T06:55:23.579Z"
   },
   {
    "duration": 135,
    "start_time": "2022-11-05T06:55:23.705Z"
   },
   {
    "duration": 145,
    "start_time": "2022-11-05T06:55:23.842Z"
   },
   {
    "duration": 137,
    "start_time": "2022-11-05T06:55:23.988Z"
   },
   {
    "duration": 150,
    "start_time": "2022-11-05T06:55:24.127Z"
   },
   {
    "duration": 135,
    "start_time": "2022-11-05T06:55:24.278Z"
   },
   {
    "duration": 270,
    "start_time": "2022-11-05T06:55:24.415Z"
   },
   {
    "duration": 151,
    "start_time": "2022-11-05T06:55:24.687Z"
   },
   {
    "duration": 7,
    "start_time": "2022-11-05T06:55:24.840Z"
   },
   {
    "duration": 180,
    "start_time": "2022-11-05T06:55:26.524Z"
   },
   {
    "duration": 173,
    "start_time": "2022-11-05T06:55:39.447Z"
   },
   {
    "duration": 351,
    "start_time": "2022-11-05T06:56:14.837Z"
   },
   {
    "duration": 370,
    "start_time": "2022-11-05T06:56:29.463Z"
   },
   {
    "duration": 342,
    "start_time": "2022-11-05T06:56:33.991Z"
   },
   {
    "duration": 392,
    "start_time": "2022-11-05T06:56:46.581Z"
   },
   {
    "duration": 416,
    "start_time": "2022-11-05T06:56:52.118Z"
   },
   {
    "duration": 391,
    "start_time": "2022-11-05T06:56:56.290Z"
   },
   {
    "duration": 3,
    "start_time": "2022-11-05T06:57:04.133Z"
   },
   {
    "duration": 58,
    "start_time": "2022-11-05T06:57:04.138Z"
   },
   {
    "duration": 16,
    "start_time": "2022-11-05T06:57:04.198Z"
   },
   {
    "duration": 27,
    "start_time": "2022-11-05T06:57:04.215Z"
   },
   {
    "duration": 15,
    "start_time": "2022-11-05T06:57:04.245Z"
   },
   {
    "duration": 810,
    "start_time": "2022-11-05T06:57:04.262Z"
   },
   {
    "duration": 4,
    "start_time": "2022-11-05T06:57:05.073Z"
   },
   {
    "duration": 22,
    "start_time": "2022-11-05T06:57:05.079Z"
   },
   {
    "duration": 15,
    "start_time": "2022-11-05T06:57:05.102Z"
   },
   {
    "duration": 27,
    "start_time": "2022-11-05T06:57:05.118Z"
   },
   {
    "duration": 6,
    "start_time": "2022-11-05T06:57:05.148Z"
   },
   {
    "duration": 7,
    "start_time": "2022-11-05T06:57:05.155Z"
   },
   {
    "duration": 23,
    "start_time": "2022-11-05T06:57:05.164Z"
   },
   {
    "duration": 14,
    "start_time": "2022-11-05T06:57:05.188Z"
   },
   {
    "duration": 181,
    "start_time": "2022-11-05T06:57:05.204Z"
   },
   {
    "duration": 18,
    "start_time": "2022-11-05T06:57:05.387Z"
   },
   {
    "duration": 8,
    "start_time": "2022-11-05T06:57:05.406Z"
   },
   {
    "duration": 5,
    "start_time": "2022-11-05T06:57:05.415Z"
   },
   {
    "duration": 19,
    "start_time": "2022-11-05T06:57:05.421Z"
   },
   {
    "duration": 2,
    "start_time": "2022-11-05T06:57:05.442Z"
   },
   {
    "duration": 17,
    "start_time": "2022-11-05T06:57:05.446Z"
   },
   {
    "duration": 13,
    "start_time": "2022-11-05T06:57:05.465Z"
   },
   {
    "duration": 9,
    "start_time": "2022-11-05T06:57:05.479Z"
   },
   {
    "duration": 19,
    "start_time": "2022-11-05T06:57:05.490Z"
   },
   {
    "duration": 12,
    "start_time": "2022-11-05T06:57:05.511Z"
   },
   {
    "duration": 5,
    "start_time": "2022-11-05T06:57:05.525Z"
   },
   {
    "duration": 9,
    "start_time": "2022-11-05T06:57:05.531Z"
   },
   {
    "duration": 21,
    "start_time": "2022-11-05T06:57:05.542Z"
   },
   {
    "duration": 8,
    "start_time": "2022-11-05T06:57:05.567Z"
   },
   {
    "duration": 16,
    "start_time": "2022-11-05T06:57:05.576Z"
   },
   {
    "duration": 5,
    "start_time": "2022-11-05T06:57:05.593Z"
   },
   {
    "duration": 12,
    "start_time": "2022-11-05T06:57:05.600Z"
   },
   {
    "duration": 7,
    "start_time": "2022-11-05T06:57:05.614Z"
   },
   {
    "duration": 38,
    "start_time": "2022-11-05T06:57:05.623Z"
   },
   {
    "duration": 26,
    "start_time": "2022-11-05T06:57:05.663Z"
   },
   {
    "duration": 228,
    "start_time": "2022-11-05T06:57:05.691Z"
   },
   {
    "duration": 42,
    "start_time": "2022-11-05T06:57:05.921Z"
   },
   {
    "duration": 11,
    "start_time": "2022-11-05T06:57:05.965Z"
   },
   {
    "duration": 51,
    "start_time": "2022-11-05T06:57:05.977Z"
   },
   {
    "duration": 9,
    "start_time": "2022-11-05T06:57:06.030Z"
   },
   {
    "duration": 26,
    "start_time": "2022-11-05T06:57:06.040Z"
   },
   {
    "duration": 301,
    "start_time": "2022-11-05T06:57:06.068Z"
   },
   {
    "duration": 310,
    "start_time": "2022-11-05T06:57:06.371Z"
   },
   {
    "duration": 3,
    "start_time": "2022-11-05T06:57:06.682Z"
   },
   {
    "duration": 155,
    "start_time": "2022-11-05T06:57:06.686Z"
   },
   {
    "duration": 123,
    "start_time": "2022-11-05T06:57:06.843Z"
   },
   {
    "duration": 136,
    "start_time": "2022-11-05T06:57:06.968Z"
   },
   {
    "duration": 167,
    "start_time": "2022-11-05T06:57:07.106Z"
   },
   {
    "duration": 184,
    "start_time": "2022-11-05T06:57:07.275Z"
   },
   {
    "duration": 126,
    "start_time": "2022-11-05T06:57:07.461Z"
   },
   {
    "duration": 145,
    "start_time": "2022-11-05T06:57:07.589Z"
   },
   {
    "duration": 140,
    "start_time": "2022-11-05T06:57:07.739Z"
   },
   {
    "duration": 131,
    "start_time": "2022-11-05T06:57:07.881Z"
   },
   {
    "duration": 142,
    "start_time": "2022-11-05T06:57:08.014Z"
   },
   {
    "duration": 7,
    "start_time": "2022-11-05T06:57:08.157Z"
   },
   {
    "duration": 173,
    "start_time": "2022-11-05T06:57:08.166Z"
   },
   {
    "duration": 5,
    "start_time": "2022-11-05T06:57:08.340Z"
   },
   {
    "duration": 204,
    "start_time": "2022-11-05T06:57:08.347Z"
   },
   {
    "duration": 6,
    "start_time": "2022-11-05T06:57:08.553Z"
   },
   {
    "duration": 22,
    "start_time": "2022-11-05T06:57:08.561Z"
   },
   {
    "duration": 6,
    "start_time": "2022-11-05T06:57:08.585Z"
   },
   {
    "duration": 8,
    "start_time": "2022-11-05T06:57:08.592Z"
   },
   {
    "duration": 10,
    "start_time": "2022-11-05T06:57:08.602Z"
   },
   {
    "duration": 8,
    "start_time": "2022-11-05T06:57:08.639Z"
   },
   {
    "duration": 10,
    "start_time": "2022-11-05T06:57:08.649Z"
   },
   {
    "duration": 10,
    "start_time": "2022-11-05T06:57:08.661Z"
   },
   {
    "duration": 9,
    "start_time": "2022-11-05T06:57:08.673Z"
   },
   {
    "duration": 6,
    "start_time": "2022-11-05T06:57:08.684Z"
   },
   {
    "duration": 7,
    "start_time": "2022-11-05T06:57:08.692Z"
   },
   {
    "duration": 7,
    "start_time": "2022-11-05T06:57:08.740Z"
   },
   {
    "duration": 11,
    "start_time": "2022-11-05T06:57:08.749Z"
   },
   {
    "duration": 6,
    "start_time": "2022-11-05T06:57:08.762Z"
   },
   {
    "duration": 37,
    "start_time": "2022-11-05T06:57:08.770Z"
   },
   {
    "duration": 33,
    "start_time": "2022-11-05T06:57:08.808Z"
   },
   {
    "duration": 349,
    "start_time": "2022-11-05T06:57:08.843Z"
   },
   {
    "duration": 13,
    "start_time": "2022-11-05T06:57:09.194Z"
   },
   {
    "duration": 363,
    "start_time": "2022-11-05T06:57:09.208Z"
   },
   {
    "duration": 14,
    "start_time": "2022-11-05T06:57:09.573Z"
   },
   {
    "duration": 344,
    "start_time": "2022-11-05T06:57:09.589Z"
   },
   {
    "duration": 14,
    "start_time": "2022-11-05T06:57:09.938Z"
   },
   {
    "duration": 582,
    "start_time": "2022-11-05T06:57:09.954Z"
   },
   {
    "duration": 22,
    "start_time": "2022-11-05T06:57:10.538Z"
   },
   {
    "duration": 428,
    "start_time": "2022-11-05T06:57:10.568Z"
   },
   {
    "duration": 14,
    "start_time": "2022-11-05T06:57:10.997Z"
   },
   {
    "duration": 414,
    "start_time": "2022-11-05T06:57:11.013Z"
   },
   {
    "duration": 20,
    "start_time": "2022-11-05T06:57:11.429Z"
   },
   {
    "duration": 245,
    "start_time": "2022-11-05T06:58:01.079Z"
   },
   {
    "duration": 243,
    "start_time": "2022-11-05T06:58:22.340Z"
   },
   {
    "duration": 265,
    "start_time": "2022-11-05T06:58:33.559Z"
   },
   {
    "duration": 18,
    "start_time": "2022-11-05T07:02:13.559Z"
   },
   {
    "duration": 3,
    "start_time": "2022-11-05T07:04:53.833Z"
   },
   {
    "duration": 66,
    "start_time": "2022-11-05T07:04:53.840Z"
   },
   {
    "duration": 15,
    "start_time": "2022-11-05T07:04:53.909Z"
   },
   {
    "duration": 21,
    "start_time": "2022-11-05T07:04:53.926Z"
   },
   {
    "duration": 10,
    "start_time": "2022-11-05T07:04:53.950Z"
   },
   {
    "duration": 881,
    "start_time": "2022-11-05T07:04:53.962Z"
   },
   {
    "duration": 4,
    "start_time": "2022-11-05T07:04:54.844Z"
   },
   {
    "duration": 42,
    "start_time": "2022-11-05T07:04:54.850Z"
   },
   {
    "duration": 16,
    "start_time": "2022-11-05T07:04:54.895Z"
   },
   {
    "duration": 32,
    "start_time": "2022-11-05T07:04:54.913Z"
   },
   {
    "duration": 6,
    "start_time": "2022-11-05T07:04:54.947Z"
   },
   {
    "duration": 18,
    "start_time": "2022-11-05T07:04:54.954Z"
   },
   {
    "duration": 34,
    "start_time": "2022-11-05T07:04:54.974Z"
   },
   {
    "duration": 14,
    "start_time": "2022-11-05T07:04:55.010Z"
   },
   {
    "duration": 25,
    "start_time": "2022-11-05T07:04:55.026Z"
   },
   {
    "duration": 16,
    "start_time": "2022-11-05T07:04:55.052Z"
   },
   {
    "duration": 7,
    "start_time": "2022-11-05T07:04:55.070Z"
   },
   {
    "duration": 6,
    "start_time": "2022-11-05T07:04:55.078Z"
   },
   {
    "duration": 7,
    "start_time": "2022-11-05T07:04:55.086Z"
   },
   {
    "duration": 5,
    "start_time": "2022-11-05T07:04:55.094Z"
   },
   {
    "duration": 39,
    "start_time": "2022-11-05T07:04:55.100Z"
   },
   {
    "duration": 7,
    "start_time": "2022-11-05T07:04:55.141Z"
   },
   {
    "duration": 10,
    "start_time": "2022-11-05T07:04:55.149Z"
   },
   {
    "duration": 7,
    "start_time": "2022-11-05T07:04:55.161Z"
   },
   {
    "duration": 11,
    "start_time": "2022-11-05T07:04:55.169Z"
   },
   {
    "duration": 5,
    "start_time": "2022-11-05T07:04:55.182Z"
   },
   {
    "duration": 11,
    "start_time": "2022-11-05T07:04:55.188Z"
   },
   {
    "duration": 40,
    "start_time": "2022-11-05T07:04:55.201Z"
   },
   {
    "duration": 6,
    "start_time": "2022-11-05T07:04:55.245Z"
   },
   {
    "duration": 9,
    "start_time": "2022-11-05T07:04:55.252Z"
   },
   {
    "duration": 6,
    "start_time": "2022-11-05T07:04:55.263Z"
   },
   {
    "duration": 6,
    "start_time": "2022-11-05T07:04:55.270Z"
   },
   {
    "duration": 7,
    "start_time": "2022-11-05T07:04:55.277Z"
   },
   {
    "duration": 18,
    "start_time": "2022-11-05T07:04:55.285Z"
   },
   {
    "duration": 15,
    "start_time": "2022-11-05T07:04:55.338Z"
   },
   {
    "duration": 229,
    "start_time": "2022-11-05T07:04:55.354Z"
   },
   {
    "duration": 27,
    "start_time": "2022-11-05T07:04:55.586Z"
   },
   {
    "duration": 26,
    "start_time": "2022-11-05T07:04:55.615Z"
   },
   {
    "duration": 20,
    "start_time": "2022-11-05T07:04:55.643Z"
   },
   {
    "duration": 8,
    "start_time": "2022-11-05T07:04:55.665Z"
   },
   {
    "duration": 9,
    "start_time": "2022-11-05T07:04:55.675Z"
   },
   {
    "duration": 319,
    "start_time": "2022-11-05T07:04:55.686Z"
   },
   {
    "duration": 301,
    "start_time": "2022-11-05T07:04:56.007Z"
   },
   {
    "duration": 3,
    "start_time": "2022-11-05T07:04:56.310Z"
   },
   {
    "duration": 296,
    "start_time": "2022-11-05T07:04:56.314Z"
   },
   {
    "duration": 128,
    "start_time": "2022-11-05T07:04:56.612Z"
   },
   {
    "duration": 131,
    "start_time": "2022-11-05T07:04:56.742Z"
   },
   {
    "duration": 125,
    "start_time": "2022-11-05T07:04:56.875Z"
   },
   {
    "duration": 175,
    "start_time": "2022-11-05T07:04:57.002Z"
   },
   {
    "duration": 177,
    "start_time": "2022-11-05T07:04:57.179Z"
   },
   {
    "duration": 167,
    "start_time": "2022-11-05T07:04:57.357Z"
   },
   {
    "duration": 132,
    "start_time": "2022-11-05T07:04:57.526Z"
   },
   {
    "duration": 128,
    "start_time": "2022-11-05T07:04:57.659Z"
   },
   {
    "duration": 152,
    "start_time": "2022-11-05T07:04:57.789Z"
   },
   {
    "duration": 6,
    "start_time": "2022-11-05T07:04:57.942Z"
   },
   {
    "duration": 169,
    "start_time": "2022-11-05T07:04:57.950Z"
   },
   {
    "duration": 5,
    "start_time": "2022-11-05T07:04:58.121Z"
   },
   {
    "duration": 188,
    "start_time": "2022-11-05T07:04:58.127Z"
   },
   {
    "duration": 7,
    "start_time": "2022-11-05T07:04:58.316Z"
   },
   {
    "duration": 28,
    "start_time": "2022-11-05T07:04:58.324Z"
   },
   {
    "duration": 7,
    "start_time": "2022-11-05T07:04:58.353Z"
   },
   {
    "duration": 5,
    "start_time": "2022-11-05T07:04:58.361Z"
   },
   {
    "duration": 10,
    "start_time": "2022-11-05T07:04:58.367Z"
   },
   {
    "duration": 8,
    "start_time": "2022-11-05T07:04:58.379Z"
   },
   {
    "duration": 7,
    "start_time": "2022-11-05T07:04:58.389Z"
   },
   {
    "duration": 44,
    "start_time": "2022-11-05T07:04:58.398Z"
   },
   {
    "duration": 6,
    "start_time": "2022-11-05T07:04:58.444Z"
   },
   {
    "duration": 8,
    "start_time": "2022-11-05T07:04:58.452Z"
   },
   {
    "duration": 9,
    "start_time": "2022-11-05T07:04:58.461Z"
   },
   {
    "duration": 7,
    "start_time": "2022-11-05T07:04:58.471Z"
   },
   {
    "duration": 10,
    "start_time": "2022-11-05T07:04:58.480Z"
   },
   {
    "duration": 5,
    "start_time": "2022-11-05T07:04:58.492Z"
   },
   {
    "duration": 62,
    "start_time": "2022-11-05T07:04:58.499Z"
   },
   {
    "duration": 15,
    "start_time": "2022-11-05T07:04:58.563Z"
   },
   {
    "duration": 394,
    "start_time": "2022-11-05T07:04:58.580Z"
   },
   {
    "duration": 15,
    "start_time": "2022-11-05T07:04:58.976Z"
   },
   {
    "duration": 380,
    "start_time": "2022-11-05T07:04:58.993Z"
   },
   {
    "duration": 15,
    "start_time": "2022-11-05T07:04:59.375Z"
   },
   {
    "duration": 382,
    "start_time": "2022-11-05T07:04:59.391Z"
   },
   {
    "duration": 16,
    "start_time": "2022-11-05T07:04:59.774Z"
   },
   {
    "duration": 421,
    "start_time": "2022-11-05T07:04:59.792Z"
   },
   {
    "duration": 24,
    "start_time": "2022-11-05T07:05:00.216Z"
   },
   {
    "duration": 408,
    "start_time": "2022-11-05T07:05:00.246Z"
   },
   {
    "duration": 16,
    "start_time": "2022-11-05T07:05:00.656Z"
   },
   {
    "duration": 408,
    "start_time": "2022-11-05T07:05:00.674Z"
   },
   {
    "duration": 16,
    "start_time": "2022-11-05T07:05:01.084Z"
   },
   {
    "duration": 272,
    "start_time": "2022-11-05T07:05:01.101Z"
   },
   {
    "duration": 20,
    "start_time": "2022-11-05T07:05:01.374Z"
   },
   {
    "duration": 297,
    "start_time": "2022-11-05T07:05:01.396Z"
   },
   {
    "duration": 19,
    "start_time": "2022-11-05T07:05:01.696Z"
   },
   {
    "duration": 431,
    "start_time": "2022-11-05T07:05:01.717Z"
   },
   {
    "duration": 19,
    "start_time": "2022-11-05T07:05:02.150Z"
   },
   {
    "duration": 11,
    "start_time": "2022-11-05T07:05:02.171Z"
   },
   {
    "duration": 8,
    "start_time": "2022-11-05T07:05:02.183Z"
   },
   {
    "duration": 11,
    "start_time": "2022-11-05T07:05:02.193Z"
   },
   {
    "duration": 34,
    "start_time": "2022-11-05T07:05:02.206Z"
   },
   {
    "duration": 935,
    "start_time": "2022-11-05T07:06:21.385Z"
   },
   {
    "duration": 1195,
    "start_time": "2022-11-05T09:55:04.382Z"
   },
   {
    "duration": 52,
    "start_time": "2022-11-05T09:55:05.579Z"
   },
   {
    "duration": 16,
    "start_time": "2022-11-05T09:55:05.633Z"
   },
   {
    "duration": 17,
    "start_time": "2022-11-05T09:55:05.652Z"
   },
   {
    "duration": 9,
    "start_time": "2022-11-05T09:55:05.671Z"
   },
   {
    "duration": 747,
    "start_time": "2022-11-05T09:55:05.681Z"
   },
   {
    "duration": 4,
    "start_time": "2022-11-05T09:55:06.429Z"
   },
   {
    "duration": 30,
    "start_time": "2022-11-05T09:55:06.434Z"
   },
   {
    "duration": 23,
    "start_time": "2022-11-05T09:55:06.467Z"
   },
   {
    "duration": 12,
    "start_time": "2022-11-05T09:55:06.508Z"
   },
   {
    "duration": 6,
    "start_time": "2022-11-05T09:55:06.522Z"
   },
   {
    "duration": 10,
    "start_time": "2022-11-05T09:55:06.529Z"
   },
   {
    "duration": 23,
    "start_time": "2022-11-05T09:55:06.541Z"
   },
   {
    "duration": 14,
    "start_time": "2022-11-05T09:55:06.565Z"
   },
   {
    "duration": 14,
    "start_time": "2022-11-05T09:55:06.608Z"
   },
   {
    "duration": 16,
    "start_time": "2022-11-05T09:55:06.623Z"
   },
   {
    "duration": 6,
    "start_time": "2022-11-05T09:55:06.640Z"
   },
   {
    "duration": 10,
    "start_time": "2022-11-05T09:55:06.648Z"
   },
   {
    "duration": 12,
    "start_time": "2022-11-05T09:55:06.660Z"
   },
   {
    "duration": 4,
    "start_time": "2022-11-05T09:55:06.673Z"
   },
   {
    "duration": 7,
    "start_time": "2022-11-05T09:55:06.709Z"
   },
   {
    "duration": 10,
    "start_time": "2022-11-05T09:55:06.717Z"
   },
   {
    "duration": 12,
    "start_time": "2022-11-05T09:55:06.729Z"
   },
   {
    "duration": 13,
    "start_time": "2022-11-05T09:55:06.742Z"
   },
   {
    "duration": 12,
    "start_time": "2022-11-05T09:55:06.756Z"
   },
   {
    "duration": 8,
    "start_time": "2022-11-05T09:55:06.769Z"
   },
   {
    "duration": 7,
    "start_time": "2022-11-05T09:55:06.779Z"
   },
   {
    "duration": 18,
    "start_time": "2022-11-05T09:55:06.791Z"
   },
   {
    "duration": 7,
    "start_time": "2022-11-05T09:55:06.811Z"
   },
   {
    "duration": 8,
    "start_time": "2022-11-05T09:55:06.819Z"
   },
   {
    "duration": 4,
    "start_time": "2022-11-05T09:55:06.829Z"
   },
   {
    "duration": 9,
    "start_time": "2022-11-05T09:55:06.834Z"
   },
   {
    "duration": 6,
    "start_time": "2022-11-05T09:55:06.844Z"
   },
   {
    "duration": 21,
    "start_time": "2022-11-05T09:55:06.852Z"
   },
   {
    "duration": 46,
    "start_time": "2022-11-05T09:55:06.875Z"
   },
   {
    "duration": 209,
    "start_time": "2022-11-05T09:55:06.923Z"
   },
   {
    "duration": 22,
    "start_time": "2022-11-05T09:55:07.134Z"
   },
   {
    "duration": 11,
    "start_time": "2022-11-05T09:55:07.157Z"
   },
   {
    "duration": 24,
    "start_time": "2022-11-05T09:55:07.169Z"
   },
   {
    "duration": 9,
    "start_time": "2022-11-05T09:55:07.209Z"
   },
   {
    "duration": 11,
    "start_time": "2022-11-05T09:55:07.220Z"
   },
   {
    "duration": 355,
    "start_time": "2022-11-05T09:55:07.233Z"
   },
   {
    "duration": 300,
    "start_time": "2022-11-05T09:55:07.589Z"
   },
   {
    "duration": 3,
    "start_time": "2022-11-05T09:55:07.891Z"
   },
   {
    "duration": 208,
    "start_time": "2022-11-05T09:55:07.896Z"
   },
   {
    "duration": 112,
    "start_time": "2022-11-05T09:55:08.108Z"
   },
   {
    "duration": 121,
    "start_time": "2022-11-05T09:55:08.221Z"
   },
   {
    "duration": 123,
    "start_time": "2022-11-05T09:55:08.344Z"
   },
   {
    "duration": 133,
    "start_time": "2022-11-05T09:55:08.468Z"
   },
   {
    "duration": 120,
    "start_time": "2022-11-05T09:55:08.603Z"
   },
   {
    "duration": 135,
    "start_time": "2022-11-05T09:55:08.724Z"
   },
   {
    "duration": 141,
    "start_time": "2022-11-05T09:55:08.860Z"
   },
   {
    "duration": 117,
    "start_time": "2022-11-05T09:55:09.008Z"
   },
   {
    "duration": 135,
    "start_time": "2022-11-05T09:55:09.127Z"
   },
   {
    "duration": 7,
    "start_time": "2022-11-05T09:55:09.264Z"
   },
   {
    "duration": 187,
    "start_time": "2022-11-05T09:55:09.272Z"
   },
   {
    "duration": 5,
    "start_time": "2022-11-05T09:55:09.461Z"
   },
   {
    "duration": 165,
    "start_time": "2022-11-05T09:55:09.468Z"
   },
   {
    "duration": 5,
    "start_time": "2022-11-05T09:55:09.634Z"
   },
   {
    "duration": 17,
    "start_time": "2022-11-05T09:55:09.640Z"
   },
   {
    "duration": 18,
    "start_time": "2022-11-05T09:55:09.658Z"
   },
   {
    "duration": 10,
    "start_time": "2022-11-05T09:55:09.678Z"
   },
   {
    "duration": 21,
    "start_time": "2022-11-05T09:55:09.689Z"
   },
   {
    "duration": 7,
    "start_time": "2022-11-05T09:55:09.711Z"
   },
   {
    "duration": 11,
    "start_time": "2022-11-05T09:55:09.720Z"
   },
   {
    "duration": 12,
    "start_time": "2022-11-05T09:55:09.732Z"
   },
   {
    "duration": 6,
    "start_time": "2022-11-05T09:55:09.745Z"
   },
   {
    "duration": 7,
    "start_time": "2022-11-05T09:55:09.752Z"
   },
   {
    "duration": 6,
    "start_time": "2022-11-05T09:55:09.760Z"
   },
   {
    "duration": 8,
    "start_time": "2022-11-05T09:55:09.767Z"
   },
   {
    "duration": 34,
    "start_time": "2022-11-05T09:55:09.776Z"
   },
   {
    "duration": 5,
    "start_time": "2022-11-05T09:55:09.811Z"
   },
   {
    "duration": 115,
    "start_time": "2022-11-05T09:55:09.817Z"
   },
   {
    "duration": 12,
    "start_time": "2022-11-05T09:55:09.934Z"
   },
   {
    "duration": 396,
    "start_time": "2022-11-05T09:55:09.948Z"
   },
   {
    "duration": 13,
    "start_time": "2022-11-05T09:55:10.345Z"
   },
   {
    "duration": 365,
    "start_time": "2022-11-05T09:55:10.359Z"
   },
   {
    "duration": 17,
    "start_time": "2022-11-05T09:55:10.726Z"
   },
   {
    "duration": 390,
    "start_time": "2022-11-05T09:55:10.746Z"
   },
   {
    "duration": 12,
    "start_time": "2022-11-05T09:55:11.138Z"
   },
   {
    "duration": 395,
    "start_time": "2022-11-05T09:55:11.152Z"
   },
   {
    "duration": 14,
    "start_time": "2022-11-05T09:55:11.552Z"
   },
   {
    "duration": 382,
    "start_time": "2022-11-05T09:55:11.568Z"
   },
   {
    "duration": 13,
    "start_time": "2022-11-05T09:55:11.952Z"
   },
   {
    "duration": 361,
    "start_time": "2022-11-05T09:55:11.967Z"
   },
   {
    "duration": 14,
    "start_time": "2022-11-05T09:55:12.330Z"
   },
   {
    "duration": 279,
    "start_time": "2022-11-05T09:55:12.346Z"
   },
   {
    "duration": 18,
    "start_time": "2022-11-05T09:55:12.627Z"
   },
   {
    "duration": 262,
    "start_time": "2022-11-05T09:55:12.647Z"
   },
   {
    "duration": 18,
    "start_time": "2022-11-05T09:55:12.910Z"
   },
   {
    "duration": 250,
    "start_time": "2022-11-05T09:55:12.930Z"
   },
   {
    "duration": 28,
    "start_time": "2022-11-05T09:55:13.181Z"
   },
   {
    "duration": 10,
    "start_time": "2022-11-05T09:55:13.210Z"
   },
   {
    "duration": 10,
    "start_time": "2022-11-05T09:55:13.222Z"
   },
   {
    "duration": 9,
    "start_time": "2022-11-05T09:55:13.233Z"
   },
   {
    "duration": 11,
    "start_time": "2022-11-05T09:55:13.244Z"
   }
  ],
  "kernelspec": {
   "display_name": "Python 3 (ipykernel)",
   "language": "python",
   "name": "python3"
  },
  "language_info": {
   "codemirror_mode": {
    "name": "ipython",
    "version": 3
   },
   "file_extension": ".py",
   "mimetype": "text/x-python",
   "name": "python",
   "nbconvert_exporter": "python",
   "pygments_lexer": "ipython3",
   "version": "3.9.12"
  },
  "toc": {
   "base_numbering": 1,
   "nav_menu": {},
   "number_sections": true,
   "sideBar": true,
   "skip_h1_title": true,
   "title_cell": "Table of Contents",
   "title_sidebar": "Contents",
   "toc_cell": false,
   "toc_position": {},
   "toc_section_display": true,
   "toc_window_display": false
  }
 },
 "nbformat": 4,
 "nbformat_minor": 2
}
